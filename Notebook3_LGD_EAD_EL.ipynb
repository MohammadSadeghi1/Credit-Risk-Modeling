{
 "cells": [
  {
   "cell_type": "markdown",
   "id": "40a6cb62",
   "metadata": {},
   "source": [
    "# Importing Libraries"
   ]
  },
  {
   "cell_type": "code",
   "execution_count": 1,
   "id": "6b37350d",
   "metadata": {},
   "outputs": [],
   "source": [
    "import pandas as pd\n",
    "import numpy as np\n",
    "import matplotlib.pyplot as plt\n",
    "import seaborn as sns\n",
    "plt.style.use('seaborn')"
   ]
  },
  {
   "cell_type": "markdown",
   "id": "037fcbaf",
   "metadata": {},
   "source": [
    "# Loading and Merging the Datasets"
   ]
  },
  {
   "cell_type": "code",
   "execution_count": 2,
   "id": "7341e2ee",
   "metadata": {},
   "outputs": [],
   "source": [
    "df_X_train = pd.read_csv('df_inputs_train.csv', index_col=0)\n",
    "df_y_train = pd.read_csv('df_targets_train.csv', index_col=0) \n",
    "df_X_test = pd.read_csv('df_inputs_test.csv', index_col=0)\n",
    "df_y_test = pd.read_csv('df_targets_test.csv', index_col=0) "
   ]
  },
  {
   "cell_type": "code",
   "execution_count": 3,
   "id": "a09664e2",
   "metadata": {},
   "outputs": [],
   "source": [
    "df_prepr_train = pd.concat([df_X_train, df_y_train], axis=1)\n",
    "df_prepr_test = pd.concat([df_X_test, df_y_test], axis=1)"
   ]
  },
  {
   "cell_type": "code",
   "execution_count": 4,
   "id": "bd923b88",
   "metadata": {},
   "outputs": [],
   "source": [
    "df_prepr = pd.concat([df_prepr_train, df_prepr_test])"
   ]
  },
  {
   "cell_type": "code",
   "execution_count": 5,
   "id": "a71aa872",
   "metadata": {},
   "outputs": [],
   "source": [
    "df_prepr_backup = df_prepr.copy()"
   ]
  },
  {
   "cell_type": "code",
   "execution_count": 6,
   "id": "61bfc66c",
   "metadata": {
    "scrolled": true
   },
   "outputs": [
    {
     "data": {
      "text/html": [
       "<div>\n",
       "<style scoped>\n",
       "    .dataframe tbody tr th:only-of-type {\n",
       "        vertical-align: middle;\n",
       "    }\n",
       "\n",
       "    .dataframe tbody tr th {\n",
       "        vertical-align: top;\n",
       "    }\n",
       "\n",
       "    .dataframe thead th {\n",
       "        text-align: right;\n",
       "    }\n",
       "</style>\n",
       "<table border=\"1\" class=\"dataframe\">\n",
       "  <thead>\n",
       "    <tr style=\"text-align: right;\">\n",
       "      <th></th>\n",
       "      <th>id</th>\n",
       "      <th>member_id</th>\n",
       "      <th>loan_amnt</th>\n",
       "      <th>funded_amnt</th>\n",
       "      <th>funded_amnt_inv</th>\n",
       "      <th>term</th>\n",
       "      <th>int_rate</th>\n",
       "      <th>installment</th>\n",
       "      <th>grade</th>\n",
       "      <th>sub_grade</th>\n",
       "      <th>...</th>\n",
       "      <th>mths_since_last_record:3-14</th>\n",
       "      <th>mths_since_last_record:15-21</th>\n",
       "      <th>mths_since_last_record:22-31</th>\n",
       "      <th>mths_since_last_record:32-50</th>\n",
       "      <th>mths_since_last_record:51-70</th>\n",
       "      <th>mths_since_last_record:71-79</th>\n",
       "      <th>mths_since_last_record:80-84</th>\n",
       "      <th>mths_since_last_record:85-96</th>\n",
       "      <th>mths_since_last_record:&gt;=97</th>\n",
       "      <th>good_bad</th>\n",
       "    </tr>\n",
       "  </thead>\n",
       "  <tbody>\n",
       "    <tr>\n",
       "      <th>58619</th>\n",
       "      <td>9011631</td>\n",
       "      <td>10803033</td>\n",
       "      <td>25000</td>\n",
       "      <td>25000</td>\n",
       "      <td>25000.0</td>\n",
       "      <td>36 months</td>\n",
       "      <td>13.67</td>\n",
       "      <td>850.44</td>\n",
       "      <td>B</td>\n",
       "      <td>B5</td>\n",
       "      <td>...</td>\n",
       "      <td>0</td>\n",
       "      <td>0</td>\n",
       "      <td>0</td>\n",
       "      <td>0</td>\n",
       "      <td>0</td>\n",
       "      <td>0</td>\n",
       "      <td>0</td>\n",
       "      <td>0</td>\n",
       "      <td>0</td>\n",
       "      <td>1</td>\n",
       "    </tr>\n",
       "    <tr>\n",
       "      <th>389825</th>\n",
       "      <td>16421396</td>\n",
       "      <td>18503935</td>\n",
       "      <td>7150</td>\n",
       "      <td>7150</td>\n",
       "      <td>7150.0</td>\n",
       "      <td>36 months</td>\n",
       "      <td>10.99</td>\n",
       "      <td>234.05</td>\n",
       "      <td>B</td>\n",
       "      <td>B3</td>\n",
       "      <td>...</td>\n",
       "      <td>0</td>\n",
       "      <td>0</td>\n",
       "      <td>0</td>\n",
       "      <td>0</td>\n",
       "      <td>0</td>\n",
       "      <td>0</td>\n",
       "      <td>0</td>\n",
       "      <td>0</td>\n",
       "      <td>0</td>\n",
       "      <td>1</td>\n",
       "    </tr>\n",
       "    <tr>\n",
       "      <th>119082</th>\n",
       "      <td>6094970</td>\n",
       "      <td>7567123</td>\n",
       "      <td>33950</td>\n",
       "      <td>33950</td>\n",
       "      <td>33950.0</td>\n",
       "      <td>36 months</td>\n",
       "      <td>15.22</td>\n",
       "      <td>1180.55</td>\n",
       "      <td>C</td>\n",
       "      <td>C3</td>\n",
       "      <td>...</td>\n",
       "      <td>0</td>\n",
       "      <td>0</td>\n",
       "      <td>0</td>\n",
       "      <td>0</td>\n",
       "      <td>0</td>\n",
       "      <td>0</td>\n",
       "      <td>0</td>\n",
       "      <td>0</td>\n",
       "      <td>0</td>\n",
       "      <td>0</td>\n",
       "    </tr>\n",
       "    <tr>\n",
       "      <th>232381</th>\n",
       "      <td>37107753</td>\n",
       "      <td>39870543</td>\n",
       "      <td>16800</td>\n",
       "      <td>16800</td>\n",
       "      <td>16800.0</td>\n",
       "      <td>60 months</td>\n",
       "      <td>11.44</td>\n",
       "      <td>368.97</td>\n",
       "      <td>B</td>\n",
       "      <td>B4</td>\n",
       "      <td>...</td>\n",
       "      <td>0</td>\n",
       "      <td>0</td>\n",
       "      <td>0</td>\n",
       "      <td>0</td>\n",
       "      <td>0</td>\n",
       "      <td>0</td>\n",
       "      <td>0</td>\n",
       "      <td>0</td>\n",
       "      <td>0</td>\n",
       "      <td>1</td>\n",
       "    </tr>\n",
       "    <tr>\n",
       "      <th>155122</th>\n",
       "      <td>3733016</td>\n",
       "      <td>4726207</td>\n",
       "      <td>10000</td>\n",
       "      <td>10000</td>\n",
       "      <td>10000.0</td>\n",
       "      <td>36 months</td>\n",
       "      <td>13.11</td>\n",
       "      <td>337.47</td>\n",
       "      <td>B</td>\n",
       "      <td>B4</td>\n",
       "      <td>...</td>\n",
       "      <td>0</td>\n",
       "      <td>0</td>\n",
       "      <td>0</td>\n",
       "      <td>0</td>\n",
       "      <td>0</td>\n",
       "      <td>0</td>\n",
       "      <td>0</td>\n",
       "      <td>0</td>\n",
       "      <td>0</td>\n",
       "      <td>1</td>\n",
       "    </tr>\n",
       "  </tbody>\n",
       "</table>\n",
       "<p>5 rows × 332 columns</p>\n",
       "</div>"
      ],
      "text/plain": [
       "              id  member_id  loan_amnt  funded_amnt  funded_amnt_inv  \\\n",
       "58619    9011631   10803033      25000        25000          25000.0   \n",
       "389825  16421396   18503935       7150         7150           7150.0   \n",
       "119082   6094970    7567123      33950        33950          33950.0   \n",
       "232381  37107753   39870543      16800        16800          16800.0   \n",
       "155122   3733016    4726207      10000        10000          10000.0   \n",
       "\n",
       "              term  int_rate  installment grade sub_grade  ...  \\\n",
       "58619    36 months     13.67       850.44     B        B5  ...   \n",
       "389825   36 months     10.99       234.05     B        B3  ...   \n",
       "119082   36 months     15.22      1180.55     C        C3  ...   \n",
       "232381   60 months     11.44       368.97     B        B4  ...   \n",
       "155122   36 months     13.11       337.47     B        B4  ...   \n",
       "\n",
       "       mths_since_last_record:3-14 mths_since_last_record:15-21  \\\n",
       "58619                            0                            0   \n",
       "389825                           0                            0   \n",
       "119082                           0                            0   \n",
       "232381                           0                            0   \n",
       "155122                           0                            0   \n",
       "\n",
       "       mths_since_last_record:22-31  mths_since_last_record:32-50  \\\n",
       "58619                             0                             0   \n",
       "389825                            0                             0   \n",
       "119082                            0                             0   \n",
       "232381                            0                             0   \n",
       "155122                            0                             0   \n",
       "\n",
       "       mths_since_last_record:51-70 mths_since_last_record:71-79  \\\n",
       "58619                             0                            0   \n",
       "389825                            0                            0   \n",
       "119082                            0                            0   \n",
       "232381                            0                            0   \n",
       "155122                            0                            0   \n",
       "\n",
       "       mths_since_last_record:80-84 mths_since_last_record:85-96  \\\n",
       "58619                             0                            0   \n",
       "389825                            0                            0   \n",
       "119082                            0                            0   \n",
       "232381                            0                            0   \n",
       "155122                            0                            0   \n",
       "\n",
       "       mths_since_last_record:>=97 good_bad  \n",
       "58619                            0        1  \n",
       "389825                           0        1  \n",
       "119082                           0        0  \n",
       "232381                           0        1  \n",
       "155122                           0        1  \n",
       "\n",
       "[5 rows x 332 columns]"
      ]
     },
     "execution_count": 6,
     "metadata": {},
     "output_type": "execute_result"
    }
   ],
   "source": [
    "df_prepr.head()"
   ]
  },
  {
   "cell_type": "code",
   "execution_count": 7,
   "id": "f7e928f0",
   "metadata": {},
   "outputs": [
    {
     "data": {
      "text/html": [
       "<div>\n",
       "<style scoped>\n",
       "    .dataframe tbody tr th:only-of-type {\n",
       "        vertical-align: middle;\n",
       "    }\n",
       "\n",
       "    .dataframe tbody tr th {\n",
       "        vertical-align: top;\n",
       "    }\n",
       "\n",
       "    .dataframe thead th {\n",
       "        text-align: right;\n",
       "    }\n",
       "</style>\n",
       "<table border=\"1\" class=\"dataframe\">\n",
       "  <thead>\n",
       "    <tr style=\"text-align: right;\">\n",
       "      <th></th>\n",
       "      <th>id</th>\n",
       "      <th>member_id</th>\n",
       "      <th>loan_amnt</th>\n",
       "      <th>funded_amnt</th>\n",
       "      <th>funded_amnt_inv</th>\n",
       "      <th>term</th>\n",
       "      <th>int_rate</th>\n",
       "      <th>installment</th>\n",
       "      <th>grade</th>\n",
       "      <th>sub_grade</th>\n",
       "      <th>...</th>\n",
       "      <th>mths_since_last_record:3-14</th>\n",
       "      <th>mths_since_last_record:15-21</th>\n",
       "      <th>mths_since_last_record:22-31</th>\n",
       "      <th>mths_since_last_record:32-50</th>\n",
       "      <th>mths_since_last_record:51-70</th>\n",
       "      <th>mths_since_last_record:71-79</th>\n",
       "      <th>mths_since_last_record:80-84</th>\n",
       "      <th>mths_since_last_record:85-96</th>\n",
       "      <th>mths_since_last_record:&gt;=97</th>\n",
       "      <th>good_bad</th>\n",
       "    </tr>\n",
       "  </thead>\n",
       "  <tbody>\n",
       "    <tr>\n",
       "      <th>58619</th>\n",
       "      <td>9011631</td>\n",
       "      <td>10803033</td>\n",
       "      <td>25000</td>\n",
       "      <td>25000</td>\n",
       "      <td>25000.0</td>\n",
       "      <td>36 months</td>\n",
       "      <td>13.67</td>\n",
       "      <td>850.44</td>\n",
       "      <td>B</td>\n",
       "      <td>B5</td>\n",
       "      <td>...</td>\n",
       "      <td>0</td>\n",
       "      <td>0</td>\n",
       "      <td>0</td>\n",
       "      <td>0</td>\n",
       "      <td>0</td>\n",
       "      <td>0</td>\n",
       "      <td>0</td>\n",
       "      <td>0</td>\n",
       "      <td>0</td>\n",
       "      <td>1</td>\n",
       "    </tr>\n",
       "    <tr>\n",
       "      <th>389825</th>\n",
       "      <td>16421396</td>\n",
       "      <td>18503935</td>\n",
       "      <td>7150</td>\n",
       "      <td>7150</td>\n",
       "      <td>7150.0</td>\n",
       "      <td>36 months</td>\n",
       "      <td>10.99</td>\n",
       "      <td>234.05</td>\n",
       "      <td>B</td>\n",
       "      <td>B3</td>\n",
       "      <td>...</td>\n",
       "      <td>0</td>\n",
       "      <td>0</td>\n",
       "      <td>0</td>\n",
       "      <td>0</td>\n",
       "      <td>0</td>\n",
       "      <td>0</td>\n",
       "      <td>0</td>\n",
       "      <td>0</td>\n",
       "      <td>0</td>\n",
       "      <td>1</td>\n",
       "    </tr>\n",
       "    <tr>\n",
       "      <th>119082</th>\n",
       "      <td>6094970</td>\n",
       "      <td>7567123</td>\n",
       "      <td>33950</td>\n",
       "      <td>33950</td>\n",
       "      <td>33950.0</td>\n",
       "      <td>36 months</td>\n",
       "      <td>15.22</td>\n",
       "      <td>1180.55</td>\n",
       "      <td>C</td>\n",
       "      <td>C3</td>\n",
       "      <td>...</td>\n",
       "      <td>0</td>\n",
       "      <td>0</td>\n",
       "      <td>0</td>\n",
       "      <td>0</td>\n",
       "      <td>0</td>\n",
       "      <td>0</td>\n",
       "      <td>0</td>\n",
       "      <td>0</td>\n",
       "      <td>0</td>\n",
       "      <td>0</td>\n",
       "    </tr>\n",
       "    <tr>\n",
       "      <th>232381</th>\n",
       "      <td>37107753</td>\n",
       "      <td>39870543</td>\n",
       "      <td>16800</td>\n",
       "      <td>16800</td>\n",
       "      <td>16800.0</td>\n",
       "      <td>60 months</td>\n",
       "      <td>11.44</td>\n",
       "      <td>368.97</td>\n",
       "      <td>B</td>\n",
       "      <td>B4</td>\n",
       "      <td>...</td>\n",
       "      <td>0</td>\n",
       "      <td>0</td>\n",
       "      <td>0</td>\n",
       "      <td>0</td>\n",
       "      <td>0</td>\n",
       "      <td>0</td>\n",
       "      <td>0</td>\n",
       "      <td>0</td>\n",
       "      <td>0</td>\n",
       "      <td>1</td>\n",
       "    </tr>\n",
       "    <tr>\n",
       "      <th>155122</th>\n",
       "      <td>3733016</td>\n",
       "      <td>4726207</td>\n",
       "      <td>10000</td>\n",
       "      <td>10000</td>\n",
       "      <td>10000.0</td>\n",
       "      <td>36 months</td>\n",
       "      <td>13.11</td>\n",
       "      <td>337.47</td>\n",
       "      <td>B</td>\n",
       "      <td>B4</td>\n",
       "      <td>...</td>\n",
       "      <td>0</td>\n",
       "      <td>0</td>\n",
       "      <td>0</td>\n",
       "      <td>0</td>\n",
       "      <td>0</td>\n",
       "      <td>0</td>\n",
       "      <td>0</td>\n",
       "      <td>0</td>\n",
       "      <td>0</td>\n",
       "      <td>1</td>\n",
       "    </tr>\n",
       "  </tbody>\n",
       "</table>\n",
       "<p>5 rows × 332 columns</p>\n",
       "</div>"
      ],
      "text/plain": [
       "              id  member_id  loan_amnt  funded_amnt  funded_amnt_inv  \\\n",
       "58619    9011631   10803033      25000        25000          25000.0   \n",
       "389825  16421396   18503935       7150         7150           7150.0   \n",
       "119082   6094970    7567123      33950        33950          33950.0   \n",
       "232381  37107753   39870543      16800        16800          16800.0   \n",
       "155122   3733016    4726207      10000        10000          10000.0   \n",
       "\n",
       "              term  int_rate  installment grade sub_grade  ...  \\\n",
       "58619    36 months     13.67       850.44     B        B5  ...   \n",
       "389825   36 months     10.99       234.05     B        B3  ...   \n",
       "119082   36 months     15.22      1180.55     C        C3  ...   \n",
       "232381   60 months     11.44       368.97     B        B4  ...   \n",
       "155122   36 months     13.11       337.47     B        B4  ...   \n",
       "\n",
       "       mths_since_last_record:3-14 mths_since_last_record:15-21  \\\n",
       "58619                            0                            0   \n",
       "389825                           0                            0   \n",
       "119082                           0                            0   \n",
       "232381                           0                            0   \n",
       "155122                           0                            0   \n",
       "\n",
       "       mths_since_last_record:22-31  mths_since_last_record:32-50  \\\n",
       "58619                             0                             0   \n",
       "389825                            0                             0   \n",
       "119082                            0                             0   \n",
       "232381                            0                             0   \n",
       "155122                            0                             0   \n",
       "\n",
       "       mths_since_last_record:51-70 mths_since_last_record:71-79  \\\n",
       "58619                             0                            0   \n",
       "389825                            0                            0   \n",
       "119082                            0                            0   \n",
       "232381                            0                            0   \n",
       "155122                            0                            0   \n",
       "\n",
       "       mths_since_last_record:80-84 mths_since_last_record:85-96  \\\n",
       "58619                             0                            0   \n",
       "389825                            0                            0   \n",
       "119082                            0                            0   \n",
       "232381                            0                            0   \n",
       "155122                            0                            0   \n",
       "\n",
       "       mths_since_last_record:>=97 good_bad  \n",
       "58619                            0        1  \n",
       "389825                           0        1  \n",
       "119082                           0        0  \n",
       "232381                           0        1  \n",
       "155122                           0        1  \n",
       "\n",
       "[5 rows x 332 columns]"
      ]
     },
     "execution_count": 7,
     "metadata": {},
     "output_type": "execute_result"
    }
   ],
   "source": [
    "df_prepr.head()"
   ]
  },
  {
   "cell_type": "code",
   "execution_count": 8,
   "id": "1bea8bef",
   "metadata": {},
   "outputs": [
    {
     "data": {
      "text/plain": [
       "Index(['id', 'member_id', 'loan_amnt', 'funded_amnt', 'funded_amnt_inv',\n",
       "       'term', 'int_rate', 'installment', 'grade', 'sub_grade',\n",
       "       ...\n",
       "       'mths_since_last_record:3-14', 'mths_since_last_record:15-21',\n",
       "       'mths_since_last_record:22-31', 'mths_since_last_record:32-50',\n",
       "       'mths_since_last_record:51-70', 'mths_since_last_record:71-79',\n",
       "       'mths_since_last_record:80-84', 'mths_since_last_record:85-96',\n",
       "       'mths_since_last_record:>=97', 'good_bad'],\n",
       "      dtype='object', length=332)"
      ]
     },
     "execution_count": 8,
     "metadata": {},
     "output_type": "execute_result"
    }
   ],
   "source": [
    "df_prepr.columns"
   ]
  },
  {
   "cell_type": "code",
   "execution_count": 9,
   "id": "e51c69ac",
   "metadata": {},
   "outputs": [],
   "source": [
    "df_defaults = df_prepr[df_prepr['loan_status'].isin(['Charged Off', 'Does not meet the credit policy. Status:Charged Off'])]\n",
    "# 'Late (31-120 days)' and 'Default' are not included"
   ]
  },
  {
   "cell_type": "code",
   "execution_count": 10,
   "id": "e4ea1e1d",
   "metadata": {},
   "outputs": [
    {
     "data": {
      "text/plain": [
       "(43236, 332)"
      ]
     },
     "execution_count": 10,
     "metadata": {},
     "output_type": "execute_result"
    }
   ],
   "source": [
    "df_defaults.shape"
   ]
  },
  {
   "cell_type": "code",
   "execution_count": 11,
   "id": "2059f271",
   "metadata": {},
   "outputs": [],
   "source": [
    "pd.set_option('display.max_rows', None)"
   ]
  },
  {
   "cell_type": "code",
   "execution_count": 12,
   "id": "4c34acb9",
   "metadata": {},
   "outputs": [
    {
     "data": {
      "text/plain": [
       "id                                                                     0\n",
       "member_id                                                              0\n",
       "loan_amnt                                                              0\n",
       "funded_amnt                                                            0\n",
       "funded_amnt_inv                                                        0\n",
       "term                                                                   0\n",
       "int_rate                                                               0\n",
       "installment                                                            0\n",
       "grade                                                                  0\n",
       "sub_grade                                                              0\n",
       "emp_title                                                           3287\n",
       "emp_length                                                          2337\n",
       "home_ownership                                                         0\n",
       "annual_inc                                                             0\n",
       "verification_status                                                    0\n",
       "issue_d                                                                0\n",
       "loan_status                                                            0\n",
       "pymnt_plan                                                             0\n",
       "url                                                                    0\n",
       "desc                                                               27396\n",
       "purpose                                                                0\n",
       "title                                                                  3\n",
       "zip_code                                                               0\n",
       "addr_state                                                             0\n",
       "dti                                                                    0\n",
       "delinq_2yrs                                                            0\n",
       "earliest_cr_line                                                       3\n",
       "inq_last_6mths                                                         0\n",
       "mths_since_last_delinq                                             23950\n",
       "mths_since_last_record                                             37821\n",
       "open_acc                                                               0\n",
       "pub_rec                                                                0\n",
       "revol_bal                                                              0\n",
       "revol_util                                                            53\n",
       "total_acc                                                              0\n",
       "initial_list_status                                                    0\n",
       "out_prncp                                                              0\n",
       "out_prncp_inv                                                          0\n",
       "total_pymnt                                                            0\n",
       "total_pymnt_inv                                                        0\n",
       "total_rec_prncp                                                        0\n",
       "total_rec_int                                                          0\n",
       "total_rec_late_fee                                                     0\n",
       "recoveries                                                             0\n",
       "collection_recovery_fee                                                0\n",
       "last_pymnt_d                                                         376\n",
       "last_pymnt_amnt                                                        0\n",
       "next_pymnt_d                                                       42475\n",
       "last_credit_pull_d                                                     6\n",
       "collections_12_mths_ex_med                                            28\n",
       "mths_since_last_major_derog                                        35283\n",
       "policy_code                                                            0\n",
       "application_type                                                       0\n",
       "annual_inc_joint                                                   43236\n",
       "dti_joint                                                          43236\n",
       "verification_status_joint                                          43236\n",
       "acc_now_delinq                                                         0\n",
       "tot_coll_amt                                                       10780\n",
       "tot_cur_bal                                                        10780\n",
       "open_acc_6m                                                        43236\n",
       "open_il_6m                                                         43236\n",
       "open_il_12m                                                        43236\n",
       "open_il_24m                                                        43236\n",
       "mths_since_rcnt_il                                                 43236\n",
       "total_bal_il                                                       43236\n",
       "il_util                                                            43236\n",
       "open_rv_12m                                                        43236\n",
       "open_rv_24m                                                        43236\n",
       "max_bal_bc                                                         43236\n",
       "all_util                                                           43236\n",
       "total_rev_hi_lim                                                       0\n",
       "inq_fi                                                             43236\n",
       "total_cu_tl                                                        43236\n",
       "inq_last_12m                                                       43236\n",
       "emp_length_int                                                         0\n",
       "earliest_cr_line_date                                                  3\n",
       "mths_since_earliest_cr_line                                            0\n",
       "term_int                                                               0\n",
       "issue_d_date                                                           0\n",
       "mths_since_issue_d                                                     0\n",
       "addr_state:AK                                                          0\n",
       "addr_state:AL                                                          0\n",
       "addr_state:AR                                                          0\n",
       "addr_state:AZ                                                          0\n",
       "addr_state:CA                                                          0\n",
       "addr_state:CO                                                          0\n",
       "addr_state:CT                                                          0\n",
       "addr_state:DC                                                          0\n",
       "addr_state:DE                                                          0\n",
       "addr_state:FL                                                          0\n",
       "addr_state:GA                                                          0\n",
       "addr_state:HI                                                          0\n",
       "addr_state:IA                                                          0\n",
       "addr_state:ID                                                          0\n",
       "addr_state:IL                                                          0\n",
       "addr_state:IN                                                          0\n",
       "addr_state:KS                                                          0\n",
       "addr_state:KY                                                          0\n",
       "addr_state:LA                                                          0\n",
       "addr_state:MA                                                          0\n",
       "addr_state:MD                                                          0\n",
       "addr_state:ME                                                          0\n",
       "addr_state:MI                                                          0\n",
       "addr_state:MN                                                          0\n",
       "addr_state:MO                                                          0\n",
       "addr_state:MS                                                          0\n",
       "addr_state:MT                                                          0\n",
       "addr_state:NC                                                          0\n",
       "addr_state:NE                                                          0\n",
       "addr_state:NH                                                          0\n",
       "addr_state:NJ                                                          0\n",
       "addr_state:NM                                                          0\n",
       "addr_state:NV                                                          0\n",
       "addr_state:NY                                                          0\n",
       "addr_state:OH                                                          0\n",
       "addr_state:OK                                                          0\n",
       "addr_state:OR                                                          0\n",
       "addr_state:PA                                                          0\n",
       "addr_state:RI                                                          0\n",
       "addr_state:SC                                                          0\n",
       "addr_state:SD                                                          0\n",
       "addr_state:TN                                                          0\n",
       "addr_state:TX                                                          0\n",
       "addr_state:UT                                                          0\n",
       "addr_state:VA                                                          0\n",
       "addr_state:VT                                                          0\n",
       "addr_state:WA                                                          0\n",
       "addr_state:WI                                                          0\n",
       "addr_state:WV                                                          0\n",
       "addr_state:WY                                                          0\n",
       "grade:A                                                                0\n",
       "grade:B                                                                0\n",
       "grade:C                                                                0\n",
       "grade:D                                                                0\n",
       "grade:E                                                                0\n",
       "grade:F                                                                0\n",
       "grade:G                                                                0\n",
       "home_ownership:ANY                                                     0\n",
       "home_ownership:MORTGAGE                                                0\n",
       "home_ownership:NONE                                                    0\n",
       "home_ownership:OTHER                                                   0\n",
       "home_ownership:OWN                                                     0\n",
       "home_ownership:RENT                                                    0\n",
       "initial_list_status:f                                                  0\n",
       "initial_list_status:w                                                  0\n",
       "loan_status:Charged Off                                                0\n",
       "loan_status:Current                                                    0\n",
       "loan_status:Default                                                    0\n",
       "loan_status:Does not meet the credit policy. Status:Charged Off        0\n",
       "loan_status:Does not meet the credit policy. Status:Fully Paid         0\n",
       "loan_status:Fully Paid                                                 0\n",
       "loan_status:In Grace Period                                            0\n",
       "loan_status:Late (16-30 days)                                          0\n",
       "loan_status:Late (31-120 days)                                         0\n",
       "purpose:car                                                            0\n",
       "purpose:credit_card                                                    0\n",
       "purpose:debt_consolidation                                             0\n",
       "purpose:educational                                                    0\n",
       "purpose:home_improvement                                               0\n",
       "purpose:house                                                          0\n",
       "purpose:major_purchase                                                 0\n",
       "purpose:medical                                                        0\n",
       "purpose:moving                                                         0\n",
       "purpose:other                                                          0\n",
       "purpose:renewable_energy                                               0\n",
       "purpose:small_business                                                 0\n",
       "purpose:vacation                                                       0\n",
       "purpose:wedding                                                        0\n",
       "sub_grade:A1                                                           0\n",
       "sub_grade:A2                                                           0\n",
       "sub_grade:A3                                                           0\n",
       "sub_grade:A4                                                           0\n",
       "sub_grade:A5                                                           0\n",
       "sub_grade:B1                                                           0\n",
       "sub_grade:B2                                                           0\n",
       "sub_grade:B3                                                           0\n",
       "sub_grade:B4                                                           0\n",
       "sub_grade:B5                                                           0\n",
       "sub_grade:C1                                                           0\n",
       "sub_grade:C2                                                           0\n",
       "sub_grade:C3                                                           0\n",
       "sub_grade:C4                                                           0\n",
       "sub_grade:C5                                                           0\n",
       "sub_grade:D1                                                           0\n",
       "sub_grade:D2                                                           0\n",
       "sub_grade:D3                                                           0\n",
       "sub_grade:D4                                                           0\n",
       "sub_grade:D5                                                           0\n",
       "sub_grade:E1                                                           0\n",
       "sub_grade:E2                                                           0\n",
       "sub_grade:E3                                                           0\n",
       "sub_grade:E4                                                           0\n",
       "sub_grade:E5                                                           0\n",
       "sub_grade:F1                                                           0\n",
       "sub_grade:F2                                                           0\n",
       "sub_grade:F3                                                           0\n",
       "sub_grade:F4                                                           0\n",
       "sub_grade:F5                                                           0\n",
       "sub_grade:G1                                                           0\n",
       "sub_grade:G2                                                           0\n",
       "sub_grade:G3                                                           0\n",
       "sub_grade:G4                                                           0\n",
       "sub_grade:G5                                                           0\n",
       "verification_status:Not Verified                                       0\n",
       "verification_status:Source Verified                                    0\n",
       "verification_status:Verified                                           0\n",
       "home_ownership:OTHER_NONE_RENT_ANY                                     0\n",
       "addr_state:ND                                                          0\n",
       "addr_state:ND_NE_IA_NV_FL_HI_AL                                        0\n",
       "addr_state:NM_VA                                                       0\n",
       "addr_state:OK_TN_MO_LA_MD_NC                                           0\n",
       "addr_state:UT_KY_AZ_NJ                                                 0\n",
       "addr_state:AR_MI_PA_OH_MN                                              0\n",
       "addr_state:RI_MA_DE_SD_IN                                              0\n",
       "addr_state:GA_WA_OR                                                    0\n",
       "addr_state:WI_MT                                                       0\n",
       "addr_state:IL_CT                                                       0\n",
       "addr_state:KS_SC_CO_VT_AK_MS                                           0\n",
       "addr_state:WV_NH_WY_DC_ME_ID                                           0\n",
       "purpose:sm_b__edu__mov__ren_en__house__oth                             0\n",
       "purpose:med__wed__vacation                                             0\n",
       "purpose:home_impr__major_purch__car                                    0\n",
       "term:36                                                                0\n",
       "term:60                                                                0\n",
       "emp_length:0                                                           0\n",
       "emp_length:1                                                           0\n",
       "emp_length:2-4                                                         0\n",
       "emp_length:5-6                                                         0\n",
       "emp_length:7-9                                                         0\n",
       "emp_length:10                                                          0\n",
       "mths_since_issue_d_factor                                              0\n",
       "mths_since_issue_d:<104                                                0\n",
       "mths_since_issue_d:104-105                                             0\n",
       "mths_since_issue_d:105-110                                             0\n",
       "mths_since_issue_d:110-114                                             0\n",
       "mths_since_issue_d:114-125                                             0\n",
       "mths_since_issue_d:125-134                                             0\n",
       "mths_since_issue_d:134-153                                             0\n",
       "mths_since_issue_d:153-170                                             0\n",
       "mths_since_issue_d:170-186                                             0\n",
       "mths_since_issue_d:>=186                                               0\n",
       "int_rate_factor                                                        0\n",
       "int_rate:<=9.548                                                       0\n",
       "int_rate:9.548-12.025                                                  0\n",
       "int_rate:12.025-15.74                                                  0\n",
       "int_rate:15.74-21.106                                                  0\n",
       "int_rate:>21.106                                                       0\n",
       "funded_amnt_factor                                                     0\n",
       "mths_since_earliest_cr_line_factor                                     0\n",
       "mths_since_earliest_cr_line:<304                                       0\n",
       "mths_since_earliest_cr_line:304-418                                    0\n",
       "mths_since_earliest_cr_line:418-493                                    0\n",
       "mths_since_earliest_cr_line:493-512                                    0\n",
       "mths_since_earliest_cr_line:512-607                                    0\n",
       "mths_since_earliest_cr_line:607-664                                    0\n",
       "mths_since_earliest_cr_line:>=664                                      0\n",
       "delinq_2yrs:0                                                          0\n",
       "delinq_2yrs:1-3                                                        0\n",
       "delinq_2yrs:>=4                                                        0\n",
       "inq_last_6mths:0                                                       0\n",
       "inq_last_6mths:1-2                                                     0\n",
       "inq_last_6mths:3-6                                                     0\n",
       "inq_last_6mths:>6                                                      0\n",
       "open_acc:0                                                             0\n",
       "open_acc:1-3                                                           0\n",
       "open_acc:4-12                                                          0\n",
       "open_acc:13-24                                                         0\n",
       "open_acc:25-32                                                         0\n",
       "open_acc:>=33                                                          0\n",
       "pub_rec:0-2                                                            0\n",
       "pub_rec:3-5                                                            0\n",
       "pub_rec:>=6                                                            0\n",
       "total_acc_factor                                                       0\n",
       "total_acc:<=21                                                         0\n",
       "total_acc:22-63                                                        0\n",
       "total_acc:>=64                                                         0\n",
       "acc_now_delinq:0                                                       0\n",
       "acc_now_delinq:>=1                                                     0\n",
       "total_rev_hi_lim_factor                                                0\n",
       "total_rev_hi_lim:<=5K                                                  0\n",
       "total_rev_hi_lim:5K-10K                                                0\n",
       "total_rev_hi_lim:10K-20K                                               0\n",
       "total_rev_hi_lim:20K-30K                                               0\n",
       "total_rev_hi_lim:30K-40K                                               0\n",
       "total_rev_hi_lim:40K-55K                                               0\n",
       "total_rev_hi_lim:55K-95K                                               0\n",
       "total_rev_hi_lim:>95K                                                  0\n",
       "installment_factor                                                     0\n",
       "annual_inc_factor                                                      0\n",
       "annual_inc:<20K                                                        0\n",
       "annual_inc:20K-30K                                                     0\n",
       "annual_inc:30K-40K                                                     0\n",
       "annual_inc:40K-50K                                                     0\n",
       "annual_inc:50K-60K                                                     0\n",
       "annual_inc:60K-70K                                                     0\n",
       "annual_inc:70K-80K                                                     0\n",
       "annual_inc:80K-90K                                                     0\n",
       "annual_inc:90K-100K                                                    0\n",
       "annual_inc:100K-120K                                                   0\n",
       "annual_inc:120K-150K                                                   0\n",
       "annual_inc:>150K                                                       0\n",
       "mths_since_last_delinq:Missing                                         0\n",
       "mths_since_last_delinq:0-3                                             0\n",
       "mths_since_last_delinq:4-22                                            0\n",
       "mths_since_last_delinq:23-37                                           0\n",
       "mths_since_last_delinq:38-56                                           0\n",
       "mths_since_last_delinq:57-60                                           0\n",
       "mths_since_last_delinq:61-82                                           0\n",
       "mths_since_last_delinq:>=83                                            0\n",
       "dti_factor                                                             0\n",
       "dti:<=1.4                                                              0\n",
       "dti:1.4-3.5                                                            0\n",
       "dti:3.5-8.4                                                            0\n",
       "dti:8.4-10.5                                                           0\n",
       "dti:10.5-15.4                                                          0\n",
       "dti:15.4-18.2                                                          0\n",
       "dti:18.2-21.7                                                          0\n",
       "dti:21.7-26.6                                                          0\n",
       "dti:26.6-35                                                            0\n",
       "dti:>35                                                                0\n",
       "mths_since_last_record:Missing                                         0\n",
       "mths_since_last_record:0-2                                             0\n",
       "mths_since_last_record:3-14                                            0\n",
       "mths_since_last_record:15-21                                           0\n",
       "mths_since_last_record:22-31                                           0\n",
       "mths_since_last_record:32-50                                           0\n",
       "mths_since_last_record:51-70                                           0\n",
       "mths_since_last_record:71-79                                           0\n",
       "mths_since_last_record:80-84                                           0\n",
       "mths_since_last_record:85-96                                           0\n",
       "mths_since_last_record:>=97                                            0\n",
       "good_bad                                                               0\n",
       "dtype: int64"
      ]
     },
     "execution_count": 12,
     "metadata": {},
     "output_type": "execute_result"
    }
   ],
   "source": [
    "df_defaults.isnull().sum()                  "
   ]
  },
  {
   "cell_type": "code",
   "execution_count": 13,
   "id": "4593fdff",
   "metadata": {},
   "outputs": [
    {
     "name": "stderr",
     "output_type": "stream",
     "text": [
      "C:\\Users\\m10sa\\anaconda3\\lib\\site-packages\\pandas\\core\\series.py:4463: SettingWithCopyWarning: \n",
      "A value is trying to be set on a copy of a slice from a DataFrame\n",
      "\n",
      "See the caveats in the documentation: https://pandas.pydata.org/pandas-docs/stable/user_guide/indexing.html#returning-a-view-versus-a-copy\n",
      "  return super().fillna(\n"
     ]
    }
   ],
   "source": [
    "df_defaults['mths_since_last_delinq'].fillna(0, inplace=True)\n",
    "df_defaults['mths_since_last_record'].fillna(0, inplace=True)"
   ]
  },
  {
   "cell_type": "markdown",
   "id": "acf52e0a",
   "metadata": {},
   "source": [
    "# Recovery Rate (RR) and Credit Conversion Factor (CCF)"
   ]
  },
  {
   "cell_type": "code",
   "execution_count": 14,
   "id": "4c6e3585",
   "metadata": {
    "scrolled": false
   },
   "outputs": [
    {
     "name": "stderr",
     "output_type": "stream",
     "text": [
      "<ipython-input-14-458995871dfb>:2: SettingWithCopyWarning: \n",
      "A value is trying to be set on a copy of a slice from a DataFrame.\n",
      "Try using .loc[row_indexer,col_indexer] = value instead\n",
      "\n",
      "See the caveats in the documentation: https://pandas.pydata.org/pandas-docs/stable/user_guide/indexing.html#returning-a-view-versus-a-copy\n",
      "  df_defaults['RR'] = df_defaults['recoveries'] / df_defaults['funded_amnt']\n"
     ]
    }
   ],
   "source": [
    "# RR = recovery rate\n",
    "df_defaults['RR'] = df_defaults['recoveries'] / df_defaults['funded_amnt']"
   ]
  },
  {
   "cell_type": "code",
   "execution_count": 15,
   "id": "d6b94ffe",
   "metadata": {},
   "outputs": [
    {
     "data": {
      "text/plain": [
       "count    43236.000000\n",
       "mean         0.060820\n",
       "std          0.089770\n",
       "min          0.000000\n",
       "25%          0.000000\n",
       "50%          0.029466\n",
       "75%          0.114044\n",
       "max          1.220774\n",
       "Name: RR, dtype: float64"
      ]
     },
     "execution_count": 15,
     "metadata": {},
     "output_type": "execute_result"
    }
   ],
   "source": [
    "df_defaults['RR'].describe()"
   ]
  },
  {
   "cell_type": "code",
   "execution_count": 16,
   "id": "7bbe8a74",
   "metadata": {},
   "outputs": [
    {
     "name": "stderr",
     "output_type": "stream",
     "text": [
      "<ipython-input-16-0b00a9143a84>:1: SettingWithCopyWarning: \n",
      "A value is trying to be set on a copy of a slice from a DataFrame.\n",
      "Try using .loc[row_indexer,col_indexer] = value instead\n",
      "\n",
      "See the caveats in the documentation: https://pandas.pydata.org/pandas-docs/stable/user_guide/indexing.html#returning-a-view-versus-a-copy\n",
      "  df_defaults['RR'] = np.where(df_defaults['RR'] > 1, 1, df_defaults['RR'])\n",
      "<ipython-input-16-0b00a9143a84>:2: SettingWithCopyWarning: \n",
      "A value is trying to be set on a copy of a slice from a DataFrame.\n",
      "Try using .loc[row_indexer,col_indexer] = value instead\n",
      "\n",
      "See the caveats in the documentation: https://pandas.pydata.org/pandas-docs/stable/user_guide/indexing.html#returning-a-view-versus-a-copy\n",
      "  df_defaults['RR'] = np.where(df_defaults['RR'] < 0, 0, df_defaults['RR'])\n"
     ]
    }
   ],
   "source": [
    "df_defaults['RR'] = np.where(df_defaults['RR'] > 1, 1, df_defaults['RR'])\n",
    "df_defaults['RR'] = np.where(df_defaults['RR'] < 0, 0, df_defaults['RR'])"
   ]
  },
  {
   "cell_type": "code",
   "execution_count": 17,
   "id": "12896281",
   "metadata": {
    "scrolled": false
   },
   "outputs": [
    {
     "data": {
      "text/plain": [
       "count    43236.000000\n",
       "mean         0.060770\n",
       "std          0.089202\n",
       "min          0.000000\n",
       "25%          0.000000\n",
       "50%          0.029466\n",
       "75%          0.114044\n",
       "max          1.000000\n",
       "Name: RR, dtype: float64"
      ]
     },
     "execution_count": 17,
     "metadata": {},
     "output_type": "execute_result"
    }
   ],
   "source": [
    "df_defaults['RR'].describe()"
   ]
  },
  {
   "cell_type": "code",
   "execution_count": 18,
   "id": "2d0009bd",
   "metadata": {
    "scrolled": true
   },
   "outputs": [
    {
     "data": {
      "image/png": "[encoded data removed]",
      "text/plain": [
       "<Figure size 576x396 with 1 Axes>"
      ]
     },
     "metadata": {},
     "output_type": "display_data"
    }
   ],
   "source": [
    "plt.hist(df_defaults['RR'], bins=50)\n",
    "plt.title('Recovery Rate Distribution', fontdict={'fontweight':'bold', 'fontsize':16})\n",
    "plt.show()"
   ]
  },
  {
   "cell_type": "code",
   "execution_count": 19,
   "id": "17752dfd",
   "metadata": {
    "scrolled": true
   },
   "outputs": [
    {
     "name": "stderr",
     "output_type": "stream",
     "text": [
      "<ipython-input-19-563a008617f9>:1: SettingWithCopyWarning: \n",
      "A value is trying to be set on a copy of a slice from a DataFrame.\n",
      "Try using .loc[row_indexer,col_indexer] = value instead\n",
      "\n",
      "See the caveats in the documentation: https://pandas.pydata.org/pandas-docs/stable/user_guide/indexing.html#returning-a-view-versus-a-copy\n",
      "  df_defaults['RR_bool'] = np.where(df_defaults['RR'] == 0, 0, 1)\n"
     ]
    },
    {
     "data": {
      "text/plain": [
       "119082    1\n",
       "185068    0\n",
       "384618    1\n",
       "323777    0\n",
       "156356    1\n",
       "Name: RR_bool, dtype: int32"
      ]
     },
     "execution_count": 19,
     "metadata": {},
     "output_type": "execute_result"
    }
   ],
   "source": [
    "df_defaults['RR_bool'] = np.where(df_defaults['RR'] == 0, 0, 1)\n",
    "df_defaults['RR_bool'].head()"
   ]
  },
  {
   "cell_type": "code",
   "execution_count": 20,
   "id": "b20fa910",
   "metadata": {
    "scrolled": true
   },
   "outputs": [
    {
     "name": "stderr",
     "output_type": "stream",
     "text": [
      "<ipython-input-20-5fff400468fc>:3: SettingWithCopyWarning: \n",
      "A value is trying to be set on a copy of a slice from a DataFrame.\n",
      "Try using .loc[row_indexer,col_indexer] = value instead\n",
      "\n",
      "See the caveats in the documentation: https://pandas.pydata.org/pandas-docs/stable/user_guide/indexing.html#returning-a-view-versus-a-copy\n",
      "  df_defaults['CCF'] = (df_defaults['funded_amnt'] - df_defaults['total_rec_prncp']) / df_defaults['funded_amnt']\n"
     ]
    }
   ],
   "source": [
    "# CCF = Credit Conversion Factor  (The percentage of the funded amount that the borrowers has not paid at the time of default)\n",
    "# total_rec_prncp = Total Recovered Principal is the total payments made on the principal of the loan.\n",
    "df_defaults['CCF'] = (df_defaults['funded_amnt'] - df_defaults['total_rec_prncp']) / df_defaults['funded_amnt']"
   ]
  },
  {
   "cell_type": "code",
   "execution_count": 21,
   "id": "dc75e5aa",
   "metadata": {
    "scrolled": false
   },
   "outputs": [
    {
     "data": {
      "text/plain": [
       "count    43236.000000\n",
       "mean         0.735952\n",
       "std          0.200742\n",
       "min          0.000438\n",
       "25%          0.632088\n",
       "50%          0.789908\n",
       "75%          0.888543\n",
       "max          1.000000\n",
       "Name: CCF, dtype: float64"
      ]
     },
     "execution_count": 21,
     "metadata": {},
     "output_type": "execute_result"
    }
   ],
   "source": [
    "df_defaults['CCF'].describe()"
   ]
  },
  {
   "cell_type": "code",
   "execution_count": 22,
   "id": "2aecfe21",
   "metadata": {},
   "outputs": [],
   "source": [
    "df_defaults.to_csv('df_defaults.csv')"
   ]
  },
  {
   "cell_type": "code",
   "execution_count": 23,
   "id": "65a76b6f",
   "metadata": {
    "scrolled": true
   },
   "outputs": [
    {
     "data": {
      "image/png": "[encoded data removed]",
      "text/plain": [
       "<Figure size 576x396 with 1 Axes>"
      ]
     },
     "metadata": {},
     "output_type": "display_data"
    }
   ],
   "source": [
    "plt.hist(df_defaults['CCF'], bins=50)\n",
    "plt.title('CCF Distribution', fontdict={'fontweight':'bold', 'fontsize':16})\n",
    "plt.show()"
   ]
  },
  {
   "cell_type": "markdown",
   "id": "fa8c5a9c",
   "metadata": {},
   "source": [
    "# LGD Model"
   ]
  },
  {
   "cell_type": "markdown",
   "id": "23a51c97",
   "metadata": {},
   "source": [
    "### Spiliting data"
   ]
  },
  {
   "cell_type": "code",
   "execution_count": 24,
   "id": "28989f15",
   "metadata": {},
   "outputs": [],
   "source": [
    "from sklearn.model_selection import train_test_split"
   ]
  },
  {
   "cell_type": "code",
   "execution_count": 25,
   "id": "d60b9e7a",
   "metadata": {},
   "outputs": [],
   "source": [
    "X_train_lgd_stage1, X_test_lgd_stage1, y_train_lgd_stage1, y_test_lgd_stage1 = train_test_split(df_defaults.drop(['good_bad', 'RR', 'RR_bool', 'CCF'], axis=1), df_defaults['RR_bool'], test_size=0.1, random_state=42)\n",
    "# We drop the dependent variables"
   ]
  },
  {
   "cell_type": "code",
   "execution_count": 26,
   "id": "99c349aa",
   "metadata": {},
   "outputs": [],
   "source": [
    "# List of all independent variables for the LGD and EAD models.\n",
    "features_all = ['grade:A',\n",
    "'grade:B',\n",
    "'grade:C',\n",
    "'grade:D',\n",
    "'grade:E',\n",
    "'grade:F',\n",
    "'grade:G',\n",
    "'home_ownership:MORTGAGE',\n",
    "'home_ownership:NONE',\n",
    "'home_ownership:OTHER',\n",
    "'home_ownership:OWN',\n",
    "'home_ownership:RENT',\n",
    "'verification_status:Not Verified',\n",
    "'verification_status:Source Verified',\n",
    "'verification_status:Verified',\n",
    "'purpose:car',\n",
    "'purpose:credit_card',\n",
    "'purpose:debt_consolidation',\n",
    "'purpose:educational',\n",
    "'purpose:home_improvement',\n",
    "'purpose:house',\n",
    "'purpose:major_purchase',\n",
    "'purpose:medical',\n",
    "'purpose:moving',\n",
    "'purpose:other',\n",
    "'purpose:renewable_energy',\n",
    "'purpose:small_business',\n",
    "'purpose:vacation',\n",
    "'purpose:wedding',\n",
    "'initial_list_status:f',\n",
    "'initial_list_status:w',\n",
    "'term_int',\n",
    "'emp_length_int',\n",
    "'mths_since_issue_d',\n",
    "'mths_since_earliest_cr_line',\n",
    "'funded_amnt',\n",
    "'int_rate',\n",
    "'installment',\n",
    "'annual_inc',\n",
    "'dti',\n",
    "'delinq_2yrs',\n",
    "'inq_last_6mths',\n",
    "'mths_since_last_delinq',\n",
    "'mths_since_last_record',\n",
    "'open_acc',\n",
    "'pub_rec',\n",
    "'total_acc',\n",
    "'acc_now_delinq',\n",
    "'total_rev_hi_lim']"
   ]
  },
  {
   "cell_type": "code",
   "execution_count": 27,
   "id": "aaa48640",
   "metadata": {},
   "outputs": [],
   "source": [
    "# List of the reference categories. \n",
    "ref_categories = ['grade:G', 'home_ownership:RENT', 'verification_status:Verified',\n",
    "                  'purpose:credit_card','initial_list_status:f']"
   ]
  },
  {
   "cell_type": "markdown",
   "id": "ab49aa92",
   "metadata": {},
   "source": [
    "### LGD Model Stage 1 - Logistic Regression "
   ]
  },
  {
   "cell_type": "code",
   "execution_count": 28,
   "id": "8a75eda4",
   "metadata": {},
   "outputs": [],
   "source": [
    "X_train_lgd_stage1 = X_train_lgd_stage1[features_all]"
   ]
  },
  {
   "cell_type": "code",
   "execution_count": 29,
   "id": "a3c98756",
   "metadata": {},
   "outputs": [],
   "source": [
    "X_train_lgd_stage1 = X_train_lgd_stage1.drop(ref_categories, axis=1)"
   ]
  },
  {
   "cell_type": "code",
   "execution_count": 30,
   "id": "8f211c41",
   "metadata": {},
   "outputs": [
    {
     "data": {
      "text/plain": [
       "0"
      ]
     },
     "execution_count": 30,
     "metadata": {},
     "output_type": "execute_result"
    }
   ],
   "source": [
    "X_train_lgd_stage1.isnull().sum().sum()"
   ]
  },
  {
   "cell_type": "markdown",
   "id": "1d0199c0",
   "metadata": {},
   "source": [
    "### Random Forest"
   ]
  },
  {
   "cell_type": "code",
   "execution_count": 31,
   "id": "3cf30055",
   "metadata": {},
   "outputs": [],
   "source": [
    "from sklearn.ensemble import RandomForestClassifier"
   ]
  },
  {
   "cell_type": "code",
   "execution_count": 32,
   "id": "7a03c6f9",
   "metadata": {},
   "outputs": [
    {
     "data": {
      "text/plain": [
       "RandomForestClassifier(class_weight='balanced')"
      ]
     },
     "execution_count": 32,
     "metadata": {},
     "output_type": "execute_result"
    }
   ],
   "source": [
    "clf_rf_lgd_st1 = RandomForestClassifier(class_weight='balanced')\n",
    "clf_rf_lgd_st1.fit(X_train_lgd_stage1, y_train_lgd_stage1)"
   ]
  },
  {
   "cell_type": "code",
   "execution_count": 33,
   "id": "73249412",
   "metadata": {},
   "outputs": [
    {
     "data": {
      "text/plain": [
       "array([0, 0, 0, ..., 0, 1, 1])"
      ]
     },
     "execution_count": 33,
     "metadata": {},
     "output_type": "execute_result"
    }
   ],
   "source": [
    "y_pred_train_lgd_stage1 = clf_rf_lgd_st1.predict(X_train_lgd_stage1)\n",
    "y_pred_train_lgd_stage1"
   ]
  },
  {
   "cell_type": "code",
   "execution_count": 34,
   "id": "0e20cfbc",
   "metadata": {
    "scrolled": false
   },
   "outputs": [
    {
     "data": {
      "text/plain": [
       "Index(['grade:A', 'grade:B', 'grade:C', 'grade:D', 'grade:E', 'grade:F',\n",
       "       'home_ownership:MORTGAGE', 'home_ownership:NONE',\n",
       "       'home_ownership:OTHER', 'home_ownership:OWN',\n",
       "       'verification_status:Not Verified',\n",
       "       'verification_status:Source Verified', 'purpose:car',\n",
       "       'purpose:debt_consolidation', 'purpose:educational',\n",
       "       'purpose:home_improvement', 'purpose:house', 'purpose:major_purchase',\n",
       "       'purpose:medical', 'purpose:moving', 'purpose:other',\n",
       "       'purpose:renewable_energy', 'purpose:small_business',\n",
       "       'purpose:vacation', 'purpose:wedding', 'initial_list_status:w',\n",
       "       'term_int', 'emp_length_int', 'mths_since_issue_d',\n",
       "       'mths_since_earliest_cr_line', 'funded_amnt', 'int_rate', 'installment',\n",
       "       'annual_inc', 'dti', 'delinq_2yrs', 'inq_last_6mths',\n",
       "       'mths_since_last_delinq', 'mths_since_last_record', 'open_acc',\n",
       "       'pub_rec', 'total_acc', 'acc_now_delinq', 'total_rev_hi_lim'],\n",
       "      dtype='object')"
      ]
     },
     "execution_count": 34,
     "metadata": {},
     "output_type": "execute_result"
    }
   ],
   "source": [
    "features = X_train_lgd_stage1.columns\n",
    "features"
   ]
  },
  {
   "cell_type": "markdown",
   "id": "269ca075",
   "metadata": {},
   "source": [
    "### Testing the Model"
   ]
  },
  {
   "cell_type": "code",
   "execution_count": 35,
   "id": "26ae8df0",
   "metadata": {},
   "outputs": [],
   "source": [
    "X_test_lgd_stage1 = X_test_lgd_stage1[features_all]"
   ]
  },
  {
   "cell_type": "code",
   "execution_count": 36,
   "id": "77693efc",
   "metadata": {},
   "outputs": [],
   "source": [
    "X_test_lgd_stage1 = X_test_lgd_stage1.drop(ref_categories, axis=1)"
   ]
  },
  {
   "cell_type": "code",
   "execution_count": 37,
   "id": "d53278c2",
   "metadata": {},
   "outputs": [
    {
     "data": {
      "text/plain": [
       "array([1, 1, 1, ..., 0, 1, 1])"
      ]
     },
     "execution_count": 37,
     "metadata": {},
     "output_type": "execute_result"
    }
   ],
   "source": [
    "y_pred_test_lgd_stage1 = clf_rf_lgd_st1.predict(X_test_lgd_stage1)\n",
    "y_pred_test_lgd_stage1"
   ]
  },
  {
   "cell_type": "code",
   "execution_count": 38,
   "id": "0bd0b44c",
   "metadata": {},
   "outputs": [
    {
     "data": {
      "text/plain": [
       "array([[0.46, 0.54],\n",
       "       [0.15, 0.85],\n",
       "       [0.45, 0.55],\n",
       "       ...,\n",
       "       [0.5 , 0.5 ],\n",
       "       [0.33, 0.67],\n",
       "       [0.12, 0.88]])"
      ]
     },
     "execution_count": 38,
     "metadata": {},
     "output_type": "execute_result"
    }
   ],
   "source": [
    "y_pred_test_proba_lgd_stage1 = clf_rf_lgd_st1.predict_proba(X_test_lgd_stage1)\n",
    "y_pred_test_proba_lgd_stage1"
   ]
  },
  {
   "cell_type": "code",
   "execution_count": 39,
   "id": "836e0d7d",
   "metadata": {},
   "outputs": [],
   "source": [
    "y_pred_test_proba_lgd_stage1 = y_pred_test_proba_lgd_stage1[:, 1]"
   ]
  },
  {
   "cell_type": "code",
   "execution_count": 40,
   "id": "16378ec0",
   "metadata": {
    "scrolled": true
   },
   "outputs": [
    {
     "data": {
      "text/plain": [
       "array([0.54, 0.85, 0.55, ..., 0.5 , 0.67, 0.88])"
      ]
     },
     "execution_count": 40,
     "metadata": {},
     "output_type": "execute_result"
    }
   ],
   "source": [
    "y_pred_test_proba_lgd_stage1"
   ]
  },
  {
   "cell_type": "code",
   "execution_count": 41,
   "id": "5b8ec753",
   "metadata": {},
   "outputs": [
    {
     "data": {
      "text/plain": [
       "34618     1\n",
       "29482     1\n",
       "116177    0\n",
       "106338    1\n",
       "444443    0\n",
       "401821    0\n",
       "82842     1\n",
       "8436      0\n",
       "447704    0\n",
       "24073     1\n",
       "Name: RR_bool, dtype: int32"
      ]
     },
     "execution_count": 41,
     "metadata": {},
     "output_type": "execute_result"
    }
   ],
   "source": [
    "y_test_lgd_stage1_temp = y_test_lgd_stage1\n",
    "y_test_lgd_stage1_temp.head(10)"
   ]
  },
  {
   "cell_type": "code",
   "execution_count": 42,
   "id": "35b4ec24",
   "metadata": {},
   "outputs": [],
   "source": [
    "y_test_lgd_stage1_temp.reset_index(drop=True, inplace=True)"
   ]
  },
  {
   "cell_type": "code",
   "execution_count": 43,
   "id": "6d79b804",
   "metadata": {},
   "outputs": [
    {
     "data": {
      "text/html": [
       "<div>\n",
       "<style scoped>\n",
       "    .dataframe tbody tr th:only-of-type {\n",
       "        vertical-align: middle;\n",
       "    }\n",
       "\n",
       "    .dataframe tbody tr th {\n",
       "        vertical-align: top;\n",
       "    }\n",
       "\n",
       "    .dataframe thead th {\n",
       "        text-align: right;\n",
       "    }\n",
       "</style>\n",
       "<table border=\"1\" class=\"dataframe\">\n",
       "  <thead>\n",
       "    <tr style=\"text-align: right;\">\n",
       "      <th></th>\n",
       "      <th>y_test_lgd_stage1</th>\n",
       "      <th>y_pred_test_proba_lgd_stage1</th>\n",
       "      <th>y_pred_test_lgd_stage1</th>\n",
       "    </tr>\n",
       "  </thead>\n",
       "  <tbody>\n",
       "    <tr>\n",
       "      <th>0</th>\n",
       "      <td>1</td>\n",
       "      <td>0.54</td>\n",
       "      <td>1</td>\n",
       "    </tr>\n",
       "    <tr>\n",
       "      <th>1</th>\n",
       "      <td>1</td>\n",
       "      <td>0.85</td>\n",
       "      <td>1</td>\n",
       "    </tr>\n",
       "    <tr>\n",
       "      <th>2</th>\n",
       "      <td>0</td>\n",
       "      <td>0.55</td>\n",
       "      <td>1</td>\n",
       "    </tr>\n",
       "    <tr>\n",
       "      <th>3</th>\n",
       "      <td>1</td>\n",
       "      <td>0.54</td>\n",
       "      <td>1</td>\n",
       "    </tr>\n",
       "    <tr>\n",
       "      <th>4</th>\n",
       "      <td>0</td>\n",
       "      <td>0.63</td>\n",
       "      <td>1</td>\n",
       "    </tr>\n",
       "  </tbody>\n",
       "</table>\n",
       "</div>"
      ],
      "text/plain": [
       "   y_test_lgd_stage1  y_pred_test_proba_lgd_stage1  y_pred_test_lgd_stage1\n",
       "0                  1                          0.54                       1\n",
       "1                  1                          0.85                       1\n",
       "2                  0                          0.55                       1\n",
       "3                  1                          0.54                       1\n",
       "4                  0                          0.63                       1"
      ]
     },
     "execution_count": 43,
     "metadata": {},
     "output_type": "execute_result"
    }
   ],
   "source": [
    "df_true_pred_probs = pd.concat([y_test_lgd_stage1_temp, pd.DataFrame(y_pred_test_proba_lgd_stage1), pd.DataFrame(y_pred_test_lgd_stage1)], axis=1)\n",
    "df_true_pred_probs.columns = ['y_test_lgd_stage1', 'y_pred_test_proba_lgd_stage1', 'y_pred_test_lgd_stage1']\n",
    "df_true_pred_probs.head()"
   ]
  },
  {
   "cell_type": "code",
   "execution_count": 44,
   "id": "79319b59",
   "metadata": {},
   "outputs": [],
   "source": [
    "df_true_pred_probs.index = X_test_lgd_stage1.index"
   ]
  },
  {
   "cell_type": "code",
   "execution_count": 45,
   "id": "d913b16b",
   "metadata": {},
   "outputs": [
    {
     "data": {
      "text/html": [
       "<div>\n",
       "<style scoped>\n",
       "    .dataframe tbody tr th:only-of-type {\n",
       "        vertical-align: middle;\n",
       "    }\n",
       "\n",
       "    .dataframe tbody tr th {\n",
       "        vertical-align: top;\n",
       "    }\n",
       "\n",
       "    .dataframe thead th {\n",
       "        text-align: right;\n",
       "    }\n",
       "</style>\n",
       "<table border=\"1\" class=\"dataframe\">\n",
       "  <thead>\n",
       "    <tr style=\"text-align: right;\">\n",
       "      <th></th>\n",
       "      <th>y_test_lgd_stage1</th>\n",
       "      <th>y_pred_test_proba_lgd_stage1</th>\n",
       "      <th>y_pred_test_lgd_stage1</th>\n",
       "    </tr>\n",
       "  </thead>\n",
       "  <tbody>\n",
       "    <tr>\n",
       "      <th>34618</th>\n",
       "      <td>1</td>\n",
       "      <td>0.54</td>\n",
       "      <td>1</td>\n",
       "    </tr>\n",
       "    <tr>\n",
       "      <th>29482</th>\n",
       "      <td>1</td>\n",
       "      <td>0.85</td>\n",
       "      <td>1</td>\n",
       "    </tr>\n",
       "    <tr>\n",
       "      <th>116177</th>\n",
       "      <td>0</td>\n",
       "      <td>0.55</td>\n",
       "      <td>1</td>\n",
       "    </tr>\n",
       "    <tr>\n",
       "      <th>106338</th>\n",
       "      <td>1</td>\n",
       "      <td>0.54</td>\n",
       "      <td>1</td>\n",
       "    </tr>\n",
       "    <tr>\n",
       "      <th>444443</th>\n",
       "      <td>0</td>\n",
       "      <td>0.63</td>\n",
       "      <td>1</td>\n",
       "    </tr>\n",
       "  </tbody>\n",
       "</table>\n",
       "</div>"
      ],
      "text/plain": [
       "        y_test_lgd_stage1  y_pred_test_proba_lgd_stage1  \\\n",
       "34618                   1                          0.54   \n",
       "29482                   1                          0.85   \n",
       "116177                  0                          0.55   \n",
       "106338                  1                          0.54   \n",
       "444443                  0                          0.63   \n",
       "\n",
       "        y_pred_test_lgd_stage1  \n",
       "34618                        1  \n",
       "29482                        1  \n",
       "116177                       1  \n",
       "106338                       1  \n",
       "444443                       1  "
      ]
     },
     "execution_count": 45,
     "metadata": {},
     "output_type": "execute_result"
    }
   ],
   "source": [
    "df_true_pred_probs.head()"
   ]
  },
  {
   "cell_type": "markdown",
   "id": "af19d950",
   "metadata": {},
   "source": [
    "### Measuring the Accuracy of the Model"
   ]
  },
  {
   "cell_type": "code",
   "execution_count": 46,
   "id": "15ffca34",
   "metadata": {},
   "outputs": [],
   "source": [
    "from sklearn.metrics import accuracy_score, f1_score, confusion_matrix, roc_curve, roc_auc_score"
   ]
  },
  {
   "cell_type": "code",
   "execution_count": 47,
   "id": "69bfcdff",
   "metadata": {
    "scrolled": true
   },
   "outputs": [
    {
     "data": {
      "text/plain": [
       "0.6607308048103607"
      ]
     },
     "execution_count": 47,
     "metadata": {},
     "output_type": "execute_result"
    }
   ],
   "source": [
    "accuracy_score(y_true=y_test_lgd_stage1, y_pred=y_pred_test_lgd_stage1)"
   ]
  },
  {
   "cell_type": "code",
   "execution_count": 48,
   "id": "a1811e51",
   "metadata": {
    "scrolled": true
   },
   "outputs": [
    {
     "data": {
      "text/plain": [
       "array([0.58382979, 0.71364435])"
      ]
     },
     "execution_count": 48,
     "metadata": {},
     "output_type": "execute_result"
    }
   ],
   "source": [
    "f1_score(y_true=y_test_lgd_stage1, y_pred=y_pred_test_lgd_stage1, average=None, labels=[0,1])"
   ]
  },
  {
   "cell_type": "code",
   "execution_count": 49,
   "id": "1d931d90",
   "metadata": {
    "scrolled": true
   },
   "outputs": [
    {
     "data": {
      "image/png": "[encoded data removed]",
      "text/plain": [
       "<Figure size 576x396 with 2 Axes>"
      ]
     },
     "metadata": {},
     "output_type": "display_data"
    }
   ],
   "source": [
    "labels = [0,1]\n",
    "cm = confusion_matrix(y_true=y_test_lgd_stage1, y_pred=y_pred_test_lgd_stage1, labels=labels)\n",
    "df_cm = pd.DataFrame(cm, index=labels, columns=labels)\n",
    "sns.heatmap(df_cm, annot=True, fmt='d', cmap='YlGnBu')\n",
    "plt.show()"
   ]
  },
  {
   "cell_type": "markdown",
   "id": "bf930e7b",
   "metadata": {},
   "source": [
    "### Area Under the ROC Curve (AUROC)"
   ]
  },
  {
   "cell_type": "code",
   "execution_count": 50,
   "id": "75799b24",
   "metadata": {},
   "outputs": [],
   "source": [
    "fpr, tpr, thresholds = roc_curve(df_true_pred_probs['y_test_lgd_stage1'], df_true_pred_probs['y_pred_test_proba_lgd_stage1'])"
   ]
  },
  {
   "cell_type": "code",
   "execution_count": 51,
   "id": "1332036c",
   "metadata": {},
   "outputs": [
    {
     "data": {
      "image/png": "[encoded data removed]",
      "text/plain": [
       "<Figure size 576x396 with 1 Axes>"
      ]
     },
     "metadata": {},
     "output_type": "display_data"
    }
   ],
   "source": [
    "plt.plot(fpr, tpr)\n",
    "plt.plot([0, 1], [0, 1], '--') \n",
    "plt.xlabel('False Positive Rate', size=16)\n",
    "plt.ylabel('True Positive Rate', size=16)\n",
    "plt.title('ROC Curve', fontdict={'fontweight':'bold', 'fontsize':18})\n",
    "plt.show()"
   ]
  },
  {
   "cell_type": "code",
   "execution_count": 52,
   "id": "2a64b6ef",
   "metadata": {},
   "outputs": [
    {
     "data": {
      "text/plain": [
       "0.714623921449107"
      ]
     },
     "execution_count": 52,
     "metadata": {},
     "output_type": "execute_result"
    }
   ],
   "source": [
    "AUROC = roc_auc_score(df_true_pred_probs['y_test_lgd_stage1'], df_true_pred_probs['y_pred_test_proba_lgd_stage1'])\n",
    "AUROC"
   ]
  },
  {
   "cell_type": "markdown",
   "id": "da801cfd",
   "metadata": {},
   "source": [
    "### Gini Coefficient"
   ]
  },
  {
   "cell_type": "code",
   "execution_count": 53,
   "id": "e6372937",
   "metadata": {},
   "outputs": [
    {
     "data": {
      "text/html": [
       "<div>\n",
       "<style scoped>\n",
       "    .dataframe tbody tr th:only-of-type {\n",
       "        vertical-align: middle;\n",
       "    }\n",
       "\n",
       "    .dataframe tbody tr th {\n",
       "        vertical-align: top;\n",
       "    }\n",
       "\n",
       "    .dataframe thead th {\n",
       "        text-align: right;\n",
       "    }\n",
       "</style>\n",
       "<table border=\"1\" class=\"dataframe\">\n",
       "  <thead>\n",
       "    <tr style=\"text-align: right;\">\n",
       "      <th></th>\n",
       "      <th>y_test_lgd_stage1</th>\n",
       "      <th>y_pred_test_proba_lgd_stage1</th>\n",
       "      <th>y_pred_test_lgd_stage1</th>\n",
       "    </tr>\n",
       "  </thead>\n",
       "  <tbody>\n",
       "    <tr>\n",
       "      <th>302623</th>\n",
       "      <td>1</td>\n",
       "      <td>0.08</td>\n",
       "      <td>0</td>\n",
       "    </tr>\n",
       "    <tr>\n",
       "      <th>242648</th>\n",
       "      <td>0</td>\n",
       "      <td>0.08</td>\n",
       "      <td>0</td>\n",
       "    </tr>\n",
       "    <tr>\n",
       "      <th>319782</th>\n",
       "      <td>0</td>\n",
       "      <td>0.09</td>\n",
       "      <td>0</td>\n",
       "    </tr>\n",
       "    <tr>\n",
       "      <th>342892</th>\n",
       "      <td>0</td>\n",
       "      <td>0.11</td>\n",
       "      <td>0</td>\n",
       "    </tr>\n",
       "    <tr>\n",
       "      <th>255107</th>\n",
       "      <td>0</td>\n",
       "      <td>0.11</td>\n",
       "      <td>0</td>\n",
       "    </tr>\n",
       "  </tbody>\n",
       "</table>\n",
       "</div>"
      ],
      "text/plain": [
       "        y_test_lgd_stage1  y_pred_test_proba_lgd_stage1  \\\n",
       "302623                  1                          0.08   \n",
       "242648                  0                          0.08   \n",
       "319782                  0                          0.09   \n",
       "342892                  0                          0.11   \n",
       "255107                  0                          0.11   \n",
       "\n",
       "        y_pred_test_lgd_stage1  \n",
       "302623                       0  \n",
       "242648                       0  \n",
       "319782                       0  \n",
       "342892                       0  \n",
       "255107                       0  "
      ]
     },
     "execution_count": 53,
     "metadata": {},
     "output_type": "execute_result"
    }
   ],
   "source": [
    "df_true_pred_probs = df_true_pred_probs.sort_values('y_pred_test_proba_lgd_stage1')\n",
    "df_true_pred_probs.head()"
   ]
  },
  {
   "cell_type": "code",
   "execution_count": 54,
   "id": "4f727f78",
   "metadata": {},
   "outputs": [
    {
     "data": {
      "text/html": [
       "<div>\n",
       "<style scoped>\n",
       "    .dataframe tbody tr th:only-of-type {\n",
       "        vertical-align: middle;\n",
       "    }\n",
       "\n",
       "    .dataframe tbody tr th {\n",
       "        vertical-align: top;\n",
       "    }\n",
       "\n",
       "    .dataframe thead th {\n",
       "        text-align: right;\n",
       "    }\n",
       "</style>\n",
       "<table border=\"1\" class=\"dataframe\">\n",
       "  <thead>\n",
       "    <tr style=\"text-align: right;\">\n",
       "      <th></th>\n",
       "      <th>y_test_lgd_stage1</th>\n",
       "      <th>y_pred_test_proba_lgd_stage1</th>\n",
       "      <th>y_pred_test_lgd_stage1</th>\n",
       "    </tr>\n",
       "  </thead>\n",
       "  <tbody>\n",
       "    <tr>\n",
       "      <th>216198</th>\n",
       "      <td>1</td>\n",
       "      <td>0.94</td>\n",
       "      <td>1</td>\n",
       "    </tr>\n",
       "    <tr>\n",
       "      <th>228807</th>\n",
       "      <td>1</td>\n",
       "      <td>0.94</td>\n",
       "      <td>1</td>\n",
       "    </tr>\n",
       "    <tr>\n",
       "      <th>5823</th>\n",
       "      <td>1</td>\n",
       "      <td>0.95</td>\n",
       "      <td>1</td>\n",
       "    </tr>\n",
       "    <tr>\n",
       "      <th>227981</th>\n",
       "      <td>1</td>\n",
       "      <td>0.95</td>\n",
       "      <td>1</td>\n",
       "    </tr>\n",
       "    <tr>\n",
       "      <th>220776</th>\n",
       "      <td>1</td>\n",
       "      <td>0.96</td>\n",
       "      <td>1</td>\n",
       "    </tr>\n",
       "  </tbody>\n",
       "</table>\n",
       "</div>"
      ],
      "text/plain": [
       "        y_test_lgd_stage1  y_pred_test_proba_lgd_stage1  \\\n",
       "216198                  1                          0.94   \n",
       "228807                  1                          0.94   \n",
       "5823                    1                          0.95   \n",
       "227981                  1                          0.95   \n",
       "220776                  1                          0.96   \n",
       "\n",
       "        y_pred_test_lgd_stage1  \n",
       "216198                       1  \n",
       "228807                       1  \n",
       "5823                         1  \n",
       "227981                       1  \n",
       "220776                       1  "
      ]
     },
     "execution_count": 54,
     "metadata": {},
     "output_type": "execute_result"
    }
   ],
   "source": [
    "df_true_pred_probs.tail()"
   ]
  },
  {
   "cell_type": "code",
   "execution_count": 55,
   "id": "3766f9ce",
   "metadata": {
    "scrolled": true
   },
   "outputs": [
    {
     "data": {
      "text/html": [
       "<div>\n",
       "<style scoped>\n",
       "    .dataframe tbody tr th:only-of-type {\n",
       "        vertical-align: middle;\n",
       "    }\n",
       "\n",
       "    .dataframe tbody tr th {\n",
       "        vertical-align: top;\n",
       "    }\n",
       "\n",
       "    .dataframe thead th {\n",
       "        text-align: right;\n",
       "    }\n",
       "</style>\n",
       "<table border=\"1\" class=\"dataframe\">\n",
       "  <thead>\n",
       "    <tr style=\"text-align: right;\">\n",
       "      <th></th>\n",
       "      <th>index</th>\n",
       "      <th>y_test_lgd_stage1</th>\n",
       "      <th>y_pred_test_proba_lgd_stage1</th>\n",
       "      <th>y_pred_test_lgd_stage1</th>\n",
       "    </tr>\n",
       "  </thead>\n",
       "  <tbody>\n",
       "    <tr>\n",
       "      <th>0</th>\n",
       "      <td>302623</td>\n",
       "      <td>1</td>\n",
       "      <td>0.08</td>\n",
       "      <td>0</td>\n",
       "    </tr>\n",
       "    <tr>\n",
       "      <th>1</th>\n",
       "      <td>242648</td>\n",
       "      <td>0</td>\n",
       "      <td>0.08</td>\n",
       "      <td>0</td>\n",
       "    </tr>\n",
       "    <tr>\n",
       "      <th>2</th>\n",
       "      <td>319782</td>\n",
       "      <td>0</td>\n",
       "      <td>0.09</td>\n",
       "      <td>0</td>\n",
       "    </tr>\n",
       "    <tr>\n",
       "      <th>3</th>\n",
       "      <td>342892</td>\n",
       "      <td>0</td>\n",
       "      <td>0.11</td>\n",
       "      <td>0</td>\n",
       "    </tr>\n",
       "    <tr>\n",
       "      <th>4</th>\n",
       "      <td>255107</td>\n",
       "      <td>0</td>\n",
       "      <td>0.11</td>\n",
       "      <td>0</td>\n",
       "    </tr>\n",
       "  </tbody>\n",
       "</table>\n",
       "</div>"
      ],
      "text/plain": [
       "    index  y_test_lgd_stage1  y_pred_test_proba_lgd_stage1  \\\n",
       "0  302623                  1                          0.08   \n",
       "1  242648                  0                          0.08   \n",
       "2  319782                  0                          0.09   \n",
       "3  342892                  0                          0.11   \n",
       "4  255107                  0                          0.11   \n",
       "\n",
       "   y_pred_test_lgd_stage1  \n",
       "0                       0  \n",
       "1                       0  \n",
       "2                       0  \n",
       "3                       0  \n",
       "4                       0  "
      ]
     },
     "execution_count": 55,
     "metadata": {},
     "output_type": "execute_result"
    }
   ],
   "source": [
    "df_true_pred_probs = df_true_pred_probs.reset_index()\n",
    "df_true_pred_probs.head()"
   ]
  },
  {
   "cell_type": "code",
   "execution_count": 56,
   "id": "1a528591",
   "metadata": {},
   "outputs": [],
   "source": [
    "df_true_pred_probs['Cumulative N Population'] = df_true_pred_probs.index + 1    # Cumulative number of all observations\n",
    "df_true_pred_probs['Cumulative N Good'] = df_true_pred_probs['y_test_lgd_stage1'].cumsum() # Cumulative number of 'good' borrowers\n",
    "df_true_pred_probs['Cumulative N Bad'] = df_true_pred_probs['Cumulative N Population'] - df_true_pred_probs['Cumulative N Good']\n",
    "# Cumulative number of 'bad' borrowers"
   ]
  },
  {
   "cell_type": "code",
   "execution_count": 57,
   "id": "1bd51563",
   "metadata": {
    "scrolled": true
   },
   "outputs": [
    {
     "data": {
      "text/html": [
       "<div>\n",
       "<style scoped>\n",
       "    .dataframe tbody tr th:only-of-type {\n",
       "        vertical-align: middle;\n",
       "    }\n",
       "\n",
       "    .dataframe tbody tr th {\n",
       "        vertical-align: top;\n",
       "    }\n",
       "\n",
       "    .dataframe thead th {\n",
       "        text-align: right;\n",
       "    }\n",
       "</style>\n",
       "<table border=\"1\" class=\"dataframe\">\n",
       "  <thead>\n",
       "    <tr style=\"text-align: right;\">\n",
       "      <th></th>\n",
       "      <th>index</th>\n",
       "      <th>y_test_lgd_stage1</th>\n",
       "      <th>y_pred_test_proba_lgd_stage1</th>\n",
       "      <th>y_pred_test_lgd_stage1</th>\n",
       "      <th>Cumulative N Population</th>\n",
       "      <th>Cumulative N Good</th>\n",
       "      <th>Cumulative N Bad</th>\n",
       "    </tr>\n",
       "  </thead>\n",
       "  <tbody>\n",
       "    <tr>\n",
       "      <th>0</th>\n",
       "      <td>302623</td>\n",
       "      <td>1</td>\n",
       "      <td>0.08</td>\n",
       "      <td>0</td>\n",
       "      <td>1</td>\n",
       "      <td>1</td>\n",
       "      <td>0</td>\n",
       "    </tr>\n",
       "    <tr>\n",
       "      <th>1</th>\n",
       "      <td>242648</td>\n",
       "      <td>0</td>\n",
       "      <td>0.08</td>\n",
       "      <td>0</td>\n",
       "      <td>2</td>\n",
       "      <td>1</td>\n",
       "      <td>1</td>\n",
       "    </tr>\n",
       "    <tr>\n",
       "      <th>2</th>\n",
       "      <td>319782</td>\n",
       "      <td>0</td>\n",
       "      <td>0.09</td>\n",
       "      <td>0</td>\n",
       "      <td>3</td>\n",
       "      <td>1</td>\n",
       "      <td>2</td>\n",
       "    </tr>\n",
       "    <tr>\n",
       "      <th>3</th>\n",
       "      <td>342892</td>\n",
       "      <td>0</td>\n",
       "      <td>0.11</td>\n",
       "      <td>0</td>\n",
       "      <td>4</td>\n",
       "      <td>1</td>\n",
       "      <td>3</td>\n",
       "    </tr>\n",
       "    <tr>\n",
       "      <th>4</th>\n",
       "      <td>255107</td>\n",
       "      <td>0</td>\n",
       "      <td>0.11</td>\n",
       "      <td>0</td>\n",
       "      <td>5</td>\n",
       "      <td>1</td>\n",
       "      <td>4</td>\n",
       "    </tr>\n",
       "  </tbody>\n",
       "</table>\n",
       "</div>"
      ],
      "text/plain": [
       "    index  y_test_lgd_stage1  y_pred_test_proba_lgd_stage1  \\\n",
       "0  302623                  1                          0.08   \n",
       "1  242648                  0                          0.08   \n",
       "2  319782                  0                          0.09   \n",
       "3  342892                  0                          0.11   \n",
       "4  255107                  0                          0.11   \n",
       "\n",
       "   y_pred_test_lgd_stage1  Cumulative N Population  Cumulative N Good  \\\n",
       "0                       0                        1                  1   \n",
       "1                       0                        2                  1   \n",
       "2                       0                        3                  1   \n",
       "3                       0                        4                  1   \n",
       "4                       0                        5                  1   \n",
       "\n",
       "   Cumulative N Bad  \n",
       "0                 0  \n",
       "1                 1  \n",
       "2                 2  \n",
       "3                 3  \n",
       "4                 4  "
      ]
     },
     "execution_count": 57,
     "metadata": {},
     "output_type": "execute_result"
    }
   ],
   "source": [
    "df_true_pred_probs.head()"
   ]
  },
  {
   "cell_type": "code",
   "execution_count": 58,
   "id": "8265b968",
   "metadata": {},
   "outputs": [],
   "source": [
    "df_true_pred_probs['Cumulative Perc Population'] = df_true_pred_probs['Cumulative N Population'] / (df_true_pred_probs.index[-1] + 1)\n",
    "# Cumulative percentage of all observations\n",
    "df_true_pred_probs['Cumulative Perc Good'] = df_true_pred_probs['Cumulative N Good'] / df_true_pred_probs['y_test_lgd_stage1'].sum()\n",
    "# Cumulative percentage of 'good' borrowers\n",
    "df_true_pred_probs['Cumulative Perc Bad'] = df_true_pred_probs['Cumulative N Bad'] / ((df_true_pred_probs.index[-1] + 1) - df_true_pred_probs['y_test_lgd_stage1'].sum())\n",
    "# Cumulative percentage of 'bad' borrowers"
   ]
  },
  {
   "cell_type": "code",
   "execution_count": 59,
   "id": "febcd20c",
   "metadata": {},
   "outputs": [
    {
     "data": {
      "text/html": [
       "<div>\n",
       "<style scoped>\n",
       "    .dataframe tbody tr th:only-of-type {\n",
       "        vertical-align: middle;\n",
       "    }\n",
       "\n",
       "    .dataframe tbody tr th {\n",
       "        vertical-align: top;\n",
       "    }\n",
       "\n",
       "    .dataframe thead th {\n",
       "        text-align: right;\n",
       "    }\n",
       "</style>\n",
       "<table border=\"1\" class=\"dataframe\">\n",
       "  <thead>\n",
       "    <tr style=\"text-align: right;\">\n",
       "      <th></th>\n",
       "      <th>index</th>\n",
       "      <th>y_test_lgd_stage1</th>\n",
       "      <th>y_pred_test_proba_lgd_stage1</th>\n",
       "      <th>y_pred_test_lgd_stage1</th>\n",
       "      <th>Cumulative N Population</th>\n",
       "      <th>Cumulative N Good</th>\n",
       "      <th>Cumulative N Bad</th>\n",
       "      <th>Cumulative Perc Population</th>\n",
       "      <th>Cumulative Perc Good</th>\n",
       "      <th>Cumulative Perc Bad</th>\n",
       "    </tr>\n",
       "  </thead>\n",
       "  <tbody>\n",
       "    <tr>\n",
       "      <th>0</th>\n",
       "      <td>302623</td>\n",
       "      <td>1</td>\n",
       "      <td>0.08</td>\n",
       "      <td>0</td>\n",
       "      <td>1</td>\n",
       "      <td>1</td>\n",
       "      <td>0</td>\n",
       "      <td>0.000231</td>\n",
       "      <td>0.000413</td>\n",
       "      <td>0.000000</td>\n",
       "    </tr>\n",
       "    <tr>\n",
       "      <th>1</th>\n",
       "      <td>242648</td>\n",
       "      <td>0</td>\n",
       "      <td>0.08</td>\n",
       "      <td>0</td>\n",
       "      <td>2</td>\n",
       "      <td>1</td>\n",
       "      <td>1</td>\n",
       "      <td>0.000463</td>\n",
       "      <td>0.000413</td>\n",
       "      <td>0.000526</td>\n",
       "    </tr>\n",
       "    <tr>\n",
       "      <th>2</th>\n",
       "      <td>319782</td>\n",
       "      <td>0</td>\n",
       "      <td>0.09</td>\n",
       "      <td>0</td>\n",
       "      <td>3</td>\n",
       "      <td>1</td>\n",
       "      <td>2</td>\n",
       "      <td>0.000694</td>\n",
       "      <td>0.000413</td>\n",
       "      <td>0.001052</td>\n",
       "    </tr>\n",
       "    <tr>\n",
       "      <th>3</th>\n",
       "      <td>342892</td>\n",
       "      <td>0</td>\n",
       "      <td>0.11</td>\n",
       "      <td>0</td>\n",
       "      <td>4</td>\n",
       "      <td>1</td>\n",
       "      <td>3</td>\n",
       "      <td>0.000925</td>\n",
       "      <td>0.000413</td>\n",
       "      <td>0.001577</td>\n",
       "    </tr>\n",
       "    <tr>\n",
       "      <th>4</th>\n",
       "      <td>255107</td>\n",
       "      <td>0</td>\n",
       "      <td>0.11</td>\n",
       "      <td>0</td>\n",
       "      <td>5</td>\n",
       "      <td>1</td>\n",
       "      <td>4</td>\n",
       "      <td>0.001156</td>\n",
       "      <td>0.000413</td>\n",
       "      <td>0.002103</td>\n",
       "    </tr>\n",
       "  </tbody>\n",
       "</table>\n",
       "</div>"
      ],
      "text/plain": [
       "    index  y_test_lgd_stage1  y_pred_test_proba_lgd_stage1  \\\n",
       "0  302623                  1                          0.08   \n",
       "1  242648                  0                          0.08   \n",
       "2  319782                  0                          0.09   \n",
       "3  342892                  0                          0.11   \n",
       "4  255107                  0                          0.11   \n",
       "\n",
       "   y_pred_test_lgd_stage1  Cumulative N Population  Cumulative N Good  \\\n",
       "0                       0                        1                  1   \n",
       "1                       0                        2                  1   \n",
       "2                       0                        3                  1   \n",
       "3                       0                        4                  1   \n",
       "4                       0                        5                  1   \n",
       "\n",
       "   Cumulative N Bad  Cumulative Perc Population  Cumulative Perc Good  \\\n",
       "0                 0                    0.000231              0.000413   \n",
       "1                 1                    0.000463              0.000413   \n",
       "2                 2                    0.000694              0.000413   \n",
       "3                 3                    0.000925              0.000413   \n",
       "4                 4                    0.001156              0.000413   \n",
       "\n",
       "   Cumulative Perc Bad  \n",
       "0             0.000000  \n",
       "1             0.000526  \n",
       "2             0.001052  \n",
       "3             0.001577  \n",
       "4             0.002103  "
      ]
     },
     "execution_count": 59,
     "metadata": {},
     "output_type": "execute_result"
    }
   ],
   "source": [
    "df_true_pred_probs.head()"
   ]
  },
  {
   "cell_type": "code",
   "execution_count": 60,
   "id": "798e410b",
   "metadata": {},
   "outputs": [
    {
     "data": {
      "image/png": "[encoded data removed]",
      "text/plain": [
       "<Figure size 576x396 with 1 Axes>"
      ]
     },
     "metadata": {},
     "output_type": "display_data"
    }
   ],
   "source": [
    "plt.plot(df_true_pred_probs['Cumulative Perc Population'], df_true_pred_probs['Cumulative Perc Bad'])\n",
    "plt.plot([0, 1], [0, 1], '--') \n",
    "plt.xlabel('Cumulative % Population', size=14)\n",
    "plt.ylabel('Cumulative % Bad', size=14)\n",
    "plt.title('Gini', fontdict={'fontweight':'bold', 'fontsize':18})\n",
    "plt.show()"
   ]
  },
  {
   "cell_type": "code",
   "execution_count": 61,
   "id": "cce352f2",
   "metadata": {},
   "outputs": [
    {
     "data": {
      "text/plain": [
       "0.42924784289821405"
      ]
     },
     "execution_count": 61,
     "metadata": {},
     "output_type": "execute_result"
    }
   ],
   "source": [
    "Gini = 2 * AUROC  - 1\n",
    "Gini"
   ]
  },
  {
   "cell_type": "markdown",
   "id": "dc0fc5fc",
   "metadata": {},
   "source": [
    "### Kolmogorov-Smirnov Coefficient"
   ]
  },
  {
   "cell_type": "code",
   "execution_count": 62,
   "id": "c5f51516",
   "metadata": {},
   "outputs": [
    {
     "data": {
      "image/png": "[encoded data removed]",
      "text/plain": [
       "<Figure size 576x396 with 1 Axes>"
      ]
     },
     "metadata": {},
     "output_type": "display_data"
    }
   ],
   "source": [
    "plt.plot(df_true_pred_probs['y_pred_test_proba_lgd_stage1'], df_true_pred_probs['Cumulative Perc Bad'])\n",
    "plt.plot(df_true_pred_probs['y_pred_test_proba_lgd_stage1'], df_true_pred_probs['Cumulative Perc Good'])\n",
    "plt.xlabel('Estimated Probability of Being Good', size=14)       # Predicted Probability of being Good (Non-defaulted)\n",
    "plt.ylabel('Cumulative %', size=14)\n",
    "plt.title('Kolmogorov-Smirnov', fontdict={'fontweight':'bold', 'fontsize':18})\n",
    "plt.show()"
   ]
  },
  {
   "cell_type": "code",
   "execution_count": 63,
   "id": "10146466",
   "metadata": {},
   "outputs": [
    {
     "data": {
      "text/plain": [
       "0.3106730192304854"
      ]
     },
     "execution_count": 63,
     "metadata": {},
     "output_type": "execute_result"
    }
   ],
   "source": [
    "KS = max(df_true_pred_probs['Cumulative Perc Bad'] - df_true_pred_probs['Cumulative Perc Good'])\n",
    "KS"
   ]
  },
  {
   "cell_type": "markdown",
   "id": "29619ea5",
   "metadata": {},
   "source": [
    "### Saving the Model"
   ]
  },
  {
   "cell_type": "code",
   "execution_count": 64,
   "id": "60cd15aa",
   "metadata": {},
   "outputs": [],
   "source": [
    "import pickle \n",
    "with open('lgd_model_stage1.sav', 'wb') as f:\n",
    "    pickle.dump('clf_rf_lgd_st1', f)"
   ]
  },
  {
   "cell_type": "markdown",
   "id": "24000a66",
   "metadata": {},
   "source": [
    "### LGD Model Stage 2 - Multiple Linear Regression "
   ]
  },
  {
   "cell_type": "code",
   "execution_count": 65,
   "id": "ce4e8f0a",
   "metadata": {},
   "outputs": [],
   "source": [
    "df_lgd_stage2 = df_defaults[df_defaults['RR_bool'] == 1]"
   ]
  },
  {
   "cell_type": "code",
   "execution_count": 66,
   "id": "f6de16fc",
   "metadata": {},
   "outputs": [],
   "source": [
    "X_train_lgd_stage2, X_test_lgd_stage2, y_train_lgd_stage2, y_test_lgd_stage2 = train_test_split(df_lgd_stage2.drop(['good_bad', 'RR', 'RR_bool', 'CCF'], axis=1), df_lgd_stage2['RR'], test_size=0.1, random_state=42)\n",
    "# We drop the dependent variables "
   ]
  },
  {
   "cell_type": "code",
   "execution_count": 67,
   "id": "09578589",
   "metadata": {},
   "outputs": [],
   "source": [
    "from sklearn.linear_model import LinearRegression\n",
    "from sklearn.metrics import mean_squared_error, r2_score"
   ]
  },
  {
   "cell_type": "code",
   "execution_count": 68,
   "id": "9768ac68",
   "metadata": {
    "scrolled": true
   },
   "outputs": [],
   "source": [
    "X_train_lgd_stage2 = X_train_lgd_stage2[features_all]"
   ]
  },
  {
   "cell_type": "code",
   "execution_count": 69,
   "id": "ef30a7df",
   "metadata": {},
   "outputs": [],
   "source": [
    "X_train_lgd_stage2 = X_train_lgd_stage2.drop(ref_categories, axis=1)"
   ]
  },
  {
   "cell_type": "code",
   "execution_count": 70,
   "id": "ced05ecf",
   "metadata": {
    "scrolled": true
   },
   "outputs": [
    {
     "data": {
      "text/plain": [
       "LinearRegression()"
      ]
     },
     "execution_count": 70,
     "metadata": {},
     "output_type": "execute_result"
    }
   ],
   "source": [
    "lm_lgd_st2 = LinearRegression()\n",
    "lm_lgd_st2.fit(X_train_lgd_stage2, y_train_lgd_stage2)"
   ]
  },
  {
   "cell_type": "code",
   "execution_count": 71,
   "id": "8520bc08",
   "metadata": {},
   "outputs": [
    {
     "data": {
      "text/plain": [
       "Index(['grade:A', 'grade:B', 'grade:C', 'grade:D', 'grade:E', 'grade:F',\n",
       "       'home_ownership:MORTGAGE', 'home_ownership:NONE',\n",
       "       'home_ownership:OTHER', 'home_ownership:OWN',\n",
       "       'verification_status:Not Verified',\n",
       "       'verification_status:Source Verified', 'purpose:car',\n",
       "       'purpose:debt_consolidation', 'purpose:educational',\n",
       "       'purpose:home_improvement', 'purpose:house', 'purpose:major_purchase',\n",
       "       'purpose:medical', 'purpose:moving', 'purpose:other',\n",
       "       'purpose:renewable_energy', 'purpose:small_business',\n",
       "       'purpose:vacation', 'purpose:wedding', 'initial_list_status:w',\n",
       "       'term_int', 'emp_length_int', 'mths_since_issue_d',\n",
       "       'mths_since_earliest_cr_line', 'funded_amnt', 'int_rate', 'installment',\n",
       "       'annual_inc', 'dti', 'delinq_2yrs', 'inq_last_6mths',\n",
       "       'mths_since_last_delinq', 'mths_since_last_record', 'open_acc',\n",
       "       'pub_rec', 'total_acc', 'acc_now_delinq', 'total_rev_hi_lim'],\n",
       "      dtype='object')"
      ]
     },
     "execution_count": 71,
     "metadata": {},
     "output_type": "execute_result"
    }
   ],
   "source": [
    "features = X_train_lgd_stage2.columns\n",
    "features"
   ]
  },
  {
   "cell_type": "code",
   "execution_count": 72,
   "id": "3353ae69",
   "metadata": {
    "scrolled": false
   },
   "outputs": [
    {
     "data": {
      "text/plain": [
       "0.35727753311355664"
      ]
     },
     "execution_count": 72,
     "metadata": {},
     "output_type": "execute_result"
    }
   ],
   "source": [
    "lm_lgd_st2.intercept_"
   ]
  },
  {
   "cell_type": "code",
   "execution_count": 73,
   "id": "f9732ee4",
   "metadata": {
    "scrolled": false
   },
   "outputs": [
    {
     "data": {
      "text/plain": [
       "array([-7.56746895e-02, -5.85357349e-02, -4.39655221e-02, -3.29608990e-02,\n",
       "       -1.78829003e-02, -6.21527020e-03,  3.19751295e-03,  1.17663391e-01,\n",
       "        4.48335826e-02,  6.10811341e-03,  1.51125701e-03, -2.52394329e-03,\n",
       "       -2.48096572e-03,  6.05582182e-04,  5.90505250e-02, -1.80766572e-03,\n",
       "       -1.89184534e-03,  2.01555882e-03,  1.28562091e-02,  1.64158047e-02,\n",
       "        4.51852688e-03,  3.69144630e-03,  1.58647728e-03,  5.30157344e-03,\n",
       "        1.96869156e-02,  1.33807616e-02,  1.54334492e-04,  2.36967416e-04,\n",
       "       -1.57278577e-03,  2.06891241e-05,  5.26078398e-07, -2.72439088e-03,\n",
       "       -3.52642313e-05,  6.32722913e-08,  1.02354502e-04,  1.61603146e-03,\n",
       "        9.45987198e-04, -4.61416184e-06, -4.69652744e-05, -1.07560207e-03,\n",
       "        3.52610985e-03,  4.58410848e-04, -1.93320268e-03,  2.53672098e-07])"
      ]
     },
     "execution_count": 73,
     "metadata": {},
     "output_type": "execute_result"
    }
   ],
   "source": [
    "lm_lgd_st2.coef_"
   ]
  },
  {
   "cell_type": "code",
   "execution_count": 74,
   "id": "46d6cbf0",
   "metadata": {},
   "outputs": [
    {
     "data": {
      "text/plain": [
       "(44,)"
      ]
     },
     "execution_count": 74,
     "metadata": {},
     "output_type": "execute_result"
    }
   ],
   "source": [
    "lm_lgd_st2.coef_.shape"
   ]
  },
  {
   "cell_type": "code",
   "execution_count": 75,
   "id": "a25a97e5",
   "metadata": {},
   "outputs": [
    {
     "data": {
      "text/html": [
       "<div>\n",
       "<style scoped>\n",
       "    .dataframe tbody tr th:only-of-type {\n",
       "        vertical-align: middle;\n",
       "    }\n",
       "\n",
       "    .dataframe tbody tr th {\n",
       "        vertical-align: top;\n",
       "    }\n",
       "\n",
       "    .dataframe thead th {\n",
       "        text-align: right;\n",
       "    }\n",
       "</style>\n",
       "<table border=\"1\" class=\"dataframe\">\n",
       "  <thead>\n",
       "    <tr style=\"text-align: right;\">\n",
       "      <th></th>\n",
       "      <th>Feature Name</th>\n",
       "      <th>Coefficient</th>\n",
       "    </tr>\n",
       "  </thead>\n",
       "  <tbody>\n",
       "    <tr>\n",
       "      <th>0</th>\n",
       "      <td>intercept</td>\n",
       "      <td>3.572775e-01</td>\n",
       "    </tr>\n",
       "    <tr>\n",
       "      <th>1</th>\n",
       "      <td>grade:A</td>\n",
       "      <td>-7.567469e-02</td>\n",
       "    </tr>\n",
       "    <tr>\n",
       "      <th>2</th>\n",
       "      <td>grade:B</td>\n",
       "      <td>-5.853573e-02</td>\n",
       "    </tr>\n",
       "    <tr>\n",
       "      <th>3</th>\n",
       "      <td>grade:C</td>\n",
       "      <td>-4.396552e-02</td>\n",
       "    </tr>\n",
       "    <tr>\n",
       "      <th>4</th>\n",
       "      <td>grade:D</td>\n",
       "      <td>-3.296090e-02</td>\n",
       "    </tr>\n",
       "    <tr>\n",
       "      <th>5</th>\n",
       "      <td>grade:E</td>\n",
       "      <td>-1.788290e-02</td>\n",
       "    </tr>\n",
       "    <tr>\n",
       "      <th>6</th>\n",
       "      <td>grade:F</td>\n",
       "      <td>-6.215270e-03</td>\n",
       "    </tr>\n",
       "    <tr>\n",
       "      <th>7</th>\n",
       "      <td>home_ownership:MORTGAGE</td>\n",
       "      <td>3.197513e-03</td>\n",
       "    </tr>\n",
       "    <tr>\n",
       "      <th>8</th>\n",
       "      <td>home_ownership:NONE</td>\n",
       "      <td>1.176634e-01</td>\n",
       "    </tr>\n",
       "    <tr>\n",
       "      <th>9</th>\n",
       "      <td>home_ownership:OTHER</td>\n",
       "      <td>4.483358e-02</td>\n",
       "    </tr>\n",
       "    <tr>\n",
       "      <th>10</th>\n",
       "      <td>home_ownership:OWN</td>\n",
       "      <td>6.108113e-03</td>\n",
       "    </tr>\n",
       "    <tr>\n",
       "      <th>11</th>\n",
       "      <td>verification_status:Not Verified</td>\n",
       "      <td>1.511257e-03</td>\n",
       "    </tr>\n",
       "    <tr>\n",
       "      <th>12</th>\n",
       "      <td>verification_status:Source Verified</td>\n",
       "      <td>-2.523943e-03</td>\n",
       "    </tr>\n",
       "    <tr>\n",
       "      <th>13</th>\n",
       "      <td>purpose:car</td>\n",
       "      <td>-2.480966e-03</td>\n",
       "    </tr>\n",
       "    <tr>\n",
       "      <th>14</th>\n",
       "      <td>purpose:debt_consolidation</td>\n",
       "      <td>6.055822e-04</td>\n",
       "    </tr>\n",
       "    <tr>\n",
       "      <th>15</th>\n",
       "      <td>purpose:educational</td>\n",
       "      <td>5.905052e-02</td>\n",
       "    </tr>\n",
       "    <tr>\n",
       "      <th>16</th>\n",
       "      <td>purpose:home_improvement</td>\n",
       "      <td>-1.807666e-03</td>\n",
       "    </tr>\n",
       "    <tr>\n",
       "      <th>17</th>\n",
       "      <td>purpose:house</td>\n",
       "      <td>-1.891845e-03</td>\n",
       "    </tr>\n",
       "    <tr>\n",
       "      <th>18</th>\n",
       "      <td>purpose:major_purchase</td>\n",
       "      <td>2.015559e-03</td>\n",
       "    </tr>\n",
       "    <tr>\n",
       "      <th>19</th>\n",
       "      <td>purpose:medical</td>\n",
       "      <td>1.285621e-02</td>\n",
       "    </tr>\n",
       "    <tr>\n",
       "      <th>20</th>\n",
       "      <td>purpose:moving</td>\n",
       "      <td>1.641580e-02</td>\n",
       "    </tr>\n",
       "    <tr>\n",
       "      <th>21</th>\n",
       "      <td>purpose:other</td>\n",
       "      <td>4.518527e-03</td>\n",
       "    </tr>\n",
       "    <tr>\n",
       "      <th>22</th>\n",
       "      <td>purpose:renewable_energy</td>\n",
       "      <td>3.691446e-03</td>\n",
       "    </tr>\n",
       "    <tr>\n",
       "      <th>23</th>\n",
       "      <td>purpose:small_business</td>\n",
       "      <td>1.586477e-03</td>\n",
       "    </tr>\n",
       "    <tr>\n",
       "      <th>24</th>\n",
       "      <td>purpose:vacation</td>\n",
       "      <td>5.301573e-03</td>\n",
       "    </tr>\n",
       "    <tr>\n",
       "      <th>25</th>\n",
       "      <td>purpose:wedding</td>\n",
       "      <td>1.968692e-02</td>\n",
       "    </tr>\n",
       "    <tr>\n",
       "      <th>26</th>\n",
       "      <td>initial_list_status:w</td>\n",
       "      <td>1.338076e-02</td>\n",
       "    </tr>\n",
       "    <tr>\n",
       "      <th>27</th>\n",
       "      <td>term_int</td>\n",
       "      <td>1.543345e-04</td>\n",
       "    </tr>\n",
       "    <tr>\n",
       "      <th>28</th>\n",
       "      <td>emp_length_int</td>\n",
       "      <td>2.369674e-04</td>\n",
       "    </tr>\n",
       "    <tr>\n",
       "      <th>29</th>\n",
       "      <td>mths_since_issue_d</td>\n",
       "      <td>-1.572786e-03</td>\n",
       "    </tr>\n",
       "    <tr>\n",
       "      <th>30</th>\n",
       "      <td>mths_since_earliest_cr_line</td>\n",
       "      <td>2.068912e-05</td>\n",
       "    </tr>\n",
       "    <tr>\n",
       "      <th>31</th>\n",
       "      <td>funded_amnt</td>\n",
       "      <td>5.260784e-07</td>\n",
       "    </tr>\n",
       "    <tr>\n",
       "      <th>32</th>\n",
       "      <td>int_rate</td>\n",
       "      <td>-2.724391e-03</td>\n",
       "    </tr>\n",
       "    <tr>\n",
       "      <th>33</th>\n",
       "      <td>installment</td>\n",
       "      <td>-3.526423e-05</td>\n",
       "    </tr>\n",
       "    <tr>\n",
       "      <th>34</th>\n",
       "      <td>annual_inc</td>\n",
       "      <td>6.327229e-08</td>\n",
       "    </tr>\n",
       "    <tr>\n",
       "      <th>35</th>\n",
       "      <td>dti</td>\n",
       "      <td>1.023545e-04</td>\n",
       "    </tr>\n",
       "    <tr>\n",
       "      <th>36</th>\n",
       "      <td>delinq_2yrs</td>\n",
       "      <td>1.616031e-03</td>\n",
       "    </tr>\n",
       "    <tr>\n",
       "      <th>37</th>\n",
       "      <td>inq_last_6mths</td>\n",
       "      <td>9.459872e-04</td>\n",
       "    </tr>\n",
       "    <tr>\n",
       "      <th>38</th>\n",
       "      <td>mths_since_last_delinq</td>\n",
       "      <td>-4.614162e-06</td>\n",
       "    </tr>\n",
       "    <tr>\n",
       "      <th>39</th>\n",
       "      <td>mths_since_last_record</td>\n",
       "      <td>-4.696527e-05</td>\n",
       "    </tr>\n",
       "    <tr>\n",
       "      <th>40</th>\n",
       "      <td>open_acc</td>\n",
       "      <td>-1.075602e-03</td>\n",
       "    </tr>\n",
       "    <tr>\n",
       "      <th>41</th>\n",
       "      <td>pub_rec</td>\n",
       "      <td>3.526110e-03</td>\n",
       "    </tr>\n",
       "    <tr>\n",
       "      <th>42</th>\n",
       "      <td>total_acc</td>\n",
       "      <td>4.584108e-04</td>\n",
       "    </tr>\n",
       "    <tr>\n",
       "      <th>43</th>\n",
       "      <td>acc_now_delinq</td>\n",
       "      <td>-1.933203e-03</td>\n",
       "    </tr>\n",
       "    <tr>\n",
       "      <th>44</th>\n",
       "      <td>total_rev_hi_lim</td>\n",
       "      <td>2.536721e-07</td>\n",
       "    </tr>\n",
       "  </tbody>\n",
       "</table>\n",
       "</div>"
      ],
      "text/plain": [
       "                           Feature Name   Coefficient\n",
       "0                             intercept  3.572775e-01\n",
       "1                               grade:A -7.567469e-02\n",
       "2                               grade:B -5.853573e-02\n",
       "3                               grade:C -4.396552e-02\n",
       "4                               grade:D -3.296090e-02\n",
       "5                               grade:E -1.788290e-02\n",
       "6                               grade:F -6.215270e-03\n",
       "7               home_ownership:MORTGAGE  3.197513e-03\n",
       "8                   home_ownership:NONE  1.176634e-01\n",
       "9                  home_ownership:OTHER  4.483358e-02\n",
       "10                   home_ownership:OWN  6.108113e-03\n",
       "11     verification_status:Not Verified  1.511257e-03\n",
       "12  verification_status:Source Verified -2.523943e-03\n",
       "13                          purpose:car -2.480966e-03\n",
       "14           purpose:debt_consolidation  6.055822e-04\n",
       "15                  purpose:educational  5.905052e-02\n",
       "16             purpose:home_improvement -1.807666e-03\n",
       "17                        purpose:house -1.891845e-03\n",
       "18               purpose:major_purchase  2.015559e-03\n",
       "19                      purpose:medical  1.285621e-02\n",
       "20                       purpose:moving  1.641580e-02\n",
       "21                        purpose:other  4.518527e-03\n",
       "22             purpose:renewable_energy  3.691446e-03\n",
       "23               purpose:small_business  1.586477e-03\n",
       "24                     purpose:vacation  5.301573e-03\n",
       "25                      purpose:wedding  1.968692e-02\n",
       "26                initial_list_status:w  1.338076e-02\n",
       "27                             term_int  1.543345e-04\n",
       "28                       emp_length_int  2.369674e-04\n",
       "29                   mths_since_issue_d -1.572786e-03\n",
       "30          mths_since_earliest_cr_line  2.068912e-05\n",
       "31                          funded_amnt  5.260784e-07\n",
       "32                             int_rate -2.724391e-03\n",
       "33                          installment -3.526423e-05\n",
       "34                           annual_inc  6.327229e-08\n",
       "35                                  dti  1.023545e-04\n",
       "36                          delinq_2yrs  1.616031e-03\n",
       "37                       inq_last_6mths  9.459872e-04\n",
       "38               mths_since_last_delinq -4.614162e-06\n",
       "39               mths_since_last_record -4.696527e-05\n",
       "40                             open_acc -1.075602e-03\n",
       "41                              pub_rec  3.526110e-03\n",
       "42                            total_acc  4.584108e-04\n",
       "43                       acc_now_delinq -1.933203e-03\n",
       "44                     total_rev_hi_lim  2.536721e-07"
      ]
     },
     "execution_count": 75,
     "metadata": {},
     "output_type": "execute_result"
    }
   ],
   "source": [
    "d = {'Feature Name':features, 'Coefficient':lm_lgd_st2.coef_} \n",
    "summary_table = pd.DataFrame(data=d)\n",
    "new_row = pd.DataFrame({'Feature Name':'intercept', 'Coefficient':lm_lgd_st2.intercept_}, index=[0])\n",
    "summary_table = pd.concat([new_row, summary_table], axis=0).reset_index(drop=True)              \n",
    "summary_table"
   ]
  },
  {
   "cell_type": "code",
   "execution_count": 76,
   "id": "3ca2f765",
   "metadata": {},
   "outputs": [],
   "source": [
    "X_test_lgd_stage2 = X_test_lgd_stage2[features_all]\n",
    "X_test_lgd_stage2 = X_test_lgd_stage2.drop(ref_categories, axis=1)"
   ]
  },
  {
   "cell_type": "code",
   "execution_count": 77,
   "id": "519fcfc6",
   "metadata": {},
   "outputs": [
    {
     "data": {
      "text/plain": [
       "Index(['grade:A', 'grade:B', 'grade:C', 'grade:D', 'grade:E', 'grade:F',\n",
       "       'home_ownership:MORTGAGE', 'home_ownership:NONE',\n",
       "       'home_ownership:OTHER', 'home_ownership:OWN',\n",
       "       'verification_status:Not Verified',\n",
       "       'verification_status:Source Verified', 'purpose:car',\n",
       "       'purpose:debt_consolidation', 'purpose:educational',\n",
       "       'purpose:home_improvement', 'purpose:house', 'purpose:major_purchase',\n",
       "       'purpose:medical', 'purpose:moving', 'purpose:other',\n",
       "       'purpose:renewable_energy', 'purpose:small_business',\n",
       "       'purpose:vacation', 'purpose:wedding', 'initial_list_status:w',\n",
       "       'term_int', 'emp_length_int', 'mths_since_issue_d',\n",
       "       'mths_since_earliest_cr_line', 'funded_amnt', 'int_rate', 'installment',\n",
       "       'annual_inc', 'dti', 'delinq_2yrs', 'inq_last_6mths',\n",
       "       'mths_since_last_delinq', 'mths_since_last_record', 'open_acc',\n",
       "       'pub_rec', 'total_acc', 'acc_now_delinq', 'total_rev_hi_lim'],\n",
       "      dtype='object')"
      ]
     },
     "execution_count": 77,
     "metadata": {},
     "output_type": "execute_result"
    }
   ],
   "source": [
    "X_test_lgd_stage2.columns"
   ]
  },
  {
   "cell_type": "code",
   "execution_count": 78,
   "id": "e9f271b2",
   "metadata": {},
   "outputs": [],
   "source": [
    "y_pred_test_lgd_stage2 = lm_lgd_st2.predict(X_test_lgd_stage2)"
   ]
  },
  {
   "cell_type": "code",
   "execution_count": 79,
   "id": "85a70986",
   "metadata": {},
   "outputs": [],
   "source": [
    "y_test_lgd_stage2_temp = y_test_lgd_stage2\n",
    "y_test_lgd_stage2_temp = y_test_lgd_stage2_temp.reset_index(drop=True)"
   ]
  },
  {
   "cell_type": "code",
   "execution_count": 80,
   "id": "e770af6c",
   "metadata": {
    "scrolled": false
   },
   "outputs": [
    {
     "name": "stderr",
     "output_type": "stream",
     "text": [
      "C:\\Users\\m10sa\\anaconda3\\lib\\site-packages\\seaborn\\distributions.py:2557: FutureWarning: `distplot` is a deprecated function and will be removed in a future version. Please adapt your code to use either `displot` (a figure-level function with similar flexibility) or `histplot` (an axes-level function for histograms).\n",
      "  warnings.warn(msg, FutureWarning)\n"
     ]
    },
    {
     "data": {
      "image/png": "[encoded data removed]",
      "text/plain": [
       "<Figure size 576x396 with 1 Axes>"
      ]
     },
     "metadata": {},
     "output_type": "display_data"
    }
   ],
   "source": [
    "sns.distplot(y_test_lgd_stage2 - y_pred_test_lgd_stage2, bins=100)\n",
    "plt.title('Residuals', fontdict={'fontweight':'bold', 'fontsize':16})\n",
    "plt.show()"
   ]
  },
  {
   "cell_type": "markdown",
   "id": "0b211a62",
   "metadata": {},
   "source": [
    "### Saving the Model"
   ]
  },
  {
   "cell_type": "code",
   "execution_count": 81,
   "id": "0cebd29b",
   "metadata": {},
   "outputs": [],
   "source": [
    "with open('lgd_model_stage2.sav', 'wb') as f:\n",
    "    pickle.dump(lm_lgd_st2, f)"
   ]
  },
  {
   "cell_type": "markdown",
   "id": "8ce2c07d",
   "metadata": {},
   "source": [
    "### LGD Model - Combining Stages 1 and  2"
   ]
  },
  {
   "cell_type": "code",
   "execution_count": 82,
   "id": "3e324676",
   "metadata": {},
   "outputs": [
    {
     "data": {
      "text/plain": [
       "array([0.04548586, 0.06251815, 0.11880874, ..., 0.13418521, 0.09390662,\n",
       "       0.07926178])"
      ]
     },
     "execution_count": 82,
     "metadata": {},
     "output_type": "execute_result"
    }
   ],
   "source": [
    "# inputs = X_test_lgd_stage1    ***\n",
    "y_pred_test_lgd_stage2_all = lm_lgd_st2.predict(X_test_lgd_stage1)\n",
    "y_pred_test_lgd_stage2_all"
   ]
  },
  {
   "cell_type": "code",
   "execution_count": 83,
   "id": "fdce626e",
   "metadata": {},
   "outputs": [],
   "source": [
    "y_pred_test_lgd = y_pred_test_lgd_stage1 * y_pred_test_lgd_stage2_all           # RR"
   ]
  },
  {
   "cell_type": "code",
   "execution_count": 84,
   "id": "6633e034",
   "metadata": {},
   "outputs": [
    {
     "data": {
      "text/html": [
       "<div>\n",
       "<style scoped>\n",
       "    .dataframe tbody tr th:only-of-type {\n",
       "        vertical-align: middle;\n",
       "    }\n",
       "\n",
       "    .dataframe tbody tr th {\n",
       "        vertical-align: top;\n",
       "    }\n",
       "\n",
       "    .dataframe thead th {\n",
       "        text-align: right;\n",
       "    }\n",
       "</style>\n",
       "<table border=\"1\" class=\"dataframe\">\n",
       "  <thead>\n",
       "    <tr style=\"text-align: right;\">\n",
       "      <th></th>\n",
       "      <th>0</th>\n",
       "    </tr>\n",
       "  </thead>\n",
       "  <tbody>\n",
       "    <tr>\n",
       "      <th>count</th>\n",
       "      <td>4324.000000</td>\n",
       "    </tr>\n",
       "    <tr>\n",
       "      <th>mean</th>\n",
       "      <td>0.063502</td>\n",
       "    </tr>\n",
       "    <tr>\n",
       "      <th>std</th>\n",
       "      <td>0.054013</td>\n",
       "    </tr>\n",
       "    <tr>\n",
       "      <th>min</th>\n",
       "      <td>-0.008721</td>\n",
       "    </tr>\n",
       "    <tr>\n",
       "      <th>25%</th>\n",
       "      <td>0.000000</td>\n",
       "    </tr>\n",
       "    <tr>\n",
       "      <th>50%</th>\n",
       "      <td>0.080869</td>\n",
       "    </tr>\n",
       "    <tr>\n",
       "      <th>75%</th>\n",
       "      <td>0.109544</td>\n",
       "    </tr>\n",
       "    <tr>\n",
       "      <th>max</th>\n",
       "      <td>0.262361</td>\n",
       "    </tr>\n",
       "  </tbody>\n",
       "</table>\n",
       "</div>"
      ],
      "text/plain": [
       "                 0\n",
       "count  4324.000000\n",
       "mean      0.063502\n",
       "std       0.054013\n",
       "min      -0.008721\n",
       "25%       0.000000\n",
       "50%       0.080869\n",
       "75%       0.109544\n",
       "max       0.262361"
      ]
     },
     "execution_count": 84,
     "metadata": {},
     "output_type": "execute_result"
    }
   ],
   "source": [
    "pd.DataFrame(y_pred_test_lgd).describe()   "
   ]
  },
  {
   "cell_type": "code",
   "execution_count": 85,
   "id": "05053da4",
   "metadata": {},
   "outputs": [
    {
     "data": {
      "text/plain": [
       "array([0.04548586, 0.06251815, 0.11880874, ..., 0.        , 0.09390662,\n",
       "       0.07926178])"
      ]
     },
     "execution_count": 85,
     "metadata": {},
     "output_type": "execute_result"
    }
   ],
   "source": [
    "y_pred_test_lgd = np.where(y_pred_test_lgd < 0, 0, y_pred_test_lgd)     \n",
    "y_pred_test_lgd = np.where(y_pred_test_lgd > 1, 1, y_pred_test_lgd)\n",
    "y_pred_test_lgd"
   ]
  },
  {
   "cell_type": "code",
   "execution_count": 86,
   "id": "966fd435",
   "metadata": {},
   "outputs": [
    {
     "data": {
      "text/html": [
       "<div>\n",
       "<style scoped>\n",
       "    .dataframe tbody tr th:only-of-type {\n",
       "        vertical-align: middle;\n",
       "    }\n",
       "\n",
       "    .dataframe tbody tr th {\n",
       "        vertical-align: top;\n",
       "    }\n",
       "\n",
       "    .dataframe thead th {\n",
       "        text-align: right;\n",
       "    }\n",
       "</style>\n",
       "<table border=\"1\" class=\"dataframe\">\n",
       "  <thead>\n",
       "    <tr style=\"text-align: right;\">\n",
       "      <th></th>\n",
       "      <th>0</th>\n",
       "    </tr>\n",
       "  </thead>\n",
       "  <tbody>\n",
       "    <tr>\n",
       "      <th>count</th>\n",
       "      <td>4324.000000</td>\n",
       "    </tr>\n",
       "    <tr>\n",
       "      <th>mean</th>\n",
       "      <td>0.063505</td>\n",
       "    </tr>\n",
       "    <tr>\n",
       "      <th>std</th>\n",
       "      <td>0.054009</td>\n",
       "    </tr>\n",
       "    <tr>\n",
       "      <th>min</th>\n",
       "      <td>0.000000</td>\n",
       "    </tr>\n",
       "    <tr>\n",
       "      <th>25%</th>\n",
       "      <td>0.000000</td>\n",
       "    </tr>\n",
       "    <tr>\n",
       "      <th>50%</th>\n",
       "      <td>0.080869</td>\n",
       "    </tr>\n",
       "    <tr>\n",
       "      <th>75%</th>\n",
       "      <td>0.109544</td>\n",
       "    </tr>\n",
       "    <tr>\n",
       "      <th>max</th>\n",
       "      <td>0.262361</td>\n",
       "    </tr>\n",
       "  </tbody>\n",
       "</table>\n",
       "</div>"
      ],
      "text/plain": [
       "                 0\n",
       "count  4324.000000\n",
       "mean      0.063505\n",
       "std       0.054009\n",
       "min       0.000000\n",
       "25%       0.000000\n",
       "50%       0.080869\n",
       "75%       0.109544\n",
       "max       0.262361"
      ]
     },
     "execution_count": 86,
     "metadata": {},
     "output_type": "execute_result"
    }
   ],
   "source": [
    "pd.DataFrame(y_pred_test_lgd).describe()"
   ]
  },
  {
   "cell_type": "markdown",
   "id": "8d80c10b",
   "metadata": {},
   "source": [
    "# EAD Model"
   ]
  },
  {
   "cell_type": "code",
   "execution_count": 87,
   "id": "4c8dbf42",
   "metadata": {},
   "outputs": [],
   "source": [
    "X_train_ead, X_test_ead, y_train_ead, y_test_ead = train_test_split(df_defaults.drop(['good_bad', 'RR', 'RR_bool', 'CCF'], axis=1), df_defaults['CCF'], test_size=0.1, random_state=42)"
   ]
  },
  {
   "cell_type": "code",
   "execution_count": 88,
   "id": "f57af6c2",
   "metadata": {},
   "outputs": [
    {
     "data": {
      "text/plain": [
       "Index(['id', 'member_id', 'loan_amnt', 'funded_amnt', 'funded_amnt_inv',\n",
       "       'term', 'int_rate', 'installment', 'grade', 'sub_grade',\n",
       "       ...\n",
       "       'mths_since_last_record:0-2', 'mths_since_last_record:3-14',\n",
       "       'mths_since_last_record:15-21', 'mths_since_last_record:22-31',\n",
       "       'mths_since_last_record:32-50', 'mths_since_last_record:51-70',\n",
       "       'mths_since_last_record:71-79', 'mths_since_last_record:80-84',\n",
       "       'mths_since_last_record:85-96', 'mths_since_last_record:>=97'],\n",
       "      dtype='object', length=331)"
      ]
     },
     "execution_count": 88,
     "metadata": {},
     "output_type": "execute_result"
    }
   ],
   "source": [
    "X_train_ead.columns"
   ]
  },
  {
   "cell_type": "code",
   "execution_count": 89,
   "id": "1e4e3621",
   "metadata": {},
   "outputs": [],
   "source": [
    "X_train_ead = X_train_ead[features_all]\n",
    "X_train_ead = X_train_ead.drop(ref_categories, axis=1)"
   ]
  },
  {
   "cell_type": "code",
   "execution_count": 90,
   "id": "34c07d21",
   "metadata": {
    "scrolled": true
   },
   "outputs": [
    {
     "data": {
      "text/plain": [
       "LinearRegression()"
      ]
     },
     "execution_count": 90,
     "metadata": {},
     "output_type": "execute_result"
    }
   ],
   "source": [
    "lm_ead = LinearRegression()\n",
    "lm_ead.fit(X_train_ead, y_train_ead)"
   ]
  },
  {
   "cell_type": "code",
   "execution_count": 91,
   "id": "b528222f",
   "metadata": {
    "scrolled": true
   },
   "outputs": [
    {
     "data": {
      "text/plain": [
       "1.384850983112182"
      ]
     },
     "execution_count": 91,
     "metadata": {},
     "output_type": "execute_result"
    }
   ],
   "source": [
    "lm_ead.intercept_"
   ]
  },
  {
   "cell_type": "code",
   "execution_count": 92,
   "id": "206b4eae",
   "metadata": {},
   "outputs": [
    {
     "data": {
      "text/plain": [
       "array([-3.06442687e-01, -2.38261518e-01, -1.72377425e-01, -1.20324714e-01,\n",
       "       -6.84180978e-02, -1.93000312e-02, -6.56407339e-03,  1.71882505e-02,\n",
       "       -1.83575310e-02, -3.43964798e-03, -9.27426937e-04,  9.06640068e-03,\n",
       "       -4.49119530e-03,  1.28335216e-02,  1.03306509e-01,  2.06729635e-02,\n",
       "        1.06392758e-02,  3.31521402e-02,  4.09782239e-02,  4.64315576e-02,\n",
       "        3.84845389e-02,  4.73983038e-02,  5.62540097e-02,  2.12625735e-02,\n",
       "        3.56863416e-02,  1.26756845e-02,  4.44428130e-03, -1.57386864e-03,\n",
       "       -4.34985920e-03, -3.56640479e-05,  2.69879998e-06, -1.17070710e-02,\n",
       "       -7.96495766e-05,  8.77041697e-09,  3.39975069e-04,  2.72289788e-05,\n",
       "        1.08343891e-02, -1.99564880e-04, -5.27798607e-05, -2.21009890e-03,\n",
       "        5.70258145e-03,  5.09707595e-04,  1.14331969e-02,  7.23041601e-08])"
      ]
     },
     "execution_count": 92,
     "metadata": {},
     "output_type": "execute_result"
    }
   ],
   "source": [
    "lm_ead.coef_"
   ]
  },
  {
   "cell_type": "code",
   "execution_count": 93,
   "id": "91ea27f5",
   "metadata": {},
   "outputs": [],
   "source": [
    "features = X_train_ead.columns"
   ]
  },
  {
   "cell_type": "code",
   "execution_count": 94,
   "id": "6708395b",
   "metadata": {},
   "outputs": [
    {
     "data": {
      "text/html": [
       "<div>\n",
       "<style scoped>\n",
       "    .dataframe tbody tr th:only-of-type {\n",
       "        vertical-align: middle;\n",
       "    }\n",
       "\n",
       "    .dataframe tbody tr th {\n",
       "        vertical-align: top;\n",
       "    }\n",
       "\n",
       "    .dataframe thead th {\n",
       "        text-align: right;\n",
       "    }\n",
       "</style>\n",
       "<table border=\"1\" class=\"dataframe\">\n",
       "  <thead>\n",
       "    <tr style=\"text-align: right;\">\n",
       "      <th></th>\n",
       "      <th>Feature Name</th>\n",
       "      <th>Coefficient</th>\n",
       "    </tr>\n",
       "  </thead>\n",
       "  <tbody>\n",
       "    <tr>\n",
       "      <th>0</th>\n",
       "      <td>intercept</td>\n",
       "      <td>1.384851e+00</td>\n",
       "    </tr>\n",
       "    <tr>\n",
       "      <th>1</th>\n",
       "      <td>grade:A</td>\n",
       "      <td>-3.064427e-01</td>\n",
       "    </tr>\n",
       "    <tr>\n",
       "      <th>2</th>\n",
       "      <td>grade:B</td>\n",
       "      <td>-2.382615e-01</td>\n",
       "    </tr>\n",
       "    <tr>\n",
       "      <th>3</th>\n",
       "      <td>grade:C</td>\n",
       "      <td>-1.723774e-01</td>\n",
       "    </tr>\n",
       "    <tr>\n",
       "      <th>4</th>\n",
       "      <td>grade:D</td>\n",
       "      <td>-1.203247e-01</td>\n",
       "    </tr>\n",
       "    <tr>\n",
       "      <th>5</th>\n",
       "      <td>grade:E</td>\n",
       "      <td>-6.841810e-02</td>\n",
       "    </tr>\n",
       "    <tr>\n",
       "      <th>6</th>\n",
       "      <td>grade:F</td>\n",
       "      <td>-1.930003e-02</td>\n",
       "    </tr>\n",
       "    <tr>\n",
       "      <th>7</th>\n",
       "      <td>home_ownership:MORTGAGE</td>\n",
       "      <td>-6.564073e-03</td>\n",
       "    </tr>\n",
       "    <tr>\n",
       "      <th>8</th>\n",
       "      <td>home_ownership:NONE</td>\n",
       "      <td>1.718825e-02</td>\n",
       "    </tr>\n",
       "    <tr>\n",
       "      <th>9</th>\n",
       "      <td>home_ownership:OTHER</td>\n",
       "      <td>-1.835753e-02</td>\n",
       "    </tr>\n",
       "    <tr>\n",
       "      <th>10</th>\n",
       "      <td>home_ownership:OWN</td>\n",
       "      <td>-3.439648e-03</td>\n",
       "    </tr>\n",
       "    <tr>\n",
       "      <th>11</th>\n",
       "      <td>verification_status:Not Verified</td>\n",
       "      <td>-9.274269e-04</td>\n",
       "    </tr>\n",
       "    <tr>\n",
       "      <th>12</th>\n",
       "      <td>verification_status:Source Verified</td>\n",
       "      <td>9.066401e-03</td>\n",
       "    </tr>\n",
       "    <tr>\n",
       "      <th>13</th>\n",
       "      <td>purpose:car</td>\n",
       "      <td>-4.491195e-03</td>\n",
       "    </tr>\n",
       "    <tr>\n",
       "      <th>14</th>\n",
       "      <td>purpose:debt_consolidation</td>\n",
       "      <td>1.283352e-02</td>\n",
       "    </tr>\n",
       "    <tr>\n",
       "      <th>15</th>\n",
       "      <td>purpose:educational</td>\n",
       "      <td>1.033065e-01</td>\n",
       "    </tr>\n",
       "    <tr>\n",
       "      <th>16</th>\n",
       "      <td>purpose:home_improvement</td>\n",
       "      <td>2.067296e-02</td>\n",
       "    </tr>\n",
       "    <tr>\n",
       "      <th>17</th>\n",
       "      <td>purpose:house</td>\n",
       "      <td>1.063928e-02</td>\n",
       "    </tr>\n",
       "    <tr>\n",
       "      <th>18</th>\n",
       "      <td>purpose:major_purchase</td>\n",
       "      <td>3.315214e-02</td>\n",
       "    </tr>\n",
       "    <tr>\n",
       "      <th>19</th>\n",
       "      <td>purpose:medical</td>\n",
       "      <td>4.097822e-02</td>\n",
       "    </tr>\n",
       "    <tr>\n",
       "      <th>20</th>\n",
       "      <td>purpose:moving</td>\n",
       "      <td>4.643156e-02</td>\n",
       "    </tr>\n",
       "    <tr>\n",
       "      <th>21</th>\n",
       "      <td>purpose:other</td>\n",
       "      <td>3.848454e-02</td>\n",
       "    </tr>\n",
       "    <tr>\n",
       "      <th>22</th>\n",
       "      <td>purpose:renewable_energy</td>\n",
       "      <td>4.739830e-02</td>\n",
       "    </tr>\n",
       "    <tr>\n",
       "      <th>23</th>\n",
       "      <td>purpose:small_business</td>\n",
       "      <td>5.625401e-02</td>\n",
       "    </tr>\n",
       "    <tr>\n",
       "      <th>24</th>\n",
       "      <td>purpose:vacation</td>\n",
       "      <td>2.126257e-02</td>\n",
       "    </tr>\n",
       "    <tr>\n",
       "      <th>25</th>\n",
       "      <td>purpose:wedding</td>\n",
       "      <td>3.568634e-02</td>\n",
       "    </tr>\n",
       "    <tr>\n",
       "      <th>26</th>\n",
       "      <td>initial_list_status:w</td>\n",
       "      <td>1.267568e-02</td>\n",
       "    </tr>\n",
       "    <tr>\n",
       "      <th>27</th>\n",
       "      <td>term_int</td>\n",
       "      <td>4.444281e-03</td>\n",
       "    </tr>\n",
       "    <tr>\n",
       "      <th>28</th>\n",
       "      <td>emp_length_int</td>\n",
       "      <td>-1.573869e-03</td>\n",
       "    </tr>\n",
       "    <tr>\n",
       "      <th>29</th>\n",
       "      <td>mths_since_issue_d</td>\n",
       "      <td>-4.349859e-03</td>\n",
       "    </tr>\n",
       "    <tr>\n",
       "      <th>30</th>\n",
       "      <td>mths_since_earliest_cr_line</td>\n",
       "      <td>-3.566405e-05</td>\n",
       "    </tr>\n",
       "    <tr>\n",
       "      <th>31</th>\n",
       "      <td>funded_amnt</td>\n",
       "      <td>2.698800e-06</td>\n",
       "    </tr>\n",
       "    <tr>\n",
       "      <th>32</th>\n",
       "      <td>int_rate</td>\n",
       "      <td>-1.170707e-02</td>\n",
       "    </tr>\n",
       "    <tr>\n",
       "      <th>33</th>\n",
       "      <td>installment</td>\n",
       "      <td>-7.964958e-05</td>\n",
       "    </tr>\n",
       "    <tr>\n",
       "      <th>34</th>\n",
       "      <td>annual_inc</td>\n",
       "      <td>8.770417e-09</td>\n",
       "    </tr>\n",
       "    <tr>\n",
       "      <th>35</th>\n",
       "      <td>dti</td>\n",
       "      <td>3.399751e-04</td>\n",
       "    </tr>\n",
       "    <tr>\n",
       "      <th>36</th>\n",
       "      <td>delinq_2yrs</td>\n",
       "      <td>2.722898e-05</td>\n",
       "    </tr>\n",
       "    <tr>\n",
       "      <th>37</th>\n",
       "      <td>inq_last_6mths</td>\n",
       "      <td>1.083439e-02</td>\n",
       "    </tr>\n",
       "    <tr>\n",
       "      <th>38</th>\n",
       "      <td>mths_since_last_delinq</td>\n",
       "      <td>-1.995649e-04</td>\n",
       "    </tr>\n",
       "    <tr>\n",
       "      <th>39</th>\n",
       "      <td>mths_since_last_record</td>\n",
       "      <td>-5.277986e-05</td>\n",
       "    </tr>\n",
       "    <tr>\n",
       "      <th>40</th>\n",
       "      <td>open_acc</td>\n",
       "      <td>-2.210099e-03</td>\n",
       "    </tr>\n",
       "    <tr>\n",
       "      <th>41</th>\n",
       "      <td>pub_rec</td>\n",
       "      <td>5.702581e-03</td>\n",
       "    </tr>\n",
       "    <tr>\n",
       "      <th>42</th>\n",
       "      <td>total_acc</td>\n",
       "      <td>5.097076e-04</td>\n",
       "    </tr>\n",
       "    <tr>\n",
       "      <th>43</th>\n",
       "      <td>acc_now_delinq</td>\n",
       "      <td>1.143320e-02</td>\n",
       "    </tr>\n",
       "    <tr>\n",
       "      <th>44</th>\n",
       "      <td>total_rev_hi_lim</td>\n",
       "      <td>7.230416e-08</td>\n",
       "    </tr>\n",
       "  </tbody>\n",
       "</table>\n",
       "</div>"
      ],
      "text/plain": [
       "                           Feature Name   Coefficient\n",
       "0                             intercept  1.384851e+00\n",
       "1                               grade:A -3.064427e-01\n",
       "2                               grade:B -2.382615e-01\n",
       "3                               grade:C -1.723774e-01\n",
       "4                               grade:D -1.203247e-01\n",
       "5                               grade:E -6.841810e-02\n",
       "6                               grade:F -1.930003e-02\n",
       "7               home_ownership:MORTGAGE -6.564073e-03\n",
       "8                   home_ownership:NONE  1.718825e-02\n",
       "9                  home_ownership:OTHER -1.835753e-02\n",
       "10                   home_ownership:OWN -3.439648e-03\n",
       "11     verification_status:Not Verified -9.274269e-04\n",
       "12  verification_status:Source Verified  9.066401e-03\n",
       "13                          purpose:car -4.491195e-03\n",
       "14           purpose:debt_consolidation  1.283352e-02\n",
       "15                  purpose:educational  1.033065e-01\n",
       "16             purpose:home_improvement  2.067296e-02\n",
       "17                        purpose:house  1.063928e-02\n",
       "18               purpose:major_purchase  3.315214e-02\n",
       "19                      purpose:medical  4.097822e-02\n",
       "20                       purpose:moving  4.643156e-02\n",
       "21                        purpose:other  3.848454e-02\n",
       "22             purpose:renewable_energy  4.739830e-02\n",
       "23               purpose:small_business  5.625401e-02\n",
       "24                     purpose:vacation  2.126257e-02\n",
       "25                      purpose:wedding  3.568634e-02\n",
       "26                initial_list_status:w  1.267568e-02\n",
       "27                             term_int  4.444281e-03\n",
       "28                       emp_length_int -1.573869e-03\n",
       "29                   mths_since_issue_d -4.349859e-03\n",
       "30          mths_since_earliest_cr_line -3.566405e-05\n",
       "31                          funded_amnt  2.698800e-06\n",
       "32                             int_rate -1.170707e-02\n",
       "33                          installment -7.964958e-05\n",
       "34                           annual_inc  8.770417e-09\n",
       "35                                  dti  3.399751e-04\n",
       "36                          delinq_2yrs  2.722898e-05\n",
       "37                       inq_last_6mths  1.083439e-02\n",
       "38               mths_since_last_delinq -1.995649e-04\n",
       "39               mths_since_last_record -5.277986e-05\n",
       "40                             open_acc -2.210099e-03\n",
       "41                              pub_rec  5.702581e-03\n",
       "42                            total_acc  5.097076e-04\n",
       "43                       acc_now_delinq  1.143320e-02\n",
       "44                     total_rev_hi_lim  7.230416e-08"
      ]
     },
     "execution_count": 94,
     "metadata": {},
     "output_type": "execute_result"
    }
   ],
   "source": [
    "d = {'Feature Name':features, 'Coefficient':lm_ead.coef_} \n",
    "summary_table = pd.DataFrame(data=d)\n",
    "new_row = pd.DataFrame({'Feature Name':'intercept', 'Coefficient':lm_ead.intercept_}, index=[0])\n",
    "summary_table = pd.concat([new_row, summary_table], axis=0).reset_index(drop=True)               \n",
    "summary_table"
   ]
  },
  {
   "cell_type": "markdown",
   "id": "735554df",
   "metadata": {},
   "source": [
    "### Testing the Model "
   ]
  },
  {
   "cell_type": "code",
   "execution_count": 95,
   "id": "3a9f320d",
   "metadata": {},
   "outputs": [],
   "source": [
    "X_test_ead = X_test_ead[features_all]\n",
    "X_test_ead = X_test_ead.drop(ref_categories, axis=1)"
   ]
  },
  {
   "cell_type": "code",
   "execution_count": 96,
   "id": "35a74017",
   "metadata": {},
   "outputs": [],
   "source": [
    "y_pred_test_ead = lm_ead.predict(X_test_ead)    "
   ]
  },
  {
   "cell_type": "markdown",
   "id": "f1aa9b2f",
   "metadata": {},
   "source": [
    "Wwe can look at the distribution of the residuals."
   ]
  },
  {
   "cell_type": "code",
   "execution_count": 97,
   "id": "92e4aed3",
   "metadata": {
    "scrolled": false
   },
   "outputs": [
    {
     "name": "stderr",
     "output_type": "stream",
     "text": [
      "C:\\Users\\m10sa\\anaconda3\\lib\\site-packages\\seaborn\\distributions.py:2557: FutureWarning: `distplot` is a deprecated function and will be removed in a future version. Please adapt your code to use either `displot` (a figure-level function with similar flexibility) or `histplot` (an axes-level function for histograms).\n",
      "  warnings.warn(msg, FutureWarning)\n"
     ]
    },
    {
     "data": {
      "image/png": "[encoded data removed]",
      "text/plain": [
       "<Figure size 576x396 with 1 Axes>"
      ]
     },
     "metadata": {},
     "output_type": "display_data"
    }
   ],
   "source": [
    "sns.distplot(y_test_ead - y_pred_test_ead, bins=100)\n",
    "plt.show()"
   ]
  },
  {
   "cell_type": "code",
   "execution_count": 98,
   "id": "d6e2abf4",
   "metadata": {
    "scrolled": true
   },
   "outputs": [
    {
     "data": {
      "text/html": [
       "<div>\n",
       "<style scoped>\n",
       "    .dataframe tbody tr th:only-of-type {\n",
       "        vertical-align: middle;\n",
       "    }\n",
       "\n",
       "    .dataframe tbody tr th {\n",
       "        vertical-align: top;\n",
       "    }\n",
       "\n",
       "    .dataframe thead th {\n",
       "        text-align: right;\n",
       "    }\n",
       "</style>\n",
       "<table border=\"1\" class=\"dataframe\">\n",
       "  <thead>\n",
       "    <tr style=\"text-align: right;\">\n",
       "      <th></th>\n",
       "      <th>0</th>\n",
       "    </tr>\n",
       "  </thead>\n",
       "  <tbody>\n",
       "    <tr>\n",
       "      <th>count</th>\n",
       "      <td>4324.000000</td>\n",
       "    </tr>\n",
       "    <tr>\n",
       "      <th>mean</th>\n",
       "      <td>0.737138</td>\n",
       "    </tr>\n",
       "    <tr>\n",
       "      <th>std</th>\n",
       "      <td>0.105220</td>\n",
       "    </tr>\n",
       "    <tr>\n",
       "      <th>min</th>\n",
       "      <td>0.371703</td>\n",
       "    </tr>\n",
       "    <tr>\n",
       "      <th>25%</th>\n",
       "      <td>0.661795</td>\n",
       "    </tr>\n",
       "    <tr>\n",
       "      <th>50%</th>\n",
       "      <td>0.733794</td>\n",
       "    </tr>\n",
       "    <tr>\n",
       "      <th>75%</th>\n",
       "      <td>0.813188</td>\n",
       "    </tr>\n",
       "    <tr>\n",
       "      <th>max</th>\n",
       "      <td>0.999689</td>\n",
       "    </tr>\n",
       "  </tbody>\n",
       "</table>\n",
       "</div>"
      ],
      "text/plain": [
       "                 0\n",
       "count  4324.000000\n",
       "mean      0.737138\n",
       "std       0.105220\n",
       "min       0.371703\n",
       "25%       0.661795\n",
       "50%       0.733794\n",
       "75%       0.813188\n",
       "max       0.999689"
      ]
     },
     "execution_count": 98,
     "metadata": {},
     "output_type": "execute_result"
    }
   ],
   "source": [
    "pd.DataFrame(y_pred_test_ead).describe()"
   ]
  },
  {
   "cell_type": "code",
   "execution_count": 99,
   "id": "917ccda0",
   "metadata": {},
   "outputs": [],
   "source": [
    "y_pred_test_ead = np.where(y_pred_test_ead < 0, 0, y_pred_test_ead) \n",
    "y_pred_test_ead = np.where(y_pred_test_ead > 1, 1, y_pred_test_ead)"
   ]
  },
  {
   "cell_type": "code",
   "execution_count": 100,
   "id": "570b7292",
   "metadata": {},
   "outputs": [
    {
     "data": {
      "text/html": [
       "<div>\n",
       "<style scoped>\n",
       "    .dataframe tbody tr th:only-of-type {\n",
       "        vertical-align: middle;\n",
       "    }\n",
       "\n",
       "    .dataframe tbody tr th {\n",
       "        vertical-align: top;\n",
       "    }\n",
       "\n",
       "    .dataframe thead th {\n",
       "        text-align: right;\n",
       "    }\n",
       "</style>\n",
       "<table border=\"1\" class=\"dataframe\">\n",
       "  <thead>\n",
       "    <tr style=\"text-align: right;\">\n",
       "      <th></th>\n",
       "      <th>0</th>\n",
       "    </tr>\n",
       "  </thead>\n",
       "  <tbody>\n",
       "    <tr>\n",
       "      <th>count</th>\n",
       "      <td>4324.000000</td>\n",
       "    </tr>\n",
       "    <tr>\n",
       "      <th>mean</th>\n",
       "      <td>0.737138</td>\n",
       "    </tr>\n",
       "    <tr>\n",
       "      <th>std</th>\n",
       "      <td>0.105220</td>\n",
       "    </tr>\n",
       "    <tr>\n",
       "      <th>min</th>\n",
       "      <td>0.371703</td>\n",
       "    </tr>\n",
       "    <tr>\n",
       "      <th>25%</th>\n",
       "      <td>0.661795</td>\n",
       "    </tr>\n",
       "    <tr>\n",
       "      <th>50%</th>\n",
       "      <td>0.733794</td>\n",
       "    </tr>\n",
       "    <tr>\n",
       "      <th>75%</th>\n",
       "      <td>0.813188</td>\n",
       "    </tr>\n",
       "    <tr>\n",
       "      <th>max</th>\n",
       "      <td>0.999689</td>\n",
       "    </tr>\n",
       "  </tbody>\n",
       "</table>\n",
       "</div>"
      ],
      "text/plain": [
       "                 0\n",
       "count  4324.000000\n",
       "mean      0.737138\n",
       "std       0.105220\n",
       "min       0.371703\n",
       "25%       0.661795\n",
       "50%       0.733794\n",
       "75%       0.813188\n",
       "max       0.999689"
      ]
     },
     "execution_count": 100,
     "metadata": {},
     "output_type": "execute_result"
    }
   ],
   "source": [
    "pd.DataFrame(y_pred_test_ead).describe()"
   ]
  },
  {
   "cell_type": "markdown",
   "id": "95cbf24b",
   "metadata": {},
   "source": [
    "# Calculating Expected Loss"
   ]
  },
  {
   "cell_type": "markdown",
   "id": "e4947983",
   "metadata": {},
   "source": [
    "__EL = PD * LGD * EAD = PD * (1 - RR) * (CCF * FA)__"
   ]
  },
  {
   "cell_type": "code",
   "execution_count": 101,
   "id": "f48d4a3a",
   "metadata": {
    "scrolled": true
   },
   "outputs": [
    {
     "data": {
      "text/html": [
       "<div>\n",
       "<style scoped>\n",
       "    .dataframe tbody tr th:only-of-type {\n",
       "        vertical-align: middle;\n",
       "    }\n",
       "\n",
       "    .dataframe tbody tr th {\n",
       "        vertical-align: top;\n",
       "    }\n",
       "\n",
       "    .dataframe thead th {\n",
       "        text-align: right;\n",
       "    }\n",
       "</style>\n",
       "<table border=\"1\" class=\"dataframe\">\n",
       "  <thead>\n",
       "    <tr style=\"text-align: right;\">\n",
       "      <th></th>\n",
       "      <th>id</th>\n",
       "      <th>member_id</th>\n",
       "      <th>loan_amnt</th>\n",
       "      <th>funded_amnt</th>\n",
       "      <th>funded_amnt_inv</th>\n",
       "      <th>term</th>\n",
       "      <th>int_rate</th>\n",
       "      <th>installment</th>\n",
       "      <th>grade</th>\n",
       "      <th>sub_grade</th>\n",
       "      <th>...</th>\n",
       "      <th>mths_since_last_record:3-14</th>\n",
       "      <th>mths_since_last_record:15-21</th>\n",
       "      <th>mths_since_last_record:22-31</th>\n",
       "      <th>mths_since_last_record:32-50</th>\n",
       "      <th>mths_since_last_record:51-70</th>\n",
       "      <th>mths_since_last_record:71-79</th>\n",
       "      <th>mths_since_last_record:80-84</th>\n",
       "      <th>mths_since_last_record:85-96</th>\n",
       "      <th>mths_since_last_record:&gt;=97</th>\n",
       "      <th>good_bad</th>\n",
       "    </tr>\n",
       "  </thead>\n",
       "  <tbody>\n",
       "    <tr>\n",
       "      <th>58619</th>\n",
       "      <td>9011631</td>\n",
       "      <td>10803033</td>\n",
       "      <td>25000</td>\n",
       "      <td>25000</td>\n",
       "      <td>25000.0</td>\n",
       "      <td>36 months</td>\n",
       "      <td>13.67</td>\n",
       "      <td>850.44</td>\n",
       "      <td>B</td>\n",
       "      <td>B5</td>\n",
       "      <td>...</td>\n",
       "      <td>0</td>\n",
       "      <td>0</td>\n",
       "      <td>0</td>\n",
       "      <td>0</td>\n",
       "      <td>0</td>\n",
       "      <td>0</td>\n",
       "      <td>0</td>\n",
       "      <td>0</td>\n",
       "      <td>0</td>\n",
       "      <td>1</td>\n",
       "    </tr>\n",
       "    <tr>\n",
       "      <th>389825</th>\n",
       "      <td>16421396</td>\n",
       "      <td>18503935</td>\n",
       "      <td>7150</td>\n",
       "      <td>7150</td>\n",
       "      <td>7150.0</td>\n",
       "      <td>36 months</td>\n",
       "      <td>10.99</td>\n",
       "      <td>234.05</td>\n",
       "      <td>B</td>\n",
       "      <td>B3</td>\n",
       "      <td>...</td>\n",
       "      <td>0</td>\n",
       "      <td>0</td>\n",
       "      <td>0</td>\n",
       "      <td>0</td>\n",
       "      <td>0</td>\n",
       "      <td>0</td>\n",
       "      <td>0</td>\n",
       "      <td>0</td>\n",
       "      <td>0</td>\n",
       "      <td>1</td>\n",
       "    </tr>\n",
       "    <tr>\n",
       "      <th>119082</th>\n",
       "      <td>6094970</td>\n",
       "      <td>7567123</td>\n",
       "      <td>33950</td>\n",
       "      <td>33950</td>\n",
       "      <td>33950.0</td>\n",
       "      <td>36 months</td>\n",
       "      <td>15.22</td>\n",
       "      <td>1180.55</td>\n",
       "      <td>C</td>\n",
       "      <td>C3</td>\n",
       "      <td>...</td>\n",
       "      <td>0</td>\n",
       "      <td>0</td>\n",
       "      <td>0</td>\n",
       "      <td>0</td>\n",
       "      <td>0</td>\n",
       "      <td>0</td>\n",
       "      <td>0</td>\n",
       "      <td>0</td>\n",
       "      <td>0</td>\n",
       "      <td>0</td>\n",
       "    </tr>\n",
       "    <tr>\n",
       "      <th>232381</th>\n",
       "      <td>37107753</td>\n",
       "      <td>39870543</td>\n",
       "      <td>16800</td>\n",
       "      <td>16800</td>\n",
       "      <td>16800.0</td>\n",
       "      <td>60 months</td>\n",
       "      <td>11.44</td>\n",
       "      <td>368.97</td>\n",
       "      <td>B</td>\n",
       "      <td>B4</td>\n",
       "      <td>...</td>\n",
       "      <td>0</td>\n",
       "      <td>0</td>\n",
       "      <td>0</td>\n",
       "      <td>0</td>\n",
       "      <td>0</td>\n",
       "      <td>0</td>\n",
       "      <td>0</td>\n",
       "      <td>0</td>\n",
       "      <td>0</td>\n",
       "      <td>1</td>\n",
       "    </tr>\n",
       "    <tr>\n",
       "      <th>155122</th>\n",
       "      <td>3733016</td>\n",
       "      <td>4726207</td>\n",
       "      <td>10000</td>\n",
       "      <td>10000</td>\n",
       "      <td>10000.0</td>\n",
       "      <td>36 months</td>\n",
       "      <td>13.11</td>\n",
       "      <td>337.47</td>\n",
       "      <td>B</td>\n",
       "      <td>B4</td>\n",
       "      <td>...</td>\n",
       "      <td>0</td>\n",
       "      <td>0</td>\n",
       "      <td>0</td>\n",
       "      <td>0</td>\n",
       "      <td>0</td>\n",
       "      <td>0</td>\n",
       "      <td>0</td>\n",
       "      <td>0</td>\n",
       "      <td>0</td>\n",
       "      <td>1</td>\n",
       "    </tr>\n",
       "  </tbody>\n",
       "</table>\n",
       "<p>5 rows × 332 columns</p>\n",
       "</div>"
      ],
      "text/plain": [
       "              id  member_id  loan_amnt  funded_amnt  funded_amnt_inv  \\\n",
       "58619    9011631   10803033      25000        25000          25000.0   \n",
       "389825  16421396   18503935       7150         7150           7150.0   \n",
       "119082   6094970    7567123      33950        33950          33950.0   \n",
       "232381  37107753   39870543      16800        16800          16800.0   \n",
       "155122   3733016    4726207      10000        10000          10000.0   \n",
       "\n",
       "              term  int_rate  installment grade sub_grade  ...  \\\n",
       "58619    36 months     13.67       850.44     B        B5  ...   \n",
       "389825   36 months     10.99       234.05     B        B3  ...   \n",
       "119082   36 months     15.22      1180.55     C        C3  ...   \n",
       "232381   60 months     11.44       368.97     B        B4  ...   \n",
       "155122   36 months     13.11       337.47     B        B4  ...   \n",
       "\n",
       "       mths_since_last_record:3-14 mths_since_last_record:15-21  \\\n",
       "58619                            0                            0   \n",
       "389825                           0                            0   \n",
       "119082                           0                            0   \n",
       "232381                           0                            0   \n",
       "155122                           0                            0   \n",
       "\n",
       "       mths_since_last_record:22-31  mths_since_last_record:32-50  \\\n",
       "58619                             0                             0   \n",
       "389825                            0                             0   \n",
       "119082                            0                             0   \n",
       "232381                            0                             0   \n",
       "155122                            0                             0   \n",
       "\n",
       "       mths_since_last_record:51-70 mths_since_last_record:71-79  \\\n",
       "58619                             0                            0   \n",
       "389825                            0                            0   \n",
       "119082                            0                            0   \n",
       "232381                            0                            0   \n",
       "155122                            0                            0   \n",
       "\n",
       "       mths_since_last_record:80-84 mths_since_last_record:85-96  \\\n",
       "58619                             0                            0   \n",
       "389825                            0                            0   \n",
       "119082                            0                            0   \n",
       "232381                            0                            0   \n",
       "155122                            0                            0   \n",
       "\n",
       "       mths_since_last_record:>=97 good_bad  \n",
       "58619                            0        1  \n",
       "389825                           0        1  \n",
       "119082                           0        0  \n",
       "232381                           0        1  \n",
       "155122                           0        1  \n",
       "\n",
       "[5 rows x 332 columns]"
      ]
     },
     "execution_count": 101,
     "metadata": {},
     "output_type": "execute_result"
    }
   ],
   "source": [
    "df_prepr.head()"
   ]
  },
  {
   "cell_type": "code",
   "execution_count": 102,
   "id": "bad91032",
   "metadata": {},
   "outputs": [
    {
     "data": {
      "text/plain": [
       "id                                                                      0\n",
       "member_id                                                               0\n",
       "loan_amnt                                                               0\n",
       "funded_amnt                                                             0\n",
       "funded_amnt_inv                                                         0\n",
       "term                                                                    0\n",
       "int_rate                                                                0\n",
       "installment                                                             0\n",
       "grade                                                                   0\n",
       "sub_grade                                                               0\n",
       "emp_title                                                           27588\n",
       "emp_length                                                          21008\n",
       "home_ownership                                                          0\n",
       "annual_inc                                                              0\n",
       "verification_status                                                     0\n",
       "issue_d                                                                 0\n",
       "loan_status                                                             0\n",
       "pymnt_plan                                                              0\n",
       "url                                                                     0\n",
       "desc                                                               340302\n",
       "purpose                                                                 0\n",
       "title                                                                  20\n",
       "zip_code                                                                0\n",
       "addr_state                                                              0\n",
       "dti                                                                     0\n",
       "delinq_2yrs                                                             0\n",
       "earliest_cr_line                                                       29\n",
       "inq_last_6mths                                                          0\n",
       "mths_since_last_delinq                                             250351\n",
       "mths_since_last_record                                             403647\n",
       "open_acc                                                                0\n",
       "pub_rec                                                                 0\n",
       "revol_bal                                                               0\n",
       "revol_util                                                            340\n",
       "total_acc                                                               0\n",
       "initial_list_status                                                     0\n",
       "out_prncp                                                               0\n",
       "out_prncp_inv                                                           0\n",
       "total_pymnt                                                             0\n",
       "total_pymnt_inv                                                         0\n",
       "total_rec_prncp                                                         0\n",
       "total_rec_int                                                           0\n",
       "total_rec_late_fee                                                      0\n",
       "recoveries                                                              0\n",
       "collection_recovery_fee                                                 0\n",
       "last_pymnt_d                                                          376\n",
       "last_pymnt_amnt                                                         0\n",
       "next_pymnt_d                                                       227214\n",
       "last_credit_pull_d                                                     42\n",
       "collections_12_mths_ex_med                                            145\n",
       "mths_since_last_major_derog                                        367311\n",
       "policy_code                                                             0\n",
       "application_type                                                        0\n",
       "annual_inc_joint                                                   466285\n",
       "dti_joint                                                          466285\n",
       "verification_status_joint                                          466285\n",
       "acc_now_delinq                                                          0\n",
       "tot_coll_amt                                                        70276\n",
       "tot_cur_bal                                                         70276\n",
       "open_acc_6m                                                        466285\n",
       "open_il_6m                                                         466285\n",
       "open_il_12m                                                        466285\n",
       "open_il_24m                                                        466285\n",
       "mths_since_rcnt_il                                                 466285\n",
       "total_bal_il                                                       466285\n",
       "il_util                                                            466285\n",
       "open_rv_12m                                                        466285\n",
       "open_rv_24m                                                        466285\n",
       "max_bal_bc                                                         466285\n",
       "all_util                                                           466285\n",
       "total_rev_hi_lim                                                        0\n",
       "inq_fi                                                             466285\n",
       "total_cu_tl                                                        466285\n",
       "inq_last_12m                                                       466285\n",
       "emp_length_int                                                          0\n",
       "earliest_cr_line_date                                                  29\n",
       "mths_since_earliest_cr_line                                             0\n",
       "term_int                                                                0\n",
       "issue_d_date                                                            0\n",
       "mths_since_issue_d                                                      0\n",
       "addr_state:AK                                                           0\n",
       "addr_state:AL                                                           0\n",
       "addr_state:AR                                                           0\n",
       "addr_state:AZ                                                           0\n",
       "addr_state:CA                                                           0\n",
       "addr_state:CO                                                           0\n",
       "addr_state:CT                                                           0\n",
       "addr_state:DC                                                           0\n",
       "addr_state:DE                                                           0\n",
       "addr_state:FL                                                           0\n",
       "addr_state:GA                                                           0\n",
       "addr_state:HI                                                           0\n",
       "addr_state:IA                                                           0\n",
       "addr_state:ID                                                           0\n",
       "addr_state:IL                                                           0\n",
       "addr_state:IN                                                           0\n",
       "addr_state:KS                                                           0\n",
       "addr_state:KY                                                           0\n",
       "addr_state:LA                                                           0\n",
       "addr_state:MA                                                           0\n",
       "addr_state:MD                                                           0\n",
       "addr_state:ME                                                           0\n",
       "addr_state:MI                                                           0\n",
       "addr_state:MN                                                           0\n",
       "addr_state:MO                                                           0\n",
       "addr_state:MS                                                           0\n",
       "addr_state:MT                                                           0\n",
       "addr_state:NC                                                           0\n",
       "addr_state:NE                                                           0\n",
       "addr_state:NH                                                           0\n",
       "addr_state:NJ                                                           0\n",
       "addr_state:NM                                                           0\n",
       "addr_state:NV                                                           0\n",
       "addr_state:NY                                                           0\n",
       "addr_state:OH                                                           0\n",
       "addr_state:OK                                                           0\n",
       "addr_state:OR                                                           0\n",
       "addr_state:PA                                                           0\n",
       "addr_state:RI                                                           0\n",
       "addr_state:SC                                                           0\n",
       "addr_state:SD                                                           0\n",
       "addr_state:TN                                                           0\n",
       "addr_state:TX                                                           0\n",
       "addr_state:UT                                                           0\n",
       "addr_state:VA                                                           0\n",
       "addr_state:VT                                                           0\n",
       "addr_state:WA                                                           0\n",
       "addr_state:WI                                                           0\n",
       "addr_state:WV                                                           0\n",
       "addr_state:WY                                                           0\n",
       "grade:A                                                                 0\n",
       "grade:B                                                                 0\n",
       "grade:C                                                                 0\n",
       "grade:D                                                                 0\n",
       "grade:E                                                                 0\n",
       "grade:F                                                                 0\n",
       "grade:G                                                                 0\n",
       "home_ownership:ANY                                                      0\n",
       "home_ownership:MORTGAGE                                                 0\n",
       "home_ownership:NONE                                                     0\n",
       "home_ownership:OTHER                                                    0\n",
       "home_ownership:OWN                                                      0\n",
       "home_ownership:RENT                                                     0\n",
       "initial_list_status:f                                                   0\n",
       "initial_list_status:w                                                   0\n",
       "loan_status:Charged Off                                                 0\n",
       "loan_status:Current                                                     0\n",
       "loan_status:Default                                                     0\n",
       "loan_status:Does not meet the credit policy. Status:Charged Off         0\n",
       "loan_status:Does not meet the credit policy. Status:Fully Paid          0\n",
       "loan_status:Fully Paid                                                  0\n",
       "loan_status:In Grace Period                                             0\n",
       "loan_status:Late (16-30 days)                                           0\n",
       "loan_status:Late (31-120 days)                                          0\n",
       "purpose:car                                                             0\n",
       "purpose:credit_card                                                     0\n",
       "purpose:debt_consolidation                                              0\n",
       "purpose:educational                                                     0\n",
       "purpose:home_improvement                                                0\n",
       "purpose:house                                                           0\n",
       "purpose:major_purchase                                                  0\n",
       "purpose:medical                                                         0\n",
       "purpose:moving                                                          0\n",
       "purpose:other                                                           0\n",
       "purpose:renewable_energy                                                0\n",
       "purpose:small_business                                                  0\n",
       "purpose:vacation                                                        0\n",
       "purpose:wedding                                                         0\n",
       "sub_grade:A1                                                            0\n",
       "sub_grade:A2                                                            0\n",
       "sub_grade:A3                                                            0\n",
       "sub_grade:A4                                                            0\n",
       "sub_grade:A5                                                            0\n",
       "sub_grade:B1                                                            0\n",
       "sub_grade:B2                                                            0\n",
       "sub_grade:B3                                                            0\n",
       "sub_grade:B4                                                            0\n",
       "sub_grade:B5                                                            0\n",
       "sub_grade:C1                                                            0\n",
       "sub_grade:C2                                                            0\n",
       "sub_grade:C3                                                            0\n",
       "sub_grade:C4                                                            0\n",
       "sub_grade:C5                                                            0\n",
       "sub_grade:D1                                                            0\n",
       "sub_grade:D2                                                            0\n",
       "sub_grade:D3                                                            0\n",
       "sub_grade:D4                                                            0\n",
       "sub_grade:D5                                                            0\n",
       "sub_grade:E1                                                            0\n",
       "sub_grade:E2                                                            0\n",
       "sub_grade:E3                                                            0\n",
       "sub_grade:E4                                                            0\n",
       "sub_grade:E5                                                            0\n",
       "sub_grade:F1                                                            0\n",
       "sub_grade:F2                                                            0\n",
       "sub_grade:F3                                                            0\n",
       "sub_grade:F4                                                            0\n",
       "sub_grade:F5                                                            0\n",
       "sub_grade:G1                                                            0\n",
       "sub_grade:G2                                                            0\n",
       "sub_grade:G3                                                            0\n",
       "sub_grade:G4                                                            0\n",
       "sub_grade:G5                                                            0\n",
       "verification_status:Not Verified                                        0\n",
       "verification_status:Source Verified                                     0\n",
       "verification_status:Verified                                            0\n",
       "home_ownership:OTHER_NONE_RENT_ANY                                      0\n",
       "addr_state:ND                                                           0\n",
       "addr_state:ND_NE_IA_NV_FL_HI_AL                                         0\n",
       "addr_state:NM_VA                                                        0\n",
       "addr_state:OK_TN_MO_LA_MD_NC                                            0\n",
       "addr_state:UT_KY_AZ_NJ                                                  0\n",
       "addr_state:AR_MI_PA_OH_MN                                               0\n",
       "addr_state:RI_MA_DE_SD_IN                                               0\n",
       "addr_state:GA_WA_OR                                                     0\n",
       "addr_state:WI_MT                                                        0\n",
       "addr_state:IL_CT                                                        0\n",
       "addr_state:KS_SC_CO_VT_AK_MS                                            0\n",
       "addr_state:WV_NH_WY_DC_ME_ID                                            0\n",
       "purpose:sm_b__edu__mov__ren_en__house__oth                              0\n",
       "purpose:med__wed__vacation                                              0\n",
       "purpose:home_impr__major_purch__car                                     0\n",
       "term:36                                                                 0\n",
       "term:60                                                                 0\n",
       "emp_length:0                                                            0\n",
       "emp_length:1                                                            0\n",
       "emp_length:2-4                                                          0\n",
       "emp_length:5-6                                                          0\n",
       "emp_length:7-9                                                          0\n",
       "emp_length:10                                                           0\n",
       "mths_since_issue_d_factor                                               0\n",
       "mths_since_issue_d:<104                                                 0\n",
       "mths_since_issue_d:104-105                                              0\n",
       "mths_since_issue_d:105-110                                              0\n",
       "mths_since_issue_d:110-114                                              0\n",
       "mths_since_issue_d:114-125                                              0\n",
       "mths_since_issue_d:125-134                                              0\n",
       "mths_since_issue_d:134-153                                              0\n",
       "mths_since_issue_d:153-170                                              0\n",
       "mths_since_issue_d:170-186                                              0\n",
       "mths_since_issue_d:>=186                                                0\n",
       "int_rate_factor                                                         0\n",
       "int_rate:<=9.548                                                        0\n",
       "int_rate:9.548-12.025                                                   0\n",
       "int_rate:12.025-15.74                                                   0\n",
       "int_rate:15.74-21.106                                                   0\n",
       "int_rate:>21.106                                                        0\n",
       "funded_amnt_factor                                                      0\n",
       "mths_since_earliest_cr_line_factor                                      0\n",
       "mths_since_earliest_cr_line:<304                                        0\n",
       "mths_since_earliest_cr_line:304-418                                     0\n",
       "mths_since_earliest_cr_line:418-493                                     0\n",
       "mths_since_earliest_cr_line:493-512                                     0\n",
       "mths_since_earliest_cr_line:512-607                                     0\n",
       "mths_since_earliest_cr_line:607-664                                     0\n",
       "mths_since_earliest_cr_line:>=664                                       0\n",
       "delinq_2yrs:0                                                           0\n",
       "delinq_2yrs:1-3                                                         0\n",
       "delinq_2yrs:>=4                                                         0\n",
       "inq_last_6mths:0                                                        0\n",
       "inq_last_6mths:1-2                                                      0\n",
       "inq_last_6mths:3-6                                                      0\n",
       "inq_last_6mths:>6                                                       0\n",
       "open_acc:0                                                              0\n",
       "open_acc:1-3                                                            0\n",
       "open_acc:4-12                                                           0\n",
       "open_acc:13-24                                                          0\n",
       "open_acc:25-32                                                          0\n",
       "open_acc:>=33                                                           0\n",
       "pub_rec:0-2                                                             0\n",
       "pub_rec:3-5                                                             0\n",
       "pub_rec:>=6                                                             0\n",
       "total_acc_factor                                                        0\n",
       "total_acc:<=21                                                          0\n",
       "total_acc:22-63                                                         0\n",
       "total_acc:>=64                                                          0\n",
       "acc_now_delinq:0                                                        0\n",
       "acc_now_delinq:>=1                                                      0\n",
       "total_rev_hi_lim_factor                                                 0\n",
       "total_rev_hi_lim:<=5K                                                   0\n",
       "total_rev_hi_lim:5K-10K                                                 0\n",
       "total_rev_hi_lim:10K-20K                                                0\n",
       "total_rev_hi_lim:20K-30K                                                0\n",
       "total_rev_hi_lim:30K-40K                                                0\n",
       "total_rev_hi_lim:40K-55K                                                0\n",
       "total_rev_hi_lim:55K-95K                                                0\n",
       "total_rev_hi_lim:>95K                                                   0\n",
       "installment_factor                                                      0\n",
       "annual_inc_factor                                                       0\n",
       "annual_inc:<20K                                                         0\n",
       "annual_inc:20K-30K                                                      0\n",
       "annual_inc:30K-40K                                                      0\n",
       "annual_inc:40K-50K                                                      0\n",
       "annual_inc:50K-60K                                                      0\n",
       "annual_inc:60K-70K                                                      0\n",
       "annual_inc:70K-80K                                                      0\n",
       "annual_inc:80K-90K                                                      0\n",
       "annual_inc:90K-100K                                                     0\n",
       "annual_inc:100K-120K                                                    0\n",
       "annual_inc:120K-150K                                                    0\n",
       "annual_inc:>150K                                                        0\n",
       "mths_since_last_delinq:Missing                                          0\n",
       "mths_since_last_delinq:0-3                                              0\n",
       "mths_since_last_delinq:4-22                                             0\n",
       "mths_since_last_delinq:23-37                                            0\n",
       "mths_since_last_delinq:38-56                                            0\n",
       "mths_since_last_delinq:57-60                                            0\n",
       "mths_since_last_delinq:61-82                                            0\n",
       "mths_since_last_delinq:>=83                                             0\n",
       "dti_factor                                                              0\n",
       "dti:<=1.4                                                               0\n",
       "dti:1.4-3.5                                                             0\n",
       "dti:3.5-8.4                                                             0\n",
       "dti:8.4-10.5                                                            0\n",
       "dti:10.5-15.4                                                           0\n",
       "dti:15.4-18.2                                                           0\n",
       "dti:18.2-21.7                                                           0\n",
       "dti:21.7-26.6                                                           0\n",
       "dti:26.6-35                                                             0\n",
       "dti:>35                                                                 0\n",
       "mths_since_last_record:Missing                                          0\n",
       "mths_since_last_record:0-2                                              0\n",
       "mths_since_last_record:3-14                                             0\n",
       "mths_since_last_record:15-21                                            0\n",
       "mths_since_last_record:22-31                                            0\n",
       "mths_since_last_record:32-50                                            0\n",
       "mths_since_last_record:51-70                                            0\n",
       "mths_since_last_record:71-79                                            0\n",
       "mths_since_last_record:80-84                                            0\n",
       "mths_since_last_record:85-96                                            0\n",
       "mths_since_last_record:>=97                                             0\n",
       "good_bad                                                                0\n",
       "dtype: int64"
      ]
     },
     "execution_count": 102,
     "metadata": {},
     "output_type": "execute_result"
    }
   ],
   "source": [
    "df_prepr.isnull().sum()"
   ]
  },
  {
   "cell_type": "code",
   "execution_count": 103,
   "id": "16adeaa1",
   "metadata": {},
   "outputs": [],
   "source": [
    "df_prepr['mths_since_last_delinq'].fillna(0, inplace=True)\n",
    "df_prepr['mths_since_last_record'].fillna(0, inplace=True)"
   ]
  },
  {
   "cell_type": "code",
   "execution_count": 104,
   "id": "225cb157",
   "metadata": {},
   "outputs": [],
   "source": [
    "df_prepr_lgd_ead = df_prepr[features_all]\n",
    "df_prepr_lgd_ead = df_prepr_lgd_ead.drop(ref_categories, axis=1)"
   ]
  },
  {
   "cell_type": "code",
   "execution_count": 105,
   "id": "30acef20",
   "metadata": {},
   "outputs": [],
   "source": [
    "# LGD = 1 - recovery rate \n",
    "df_prepr['RR_st1'] = clf_rf_lgd_st1.predict(df_prepr_lgd_ead)\n",
    "df_prepr['RR_st2'] = lm_lgd_st2.predict(df_prepr_lgd_ead)\n",
    "df_prepr['RR'] = df_prepr['RR_st1'] * df_prepr['RR_st2']\n",
    "\n",
    "df_prepr['RR'] = np.where(df_prepr['RR'] < 0, 0, df_prepr['RR'])\n",
    "df_prepr['RR'] = np.where(df_prepr['RR'] > 1, 1, df_prepr['RR'])"
   ]
  },
  {
   "cell_type": "code",
   "execution_count": 106,
   "id": "7ae7a082",
   "metadata": {},
   "outputs": [],
   "source": [
    "df_prepr['LGD'] = 1 - df_prepr['RR']"
   ]
  },
  {
   "cell_type": "code",
   "execution_count": 107,
   "id": "6174f760",
   "metadata": {},
   "outputs": [
    {
     "data": {
      "text/plain": [
       "count    466285.000000\n",
       "mean          0.953802\n",
       "std           0.055216\n",
       "min           0.000000\n",
       "25%           0.898181\n",
       "50%           1.000000\n",
       "75%           1.000000\n",
       "max           1.000000\n",
       "Name: LGD, dtype: float64"
      ]
     },
     "execution_count": 107,
     "metadata": {},
     "output_type": "execute_result"
    }
   ],
   "source": [
    "df_prepr['LGD'].describe()"
   ]
  },
  {
   "cell_type": "code",
   "execution_count": 108,
   "id": "dec08c33",
   "metadata": {},
   "outputs": [],
   "source": [
    "# EAD = CCF * funded amount\n",
    "df_prepr['CCF'] = lm_ead.predict(df_prepr_lgd_ead)\n",
    "df_prepr['CCF'] = np.where(df_prepr['CCF'] < 0, 0, df_prepr['CCF'])\n",
    "df_prepr['CCF'] = np.where(df_prepr['CCF'] > 1, 1, df_prepr['CCF'])"
   ]
  },
  {
   "cell_type": "code",
   "execution_count": 109,
   "id": "ad92c071",
   "metadata": {},
   "outputs": [],
   "source": [
    "df_prepr['EAD'] = df_prepr['CCF'] * df_prepr['funded_amnt']"
   ]
  },
  {
   "cell_type": "code",
   "execution_count": 110,
   "id": "289aa676",
   "metadata": {},
   "outputs": [
    {
     "data": {
      "text/plain": [
       "count    466285.000000\n",
       "mean      10800.141073\n",
       "std        6931.590316\n",
       "min         188.275106\n",
       "25%        5485.204226\n",
       "50%        9194.410824\n",
       "75%       14668.732685\n",
       "max       35000.000000\n",
       "Name: EAD, dtype: float64"
      ]
     },
     "execution_count": 110,
     "metadata": {},
     "output_type": "execute_result"
    }
   ],
   "source": [
    "df_prepr['EAD'].describe()"
   ]
  },
  {
   "cell_type": "code",
   "execution_count": 111,
   "id": "1e8ad431",
   "metadata": {},
   "outputs": [
    {
     "data": {
      "text/html": [
       "<div>\n",
       "<style scoped>\n",
       "    .dataframe tbody tr th:only-of-type {\n",
       "        vertical-align: middle;\n",
       "    }\n",
       "\n",
       "    .dataframe tbody tr th {\n",
       "        vertical-align: top;\n",
       "    }\n",
       "\n",
       "    .dataframe thead th {\n",
       "        text-align: right;\n",
       "    }\n",
       "</style>\n",
       "<table border=\"1\" class=\"dataframe\">\n",
       "  <thead>\n",
       "    <tr style=\"text-align: right;\">\n",
       "      <th></th>\n",
       "      <th>id</th>\n",
       "      <th>member_id</th>\n",
       "      <th>loan_amnt</th>\n",
       "      <th>funded_amnt</th>\n",
       "      <th>funded_amnt_inv</th>\n",
       "      <th>term</th>\n",
       "      <th>int_rate</th>\n",
       "      <th>installment</th>\n",
       "      <th>grade</th>\n",
       "      <th>sub_grade</th>\n",
       "      <th>...</th>\n",
       "      <th>mths_since_last_record:80-84</th>\n",
       "      <th>mths_since_last_record:85-96</th>\n",
       "      <th>mths_since_last_record:&gt;=97</th>\n",
       "      <th>good_bad</th>\n",
       "      <th>RR_st1</th>\n",
       "      <th>RR_st2</th>\n",
       "      <th>RR</th>\n",
       "      <th>LGD</th>\n",
       "      <th>CCF</th>\n",
       "      <th>EAD</th>\n",
       "    </tr>\n",
       "  </thead>\n",
       "  <tbody>\n",
       "    <tr>\n",
       "      <th>58619</th>\n",
       "      <td>9011631</td>\n",
       "      <td>10803033</td>\n",
       "      <td>25000</td>\n",
       "      <td>25000</td>\n",
       "      <td>25000.0</td>\n",
       "      <td>36 months</td>\n",
       "      <td>13.67</td>\n",
       "      <td>850.44</td>\n",
       "      <td>B</td>\n",
       "      <td>B5</td>\n",
       "      <td>...</td>\n",
       "      <td>0</td>\n",
       "      <td>0</td>\n",
       "      <td>0</td>\n",
       "      <td>1</td>\n",
       "      <td>1</td>\n",
       "      <td>0.111395</td>\n",
       "      <td>0.111395</td>\n",
       "      <td>0.888605</td>\n",
       "      <td>0.666552</td>\n",
       "      <td>16663.794158</td>\n",
       "    </tr>\n",
       "    <tr>\n",
       "      <th>389825</th>\n",
       "      <td>16421396</td>\n",
       "      <td>18503935</td>\n",
       "      <td>7150</td>\n",
       "      <td>7150</td>\n",
       "      <td>7150.0</td>\n",
       "      <td>36 months</td>\n",
       "      <td>10.99</td>\n",
       "      <td>234.05</td>\n",
       "      <td>B</td>\n",
       "      <td>B3</td>\n",
       "      <td>...</td>\n",
       "      <td>0</td>\n",
       "      <td>0</td>\n",
       "      <td>0</td>\n",
       "      <td>1</td>\n",
       "      <td>0</td>\n",
       "      <td>0.129192</td>\n",
       "      <td>0.000000</td>\n",
       "      <td>1.000000</td>\n",
       "      <td>0.728631</td>\n",
       "      <td>5209.709108</td>\n",
       "    </tr>\n",
       "    <tr>\n",
       "      <th>119082</th>\n",
       "      <td>6094970</td>\n",
       "      <td>7567123</td>\n",
       "      <td>33950</td>\n",
       "      <td>33950</td>\n",
       "      <td>33950.0</td>\n",
       "      <td>36 months</td>\n",
       "      <td>15.22</td>\n",
       "      <td>1180.55</td>\n",
       "      <td>C</td>\n",
       "      <td>C3</td>\n",
       "      <td>...</td>\n",
       "      <td>0</td>\n",
       "      <td>0</td>\n",
       "      <td>0</td>\n",
       "      <td>0</td>\n",
       "      <td>1</td>\n",
       "      <td>0.096859</td>\n",
       "      <td>0.096859</td>\n",
       "      <td>0.903141</td>\n",
       "      <td>0.649972</td>\n",
       "      <td>22066.542649</td>\n",
       "    </tr>\n",
       "    <tr>\n",
       "      <th>232381</th>\n",
       "      <td>37107753</td>\n",
       "      <td>39870543</td>\n",
       "      <td>16800</td>\n",
       "      <td>16800</td>\n",
       "      <td>16800.0</td>\n",
       "      <td>60 months</td>\n",
       "      <td>11.44</td>\n",
       "      <td>368.97</td>\n",
       "      <td>B</td>\n",
       "      <td>B4</td>\n",
       "      <td>...</td>\n",
       "      <td>0</td>\n",
       "      <td>0</td>\n",
       "      <td>0</td>\n",
       "      <td>1</td>\n",
       "      <td>0</td>\n",
       "      <td>0.136116</td>\n",
       "      <td>0.000000</td>\n",
       "      <td>1.000000</td>\n",
       "      <td>0.833909</td>\n",
       "      <td>14009.672847</td>\n",
       "    </tr>\n",
       "    <tr>\n",
       "      <th>155122</th>\n",
       "      <td>3733016</td>\n",
       "      <td>4726207</td>\n",
       "      <td>10000</td>\n",
       "      <td>10000</td>\n",
       "      <td>10000.0</td>\n",
       "      <td>36 months</td>\n",
       "      <td>13.11</td>\n",
       "      <td>337.47</td>\n",
       "      <td>B</td>\n",
       "      <td>B4</td>\n",
       "      <td>...</td>\n",
       "      <td>0</td>\n",
       "      <td>0</td>\n",
       "      <td>0</td>\n",
       "      <td>1</td>\n",
       "      <td>0</td>\n",
       "      <td>0.106962</td>\n",
       "      <td>0.000000</td>\n",
       "      <td>1.000000</td>\n",
       "      <td>0.648900</td>\n",
       "      <td>6488.998967</td>\n",
       "    </tr>\n",
       "  </tbody>\n",
       "</table>\n",
       "<p>5 rows × 338 columns</p>\n",
       "</div>"
      ],
      "text/plain": [
       "              id  member_id  loan_amnt  funded_amnt  funded_amnt_inv  \\\n",
       "58619    9011631   10803033      25000        25000          25000.0   \n",
       "389825  16421396   18503935       7150         7150           7150.0   \n",
       "119082   6094970    7567123      33950        33950          33950.0   \n",
       "232381  37107753   39870543      16800        16800          16800.0   \n",
       "155122   3733016    4726207      10000        10000          10000.0   \n",
       "\n",
       "              term  int_rate  installment grade sub_grade  ...  \\\n",
       "58619    36 months     13.67       850.44     B        B5  ...   \n",
       "389825   36 months     10.99       234.05     B        B3  ...   \n",
       "119082   36 months     15.22      1180.55     C        C3  ...   \n",
       "232381   60 months     11.44       368.97     B        B4  ...   \n",
       "155122   36 months     13.11       337.47     B        B4  ...   \n",
       "\n",
       "       mths_since_last_record:80-84 mths_since_last_record:85-96  \\\n",
       "58619                             0                            0   \n",
       "389825                            0                            0   \n",
       "119082                            0                            0   \n",
       "232381                            0                            0   \n",
       "155122                            0                            0   \n",
       "\n",
       "       mths_since_last_record:>=97  good_bad RR_st1    RR_st2        RR  \\\n",
       "58619                            0         1      1  0.111395  0.111395   \n",
       "389825                           0         1      0  0.129192  0.000000   \n",
       "119082                           0         0      1  0.096859  0.096859   \n",
       "232381                           0         1      0  0.136116  0.000000   \n",
       "155122                           0         1      0  0.106962  0.000000   \n",
       "\n",
       "             LGD       CCF           EAD  \n",
       "58619   0.888605  0.666552  16663.794158  \n",
       "389825  1.000000  0.728631   5209.709108  \n",
       "119082  0.903141  0.649972  22066.542649  \n",
       "232381  1.000000  0.833909  14009.672847  \n",
       "155122  1.000000  0.648900   6488.998967  \n",
       "\n",
       "[5 rows x 338 columns]"
      ]
     },
     "execution_count": 111,
     "metadata": {},
     "output_type": "execute_result"
    }
   ],
   "source": [
    "df_prepr.head()"
   ]
  },
  {
   "cell_type": "code",
   "execution_count": 112,
   "id": "02d88f6d",
   "metadata": {},
   "outputs": [],
   "source": [
    "df_X_pd = df_prepr"
   ]
  },
  {
   "cell_type": "code",
   "execution_count": 113,
   "id": "050eb224",
   "metadata": {},
   "outputs": [
    {
     "data": {
      "text/plain": [
       "(466285, 338)"
      ]
     },
     "execution_count": 113,
     "metadata": {},
     "output_type": "execute_result"
    }
   ],
   "source": [
    "df_X_pd.shape"
   ]
  },
  {
   "cell_type": "code",
   "execution_count": 114,
   "id": "bcf72667",
   "metadata": {},
   "outputs": [
    {
     "data": {
      "text/html": [
       "<div>\n",
       "<style scoped>\n",
       "    .dataframe tbody tr th:only-of-type {\n",
       "        vertical-align: middle;\n",
       "    }\n",
       "\n",
       "    .dataframe tbody tr th {\n",
       "        vertical-align: top;\n",
       "    }\n",
       "\n",
       "    .dataframe thead th {\n",
       "        text-align: right;\n",
       "    }\n",
       "</style>\n",
       "<table border=\"1\" class=\"dataframe\">\n",
       "  <thead>\n",
       "    <tr style=\"text-align: right;\">\n",
       "      <th></th>\n",
       "      <th>id</th>\n",
       "      <th>member_id</th>\n",
       "      <th>loan_amnt</th>\n",
       "      <th>funded_amnt</th>\n",
       "      <th>funded_amnt_inv</th>\n",
       "      <th>term</th>\n",
       "      <th>int_rate</th>\n",
       "      <th>installment</th>\n",
       "      <th>grade</th>\n",
       "      <th>sub_grade</th>\n",
       "      <th>...</th>\n",
       "      <th>mths_since_last_record:80-84</th>\n",
       "      <th>mths_since_last_record:85-96</th>\n",
       "      <th>mths_since_last_record:&gt;=97</th>\n",
       "      <th>good_bad</th>\n",
       "      <th>RR_st1</th>\n",
       "      <th>RR_st2</th>\n",
       "      <th>RR</th>\n",
       "      <th>LGD</th>\n",
       "      <th>CCF</th>\n",
       "      <th>EAD</th>\n",
       "    </tr>\n",
       "  </thead>\n",
       "  <tbody>\n",
       "    <tr>\n",
       "      <th>58619</th>\n",
       "      <td>9011631</td>\n",
       "      <td>10803033</td>\n",
       "      <td>25000</td>\n",
       "      <td>25000</td>\n",
       "      <td>25000.0</td>\n",
       "      <td>36 months</td>\n",
       "      <td>13.67</td>\n",
       "      <td>850.44</td>\n",
       "      <td>B</td>\n",
       "      <td>B5</td>\n",
       "      <td>...</td>\n",
       "      <td>0</td>\n",
       "      <td>0</td>\n",
       "      <td>0</td>\n",
       "      <td>1</td>\n",
       "      <td>1</td>\n",
       "      <td>0.111395</td>\n",
       "      <td>0.111395</td>\n",
       "      <td>0.888605</td>\n",
       "      <td>0.666552</td>\n",
       "      <td>16663.794158</td>\n",
       "    </tr>\n",
       "    <tr>\n",
       "      <th>389825</th>\n",
       "      <td>16421396</td>\n",
       "      <td>18503935</td>\n",
       "      <td>7150</td>\n",
       "      <td>7150</td>\n",
       "      <td>7150.0</td>\n",
       "      <td>36 months</td>\n",
       "      <td>10.99</td>\n",
       "      <td>234.05</td>\n",
       "      <td>B</td>\n",
       "      <td>B3</td>\n",
       "      <td>...</td>\n",
       "      <td>0</td>\n",
       "      <td>0</td>\n",
       "      <td>0</td>\n",
       "      <td>1</td>\n",
       "      <td>0</td>\n",
       "      <td>0.129192</td>\n",
       "      <td>0.000000</td>\n",
       "      <td>1.000000</td>\n",
       "      <td>0.728631</td>\n",
       "      <td>5209.709108</td>\n",
       "    </tr>\n",
       "    <tr>\n",
       "      <th>119082</th>\n",
       "      <td>6094970</td>\n",
       "      <td>7567123</td>\n",
       "      <td>33950</td>\n",
       "      <td>33950</td>\n",
       "      <td>33950.0</td>\n",
       "      <td>36 months</td>\n",
       "      <td>15.22</td>\n",
       "      <td>1180.55</td>\n",
       "      <td>C</td>\n",
       "      <td>C3</td>\n",
       "      <td>...</td>\n",
       "      <td>0</td>\n",
       "      <td>0</td>\n",
       "      <td>0</td>\n",
       "      <td>0</td>\n",
       "      <td>1</td>\n",
       "      <td>0.096859</td>\n",
       "      <td>0.096859</td>\n",
       "      <td>0.903141</td>\n",
       "      <td>0.649972</td>\n",
       "      <td>22066.542649</td>\n",
       "    </tr>\n",
       "    <tr>\n",
       "      <th>232381</th>\n",
       "      <td>37107753</td>\n",
       "      <td>39870543</td>\n",
       "      <td>16800</td>\n",
       "      <td>16800</td>\n",
       "      <td>16800.0</td>\n",
       "      <td>60 months</td>\n",
       "      <td>11.44</td>\n",
       "      <td>368.97</td>\n",
       "      <td>B</td>\n",
       "      <td>B4</td>\n",
       "      <td>...</td>\n",
       "      <td>0</td>\n",
       "      <td>0</td>\n",
       "      <td>0</td>\n",
       "      <td>1</td>\n",
       "      <td>0</td>\n",
       "      <td>0.136116</td>\n",
       "      <td>0.000000</td>\n",
       "      <td>1.000000</td>\n",
       "      <td>0.833909</td>\n",
       "      <td>14009.672847</td>\n",
       "    </tr>\n",
       "    <tr>\n",
       "      <th>155122</th>\n",
       "      <td>3733016</td>\n",
       "      <td>4726207</td>\n",
       "      <td>10000</td>\n",
       "      <td>10000</td>\n",
       "      <td>10000.0</td>\n",
       "      <td>36 months</td>\n",
       "      <td>13.11</td>\n",
       "      <td>337.47</td>\n",
       "      <td>B</td>\n",
       "      <td>B4</td>\n",
       "      <td>...</td>\n",
       "      <td>0</td>\n",
       "      <td>0</td>\n",
       "      <td>0</td>\n",
       "      <td>1</td>\n",
       "      <td>0</td>\n",
       "      <td>0.106962</td>\n",
       "      <td>0.000000</td>\n",
       "      <td>1.000000</td>\n",
       "      <td>0.648900</td>\n",
       "      <td>6488.998967</td>\n",
       "    </tr>\n",
       "  </tbody>\n",
       "</table>\n",
       "<p>5 rows × 338 columns</p>\n",
       "</div>"
      ],
      "text/plain": [
       "              id  member_id  loan_amnt  funded_amnt  funded_amnt_inv  \\\n",
       "58619    9011631   10803033      25000        25000          25000.0   \n",
       "389825  16421396   18503935       7150         7150           7150.0   \n",
       "119082   6094970    7567123      33950        33950          33950.0   \n",
       "232381  37107753   39870543      16800        16800          16800.0   \n",
       "155122   3733016    4726207      10000        10000          10000.0   \n",
       "\n",
       "              term  int_rate  installment grade sub_grade  ...  \\\n",
       "58619    36 months     13.67       850.44     B        B5  ...   \n",
       "389825   36 months     10.99       234.05     B        B3  ...   \n",
       "119082   36 months     15.22      1180.55     C        C3  ...   \n",
       "232381   60 months     11.44       368.97     B        B4  ...   \n",
       "155122   36 months     13.11       337.47     B        B4  ...   \n",
       "\n",
       "       mths_since_last_record:80-84 mths_since_last_record:85-96  \\\n",
       "58619                             0                            0   \n",
       "389825                            0                            0   \n",
       "119082                            0                            0   \n",
       "232381                            0                            0   \n",
       "155122                            0                            0   \n",
       "\n",
       "       mths_since_last_record:>=97  good_bad RR_st1    RR_st2        RR  \\\n",
       "58619                            0         1      1  0.111395  0.111395   \n",
       "389825                           0         1      0  0.129192  0.000000   \n",
       "119082                           0         0      1  0.096859  0.096859   \n",
       "232381                           0         1      0  0.136116  0.000000   \n",
       "155122                           0         1      0  0.106962  0.000000   \n",
       "\n",
       "             LGD       CCF           EAD  \n",
       "58619   0.888605  0.666552  16663.794158  \n",
       "389825  1.000000  0.728631   5209.709108  \n",
       "119082  0.903141  0.649972  22066.542649  \n",
       "232381  1.000000  0.833909  14009.672847  \n",
       "155122  1.000000  0.648900   6488.998967  \n",
       "\n",
       "[5 rows x 338 columns]"
      ]
     },
     "execution_count": 114,
     "metadata": {},
     "output_type": "execute_result"
    }
   ],
   "source": [
    "df_X_pd.head()"
   ]
  },
  {
   "cell_type": "code",
   "execution_count": 115,
   "id": "b15f6610",
   "metadata": {},
   "outputs": [],
   "source": [
    "features_all_pd = ['addr_state:ND_NE_IA_NV_FL_HI_AL',\n",
    "'addr_state:NM_VA',\n",
    "'addr_state:NY',\n",
    "'addr_state:OK_TN_MO_LA_MD_NC',\n",
    "'addr_state:CA',\n",
    "'addr_state:UT_KY_AZ_NJ',\n",
    "'addr_state:AR_MI_PA_OH_MN',\n",
    "'addr_state:RI_MA_DE_SD_IN',\n",
    "'addr_state:GA_WA_OR',\n",
    "'addr_state:WI_MT',\n",
    "'addr_state:TX',\n",
    "'addr_state:IL_CT',\n",
    "'addr_state:KS_SC_CO_VT_AK_MS',\n",
    "'addr_state:WV_NH_WY_DC_ME_ID',   \n",
    "'grade:A',\n",
    "'grade:B',\n",
    "'grade:C',\n",
    "'grade:D',\n",
    "'grade:E',\n",
    "'grade:F',\n",
    "'grade:G',\n",
    "'home_ownership:OTHER_NONE_RENT_ANY',\n",
    "'home_ownership:OWN',\n",
    "'home_ownership:MORTGAGE',\n",
    "'verification_status:Not Verified',\n",
    "'verification_status:Source Verified',\n",
    "'verification_status:Verified',                                            \n",
    "'purpose:sm_b__edu__mov__ren_en__house__oth',\n",
    "'purpose:med__wed__vacation',\n",
    "'purpose:debt_consolidation',                                            \n",
    "'purpose:home_impr__major_purch__car',\n",
    "'purpose:credit_card',                                             \n",
    "'initial_list_status:f',\n",
    "'initial_list_status:w',\n",
    "'term:36',\n",
    "'term:60',                                            \n",
    "'emp_length:0',\n",
    "'emp_length:1',\n",
    "'emp_length:2-4',\n",
    "'emp_length:5-6',\n",
    "'emp_length:7-9',\n",
    "'emp_length:10',                                                                   \n",
    "'mths_since_issue_d:<104',\n",
    "'mths_since_issue_d:104-105',\n",
    "'mths_since_issue_d:105-110',\n",
    "'mths_since_issue_d:110-114',\n",
    "'mths_since_issue_d:114-125',\n",
    "'mths_since_issue_d:125-134',\n",
    "'mths_since_issue_d:134-153',\n",
    "'mths_since_issue_d:153-170',                                             \n",
    "'mths_since_issue_d:170-186',\n",
    "'mths_since_issue_d:>=186',                                            \n",
    "'int_rate:<=9.548',\n",
    "'int_rate:9.548-12.025',\n",
    "'int_rate:12.025-15.74',\n",
    "'int_rate:15.74-21.106',\n",
    "'int_rate:>21.106',                                            \n",
    "'mths_since_earliest_cr_line:<304',                       \n",
    "'mths_since_earliest_cr_line:304-418',\n",
    "'mths_since_earliest_cr_line:418-493',\n",
    "'mths_since_earliest_cr_line:493-512',\n",
    "'mths_since_earliest_cr_line:512-607',\n",
    "'mths_since_earliest_cr_line:607-664',\n",
    "'mths_since_earliest_cr_line:>=664',                                             \n",
    "'inq_last_6mths:0',\n",
    "'inq_last_6mths:1-2',\n",
    "'inq_last_6mths:3-6',\n",
    "'inq_last_6mths:>6',           \n",
    "'acc_now_delinq:0',\n",
    "'acc_now_delinq:>=1',\n",
    "'annual_inc:<20K',\n",
    "'annual_inc:20K-30K',\n",
    "'annual_inc:30K-40K',\n",
    "'annual_inc:40K-50K',\n",
    "'annual_inc:50K-60K',\n",
    "'annual_inc:60K-70K',\n",
    "'annual_inc:70K-80K',\n",
    "'annual_inc:80K-90K',\n",
    "'annual_inc:90K-100K',\n",
    "'annual_inc:100K-120K',\n",
    "'annual_inc:120K-150K',\n",
    "'annual_inc:>150K',\n",
    "'mths_since_last_delinq:Missing',\n",
    "'mths_since_last_delinq:0-3',\n",
    "'mths_since_last_delinq:4-22',\n",
    "'mths_since_last_delinq:23-37',\n",
    "'mths_since_last_delinq:38-56',\n",
    "'mths_since_last_delinq:57-60',\n",
    "'mths_since_last_delinq:61-82',\n",
    "'mths_since_last_delinq:>=83',                                                                                         \n",
    "'dti:<=1.4',\n",
    "'dti:1.4-3.5',\n",
    "'dti:3.5-8.4',\n",
    "'dti:8.4-10.5',                                             \n",
    "'dti:10.5-15.4',\n",
    "'dti:15.4-18.2',\n",
    "'dti:18.2-21.7',\n",
    "'dti:21.7-26.6',\n",
    "'dti:26.6-35',\n",
    "'dti:>35']"
   ]
  },
  {
   "cell_type": "code",
   "execution_count": 116,
   "id": "79ad27c4",
   "metadata": {},
   "outputs": [],
   "source": [
    "ref_categories_pd = ['grade:G',\n",
    "'addr_state:ND_NE_IA_NV_FL_HI_AL',       \n",
    "'home_ownership:OTHER_NONE_RENT_ANY',\n",
    "'verification_status:Verified',\n",
    "'purpose:sm_b__edu__mov__ren_en__house__oth',\n",
    "'initial_list_status:f',\n",
    "'term:60',\n",
    "'emp_length:0',\n",
    "'mths_since_issue_d:>=186',                  \n",
    "'int_rate:>21.106',\n",
    "'mths_since_earliest_cr_line:>=664',           \n",
    "'inq_last_6mths:>6',\n",
    "'acc_now_delinq:0',\n",
    "'annual_inc:<20K',\n",
    "'mths_since_last_delinq:0-3',                       \n",
    "'dti:>35']"
   ]
  },
  {
   "cell_type": "code",
   "execution_count": 117,
   "id": "4cd6fdc0",
   "metadata": {},
   "outputs": [
    {
     "data": {
      "text/plain": [
       "(466285, 84)"
      ]
     },
     "execution_count": 117,
     "metadata": {},
     "output_type": "execute_result"
    }
   ],
   "source": [
    "df_X_pd = df_X_pd[features_all_pd]\n",
    "df_X_pd = df_X_pd.drop(ref_categories_pd, axis=1)\n",
    "df_X_pd.shape"
   ]
  },
  {
   "cell_type": "code",
   "execution_count": 118,
   "id": "6b8a477c",
   "metadata": {},
   "outputs": [],
   "source": [
    "import scipy.stats as stat\n",
    "class LogisticRegression_with_p_value:\n",
    "    \n",
    "    def __init__(self):                   \n",
    "        self.model = LogisticRegression(class_weight='balanced', max_iter=100000, multi_class='ovr') \n",
    "\n",
    "    def fit(self, X, y):\n",
    "        self.model.fit(X, y)\n",
    "        denom = (2 * (1 + np.cosh(self.model.decision_function(X))))\n",
    "        denom = np.tile(denom, (X.shape[1], 1)).T\n",
    "        F_ij = np.dot((X / denom).T, X)\n",
    "        Cramer_Rao = np.linalg.inv(F_ij)\n",
    "        sigma_estimates = np.sqrt(np.diagonal(Cramer_Rao))\n",
    "        z_scores = self.model.coef_[0] / sigma_estimates\n",
    "        p_value = [stat.norm.sf(abs(x)) * 2 for x in z_scores]\n",
    "        self.coef_ = self.model.coef_\n",
    "        self.intercept_ = self.model.intercept_\n",
    "        self.p_value = p_value       "
   ]
  },
  {
   "cell_type": "code",
   "execution_count": 119,
   "id": "6db80de6",
   "metadata": {},
   "outputs": [],
   "source": [
    "import pickle\n",
    "with open('pd_model.sav', 'rb') as f:\n",
    "    clf_log_pd = pickle.load(f)"
   ]
  },
  {
   "cell_type": "code",
   "execution_count": 120,
   "id": "cc41ed7a",
   "metadata": {},
   "outputs": [
    {
     "data": {
      "text/plain": [
       "58619     1\n",
       "389825    1\n",
       "119082    0\n",
       "232381    1\n",
       "155122    1\n",
       "Name: PD, dtype: int64"
      ]
     },
     "execution_count": 120,
     "metadata": {},
     "output_type": "execute_result"
    }
   ],
   "source": [
    "df_prepr['PD'] = clf_log_pd.model.predict(df_X_pd)\n",
    "df_prepr['PD'].head()"
   ]
  },
  {
   "cell_type": "code",
   "execution_count": 121,
   "id": "f60f833e",
   "metadata": {
    "scrolled": true
   },
   "outputs": [
    {
     "data": {
      "text/plain": [
       "count    466285.000000\n",
       "mean          0.590598\n",
       "std           0.491724\n",
       "min           0.000000\n",
       "25%           0.000000\n",
       "50%           1.000000\n",
       "75%           1.000000\n",
       "max           1.000000\n",
       "Name: PD, dtype: float64"
      ]
     },
     "execution_count": 121,
     "metadata": {},
     "output_type": "execute_result"
    }
   ],
   "source": [
    "df_prepr['PD'].describe()"
   ]
  },
  {
   "cell_type": "code",
   "execution_count": 122,
   "id": "0c40e916",
   "metadata": {},
   "outputs": [
    {
     "data": {
      "text/plain": [
       "(466285, 339)"
      ]
     },
     "execution_count": 122,
     "metadata": {},
     "output_type": "execute_result"
    }
   ],
   "source": [
    "df_prepr.shape"
   ]
  },
  {
   "cell_type": "code",
   "execution_count": 123,
   "id": "4778f1f9",
   "metadata": {},
   "outputs": [
    {
     "data": {
      "text/html": [
       "<div>\n",
       "<style scoped>\n",
       "    .dataframe tbody tr th:only-of-type {\n",
       "        vertical-align: middle;\n",
       "    }\n",
       "\n",
       "    .dataframe tbody tr th {\n",
       "        vertical-align: top;\n",
       "    }\n",
       "\n",
       "    .dataframe thead th {\n",
       "        text-align: right;\n",
       "    }\n",
       "</style>\n",
       "<table border=\"1\" class=\"dataframe\">\n",
       "  <thead>\n",
       "    <tr style=\"text-align: right;\">\n",
       "      <th></th>\n",
       "      <th>id</th>\n",
       "      <th>member_id</th>\n",
       "      <th>loan_amnt</th>\n",
       "      <th>funded_amnt</th>\n",
       "      <th>funded_amnt_inv</th>\n",
       "      <th>term</th>\n",
       "      <th>int_rate</th>\n",
       "      <th>installment</th>\n",
       "      <th>grade</th>\n",
       "      <th>sub_grade</th>\n",
       "      <th>...</th>\n",
       "      <th>mths_since_last_record:85-96</th>\n",
       "      <th>mths_since_last_record:&gt;=97</th>\n",
       "      <th>good_bad</th>\n",
       "      <th>RR_st1</th>\n",
       "      <th>RR_st2</th>\n",
       "      <th>RR</th>\n",
       "      <th>LGD</th>\n",
       "      <th>CCF</th>\n",
       "      <th>EAD</th>\n",
       "      <th>PD</th>\n",
       "    </tr>\n",
       "  </thead>\n",
       "  <tbody>\n",
       "    <tr>\n",
       "      <th>58619</th>\n",
       "      <td>9011631</td>\n",
       "      <td>10803033</td>\n",
       "      <td>25000</td>\n",
       "      <td>25000</td>\n",
       "      <td>25000.0</td>\n",
       "      <td>36 months</td>\n",
       "      <td>13.67</td>\n",
       "      <td>850.44</td>\n",
       "      <td>B</td>\n",
       "      <td>B5</td>\n",
       "      <td>...</td>\n",
       "      <td>0</td>\n",
       "      <td>0</td>\n",
       "      <td>1</td>\n",
       "      <td>1</td>\n",
       "      <td>0.111395</td>\n",
       "      <td>0.111395</td>\n",
       "      <td>0.888605</td>\n",
       "      <td>0.666552</td>\n",
       "      <td>16663.794158</td>\n",
       "      <td>1</td>\n",
       "    </tr>\n",
       "    <tr>\n",
       "      <th>389825</th>\n",
       "      <td>16421396</td>\n",
       "      <td>18503935</td>\n",
       "      <td>7150</td>\n",
       "      <td>7150</td>\n",
       "      <td>7150.0</td>\n",
       "      <td>36 months</td>\n",
       "      <td>10.99</td>\n",
       "      <td>234.05</td>\n",
       "      <td>B</td>\n",
       "      <td>B3</td>\n",
       "      <td>...</td>\n",
       "      <td>0</td>\n",
       "      <td>0</td>\n",
       "      <td>1</td>\n",
       "      <td>0</td>\n",
       "      <td>0.129192</td>\n",
       "      <td>0.000000</td>\n",
       "      <td>1.000000</td>\n",
       "      <td>0.728631</td>\n",
       "      <td>5209.709108</td>\n",
       "      <td>1</td>\n",
       "    </tr>\n",
       "    <tr>\n",
       "      <th>119082</th>\n",
       "      <td>6094970</td>\n",
       "      <td>7567123</td>\n",
       "      <td>33950</td>\n",
       "      <td>33950</td>\n",
       "      <td>33950.0</td>\n",
       "      <td>36 months</td>\n",
       "      <td>15.22</td>\n",
       "      <td>1180.55</td>\n",
       "      <td>C</td>\n",
       "      <td>C3</td>\n",
       "      <td>...</td>\n",
       "      <td>0</td>\n",
       "      <td>0</td>\n",
       "      <td>0</td>\n",
       "      <td>1</td>\n",
       "      <td>0.096859</td>\n",
       "      <td>0.096859</td>\n",
       "      <td>0.903141</td>\n",
       "      <td>0.649972</td>\n",
       "      <td>22066.542649</td>\n",
       "      <td>0</td>\n",
       "    </tr>\n",
       "    <tr>\n",
       "      <th>232381</th>\n",
       "      <td>37107753</td>\n",
       "      <td>39870543</td>\n",
       "      <td>16800</td>\n",
       "      <td>16800</td>\n",
       "      <td>16800.0</td>\n",
       "      <td>60 months</td>\n",
       "      <td>11.44</td>\n",
       "      <td>368.97</td>\n",
       "      <td>B</td>\n",
       "      <td>B4</td>\n",
       "      <td>...</td>\n",
       "      <td>0</td>\n",
       "      <td>0</td>\n",
       "      <td>1</td>\n",
       "      <td>0</td>\n",
       "      <td>0.136116</td>\n",
       "      <td>0.000000</td>\n",
       "      <td>1.000000</td>\n",
       "      <td>0.833909</td>\n",
       "      <td>14009.672847</td>\n",
       "      <td>1</td>\n",
       "    </tr>\n",
       "    <tr>\n",
       "      <th>155122</th>\n",
       "      <td>3733016</td>\n",
       "      <td>4726207</td>\n",
       "      <td>10000</td>\n",
       "      <td>10000</td>\n",
       "      <td>10000.0</td>\n",
       "      <td>36 months</td>\n",
       "      <td>13.11</td>\n",
       "      <td>337.47</td>\n",
       "      <td>B</td>\n",
       "      <td>B4</td>\n",
       "      <td>...</td>\n",
       "      <td>0</td>\n",
       "      <td>0</td>\n",
       "      <td>1</td>\n",
       "      <td>0</td>\n",
       "      <td>0.106962</td>\n",
       "      <td>0.000000</td>\n",
       "      <td>1.000000</td>\n",
       "      <td>0.648900</td>\n",
       "      <td>6488.998967</td>\n",
       "      <td>1</td>\n",
       "    </tr>\n",
       "  </tbody>\n",
       "</table>\n",
       "<p>5 rows × 339 columns</p>\n",
       "</div>"
      ],
      "text/plain": [
       "              id  member_id  loan_amnt  funded_amnt  funded_amnt_inv  \\\n",
       "58619    9011631   10803033      25000        25000          25000.0   \n",
       "389825  16421396   18503935       7150         7150           7150.0   \n",
       "119082   6094970    7567123      33950        33950          33950.0   \n",
       "232381  37107753   39870543      16800        16800          16800.0   \n",
       "155122   3733016    4726207      10000        10000          10000.0   \n",
       "\n",
       "              term  int_rate  installment grade sub_grade  ...  \\\n",
       "58619    36 months     13.67       850.44     B        B5  ...   \n",
       "389825   36 months     10.99       234.05     B        B3  ...   \n",
       "119082   36 months     15.22      1180.55     C        C3  ...   \n",
       "232381   60 months     11.44       368.97     B        B4  ...   \n",
       "155122   36 months     13.11       337.47     B        B4  ...   \n",
       "\n",
       "       mths_since_last_record:85-96 mths_since_last_record:>=97 good_bad  \\\n",
       "58619                             0                           0        1   \n",
       "389825                            0                           0        1   \n",
       "119082                            0                           0        0   \n",
       "232381                            0                           0        1   \n",
       "155122                            0                           0        1   \n",
       "\n",
       "        RR_st1    RR_st2        RR       LGD       CCF           EAD PD  \n",
       "58619        1  0.111395  0.111395  0.888605  0.666552  16663.794158  1  \n",
       "389825       0  0.129192  0.000000  1.000000  0.728631   5209.709108  1  \n",
       "119082       1  0.096859  0.096859  0.903141  0.649972  22066.542649  0  \n",
       "232381       0  0.136116  0.000000  1.000000  0.833909  14009.672847  1  \n",
       "155122       0  0.106962  0.000000  1.000000  0.648900   6488.998967  1  \n",
       "\n",
       "[5 rows x 339 columns]"
      ]
     },
     "execution_count": 123,
     "metadata": {},
     "output_type": "execute_result"
    }
   ],
   "source": [
    "df_prepr.head()"
   ]
  },
  {
   "cell_type": "code",
   "execution_count": 124,
   "id": "3243f20e",
   "metadata": {
    "scrolled": true
   },
   "outputs": [
    {
     "data": {
      "text/html": [
       "<div>\n",
       "<style scoped>\n",
       "    .dataframe tbody tr th:only-of-type {\n",
       "        vertical-align: middle;\n",
       "    }\n",
       "\n",
       "    .dataframe tbody tr th {\n",
       "        vertical-align: top;\n",
       "    }\n",
       "\n",
       "    .dataframe thead th {\n",
       "        text-align: right;\n",
       "    }\n",
       "</style>\n",
       "<table border=\"1\" class=\"dataframe\">\n",
       "  <thead>\n",
       "    <tr style=\"text-align: right;\">\n",
       "      <th></th>\n",
       "      <th>id</th>\n",
       "      <th>member_id</th>\n",
       "      <th>loan_amnt</th>\n",
       "      <th>funded_amnt</th>\n",
       "      <th>funded_amnt_inv</th>\n",
       "      <th>term</th>\n",
       "      <th>int_rate</th>\n",
       "      <th>installment</th>\n",
       "      <th>grade</th>\n",
       "      <th>sub_grade</th>\n",
       "      <th>...</th>\n",
       "      <th>mths_since_last_record:85-96</th>\n",
       "      <th>mths_since_last_record:&gt;=97</th>\n",
       "      <th>good_bad</th>\n",
       "      <th>RR_st1</th>\n",
       "      <th>RR_st2</th>\n",
       "      <th>RR</th>\n",
       "      <th>LGD</th>\n",
       "      <th>CCF</th>\n",
       "      <th>EAD</th>\n",
       "      <th>PD</th>\n",
       "    </tr>\n",
       "  </thead>\n",
       "  <tbody>\n",
       "    <tr>\n",
       "      <th>396139</th>\n",
       "      <td>15570338</td>\n",
       "      <td>17662755</td>\n",
       "      <td>10000</td>\n",
       "      <td>10000</td>\n",
       "      <td>10000.0</td>\n",
       "      <td>60 months</td>\n",
       "      <td>14.64</td>\n",
       "      <td>236.02</td>\n",
       "      <td>C</td>\n",
       "      <td>C3</td>\n",
       "      <td>...</td>\n",
       "      <td>0</td>\n",
       "      <td>0</td>\n",
       "      <td>1</td>\n",
       "      <td>0</td>\n",
       "      <td>0.158822</td>\n",
       "      <td>0.000000</td>\n",
       "      <td>1.000000</td>\n",
       "      <td>0.837576</td>\n",
       "      <td>8375.760766</td>\n",
       "      <td>1</td>\n",
       "    </tr>\n",
       "    <tr>\n",
       "      <th>154598</th>\n",
       "      <td>3704168</td>\n",
       "      <td>4847642</td>\n",
       "      <td>6375</td>\n",
       "      <td>6375</td>\n",
       "      <td>6325.0</td>\n",
       "      <td>36 months</td>\n",
       "      <td>14.33</td>\n",
       "      <td>218.91</td>\n",
       "      <td>C</td>\n",
       "      <td>C1</td>\n",
       "      <td>...</td>\n",
       "      <td>0</td>\n",
       "      <td>0</td>\n",
       "      <td>1</td>\n",
       "      <td>1</td>\n",
       "      <td>0.117729</td>\n",
       "      <td>0.117729</td>\n",
       "      <td>0.882271</td>\n",
       "      <td>0.677179</td>\n",
       "      <td>4317.017992</td>\n",
       "      <td>0</td>\n",
       "    </tr>\n",
       "    <tr>\n",
       "      <th>455547</th>\n",
       "      <td>10557189</td>\n",
       "      <td>12439182</td>\n",
       "      <td>12000</td>\n",
       "      <td>12000</td>\n",
       "      <td>11950.0</td>\n",
       "      <td>36 months</td>\n",
       "      <td>11.99</td>\n",
       "      <td>398.52</td>\n",
       "      <td>B</td>\n",
       "      <td>B3</td>\n",
       "      <td>...</td>\n",
       "      <td>0</td>\n",
       "      <td>0</td>\n",
       "      <td>1</td>\n",
       "      <td>0</td>\n",
       "      <td>0.113886</td>\n",
       "      <td>0.000000</td>\n",
       "      <td>1.000000</td>\n",
       "      <td>0.672454</td>\n",
       "      <td>8069.452280</td>\n",
       "      <td>1</td>\n",
       "    </tr>\n",
       "    <tr>\n",
       "      <th>337453</th>\n",
       "      <td>22272920</td>\n",
       "      <td>24595732</td>\n",
       "      <td>3200</td>\n",
       "      <td>3200</td>\n",
       "      <td>3200.0</td>\n",
       "      <td>36 months</td>\n",
       "      <td>10.15</td>\n",
       "      <td>103.49</td>\n",
       "      <td>B</td>\n",
       "      <td>B2</td>\n",
       "      <td>...</td>\n",
       "      <td>0</td>\n",
       "      <td>0</td>\n",
       "      <td>1</td>\n",
       "      <td>0</td>\n",
       "      <td>0.153909</td>\n",
       "      <td>0.000000</td>\n",
       "      <td>1.000000</td>\n",
       "      <td>0.726730</td>\n",
       "      <td>2325.535928</td>\n",
       "      <td>1</td>\n",
       "    </tr>\n",
       "    <tr>\n",
       "      <th>281174</th>\n",
       "      <td>30966304</td>\n",
       "      <td>33529488</td>\n",
       "      <td>10000</td>\n",
       "      <td>10000</td>\n",
       "      <td>10000.0</td>\n",
       "      <td>36 months</td>\n",
       "      <td>7.69</td>\n",
       "      <td>311.94</td>\n",
       "      <td>A</td>\n",
       "      <td>A4</td>\n",
       "      <td>...</td>\n",
       "      <td>0</td>\n",
       "      <td>0</td>\n",
       "      <td>1</td>\n",
       "      <td>0</td>\n",
       "      <td>0.112405</td>\n",
       "      <td>0.000000</td>\n",
       "      <td>1.000000</td>\n",
       "      <td>0.710530</td>\n",
       "      <td>7105.298449</td>\n",
       "      <td>1</td>\n",
       "    </tr>\n",
       "  </tbody>\n",
       "</table>\n",
       "<p>5 rows × 339 columns</p>\n",
       "</div>"
      ],
      "text/plain": [
       "              id  member_id  loan_amnt  funded_amnt  funded_amnt_inv  \\\n",
       "396139  15570338   17662755      10000        10000          10000.0   \n",
       "154598   3704168    4847642       6375         6375           6325.0   \n",
       "455547  10557189   12439182      12000        12000          11950.0   \n",
       "337453  22272920   24595732       3200         3200           3200.0   \n",
       "281174  30966304   33529488      10000        10000          10000.0   \n",
       "\n",
       "              term  int_rate  installment grade sub_grade  ...  \\\n",
       "396139   60 months     14.64       236.02     C        C3  ...   \n",
       "154598   36 months     14.33       218.91     C        C1  ...   \n",
       "455547   36 months     11.99       398.52     B        B3  ...   \n",
       "337453   36 months     10.15       103.49     B        B2  ...   \n",
       "281174   36 months      7.69       311.94     A        A4  ...   \n",
       "\n",
       "       mths_since_last_record:85-96 mths_since_last_record:>=97 good_bad  \\\n",
       "396139                            0                           0        1   \n",
       "154598                            0                           0        1   \n",
       "455547                            0                           0        1   \n",
       "337453                            0                           0        1   \n",
       "281174                            0                           0        1   \n",
       "\n",
       "        RR_st1    RR_st2        RR       LGD       CCF          EAD PD  \n",
       "396139       0  0.158822  0.000000  1.000000  0.837576  8375.760766  1  \n",
       "154598       1  0.117729  0.117729  0.882271  0.677179  4317.017992  0  \n",
       "455547       0  0.113886  0.000000  1.000000  0.672454  8069.452280  1  \n",
       "337453       0  0.153909  0.000000  1.000000  0.726730  2325.535928  1  \n",
       "281174       0  0.112405  0.000000  1.000000  0.710530  7105.298449  1  \n",
       "\n",
       "[5 rows x 339 columns]"
      ]
     },
     "execution_count": 124,
     "metadata": {},
     "output_type": "execute_result"
    }
   ],
   "source": [
    "df_prepr.tail()"
   ]
  },
  {
   "cell_type": "code",
   "execution_count": 125,
   "id": "32a61c22",
   "metadata": {},
   "outputs": [],
   "source": [
    "# Expected Loss\n",
    "df_prepr['EL'] = df_prepr['PD'] * df_prepr['LGD'] * df_prepr['EAD']"
   ]
  },
  {
   "cell_type": "code",
   "execution_count": 126,
   "id": "8aa8e4f1",
   "metadata": {
    "scrolled": true
   },
   "outputs": [
    {
     "data": {
      "text/plain": [
       "count    466285.000000\n",
       "mean       6196.232552\n",
       "std        7234.413991\n",
       "min           0.000000\n",
       "25%           0.000000\n",
       "50%        4146.541269\n",
       "75%       10414.785338\n",
       "max       35000.000000\n",
       "Name: EL, dtype: float64"
      ]
     },
     "execution_count": 126,
     "metadata": {},
     "output_type": "execute_result"
    }
   ],
   "source": [
    "df_prepr['EL'].describe()"
   ]
  },
  {
   "cell_type": "code",
   "execution_count": 127,
   "id": "972b9bff",
   "metadata": {},
   "outputs": [
    {
     "data": {
      "text/html": [
       "<div>\n",
       "<style scoped>\n",
       "    .dataframe tbody tr th:only-of-type {\n",
       "        vertical-align: middle;\n",
       "    }\n",
       "\n",
       "    .dataframe tbody tr th {\n",
       "        vertical-align: top;\n",
       "    }\n",
       "\n",
       "    .dataframe thead th {\n",
       "        text-align: right;\n",
       "    }\n",
       "</style>\n",
       "<table border=\"1\" class=\"dataframe\">\n",
       "  <thead>\n",
       "    <tr style=\"text-align: right;\">\n",
       "      <th></th>\n",
       "      <th>funded_amnt</th>\n",
       "      <th>PD</th>\n",
       "      <th>LGD</th>\n",
       "      <th>EAD</th>\n",
       "      <th>EL</th>\n",
       "    </tr>\n",
       "  </thead>\n",
       "  <tbody>\n",
       "    <tr>\n",
       "      <th>58619</th>\n",
       "      <td>25000</td>\n",
       "      <td>1</td>\n",
       "      <td>0.888605</td>\n",
       "      <td>16663.794158</td>\n",
       "      <td>14807.531914</td>\n",
       "    </tr>\n",
       "    <tr>\n",
       "      <th>389825</th>\n",
       "      <td>7150</td>\n",
       "      <td>1</td>\n",
       "      <td>1.000000</td>\n",
       "      <td>5209.709108</td>\n",
       "      <td>5209.709108</td>\n",
       "    </tr>\n",
       "    <tr>\n",
       "      <th>119082</th>\n",
       "      <td>33950</td>\n",
       "      <td>0</td>\n",
       "      <td>0.903141</td>\n",
       "      <td>22066.542649</td>\n",
       "      <td>0.000000</td>\n",
       "    </tr>\n",
       "    <tr>\n",
       "      <th>232381</th>\n",
       "      <td>16800</td>\n",
       "      <td>1</td>\n",
       "      <td>1.000000</td>\n",
       "      <td>14009.672847</td>\n",
       "      <td>14009.672847</td>\n",
       "    </tr>\n",
       "    <tr>\n",
       "      <th>155122</th>\n",
       "      <td>10000</td>\n",
       "      <td>1</td>\n",
       "      <td>1.000000</td>\n",
       "      <td>6488.998967</td>\n",
       "      <td>6488.998967</td>\n",
       "    </tr>\n",
       "  </tbody>\n",
       "</table>\n",
       "</div>"
      ],
      "text/plain": [
       "        funded_amnt  PD       LGD           EAD            EL\n",
       "58619         25000   1  0.888605  16663.794158  14807.531914\n",
       "389825         7150   1  1.000000   5209.709108   5209.709108\n",
       "119082        33950   0  0.903141  22066.542649      0.000000\n",
       "232381        16800   1  1.000000  14009.672847  14009.672847\n",
       "155122        10000   1  1.000000   6488.998967   6488.998967"
      ]
     },
     "execution_count": 127,
     "metadata": {},
     "output_type": "execute_result"
    }
   ],
   "source": [
    "df_prepr[['funded_amnt', 'PD', 'LGD', 'EAD', 'EL']].head()"
   ]
  },
  {
   "cell_type": "code",
   "execution_count": 128,
   "id": "a3b31333",
   "metadata": {
    "scrolled": true
   },
   "outputs": [
    {
     "data": {
      "text/plain": [
       "2889210295.719247"
      ]
     },
     "execution_count": 128,
     "metadata": {},
     "output_type": "execute_result"
    }
   ],
   "source": [
    "df_prepr['EL'].sum()"
   ]
  }
 ],
 "metadata": {
  "kernelspec": {
   "display_name": "Python 3",
   "language": "python",
   "name": "python3"
  },
  "language_info": {
   "codemirror_mode": {
    "name": "ipython",
    "version": 3
   },
   "file_extension": ".py",
   "mimetype": "text/x-python",
   "name": "python",
   "nbconvert_exporter": "python",
   "pygments_lexer": "ipython3",
   "version": "3.8.8"
  }
 },
 "nbformat": 4,
 "nbformat_minor": 5
}
